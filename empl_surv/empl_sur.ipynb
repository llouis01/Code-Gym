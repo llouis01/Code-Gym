{
 "cells": [
  {
   "cell_type": "code",
   "execution_count": 4,
   "metadata": {},
   "outputs": [],
   "source": [
    "# library imports\n",
    "import pandas as pd\n",
    "from  pyspark.sql import functions as F"
   ]
  },
  {
   "cell_type": "code",
   "execution_count": 5,
   "metadata": {},
   "outputs": [],
   "source": [
    "# import data\n",
    "df = pd.read_csv('survey.csv')"
   ]
  },
  {
   "cell_type": "code",
   "execution_count": 6,
   "metadata": {},
   "outputs": [
    {
     "name": "stdout",
     "output_type": "stream",
     "text": [
      "13      I'm not on my company's health insurance which...\n",
      "15      I have chronic low-level neurological issues t...\n",
      "16      My company does provide healthcare but not to ...\n",
      "24                    Relatively new job. Ask again later\n",
      "25      Sometimes I think  about using drugs for my me...\n",
      "                              ...                        \n",
      "1223    Although my employer does everything they can ...\n",
      "1232    I work at a large university with a track reco...\n",
      "1234    i'm in a country with social health care so my...\n",
      "1245    In australia all organisations of a certain si...\n",
      "1249                                    Bipolar disorder \n",
      "Name: comments, Length: 164, dtype: object\n"
     ]
    }
   ],
   "source": [
    "# drop records with no comment\n",
    "df = df.dropna(subset='comments')\n",
    "print(df.comments)"
   ]
  },
  {
   "cell_type": "code",
   "execution_count": 8,
   "metadata": {},
   "outputs": [
    {
     "name": "stdout",
     "output_type": "stream",
     "text": [
      "              Age\n",
      "count  164.000000\n",
      "mean    32.182927\n",
      "std      7.907639\n",
      "min     -1.000000\n",
      "25%     27.000000\n",
      "50%     32.000000\n",
      "75%     37.000000\n",
      "max     56.000000\n"
     ]
    }
   ],
   "source": [
    "# basic view\n",
    "print(df.describe())"
   ]
  }
 ],
 "metadata": {
  "kernelspec": {
   "display_name": "sparkenv2",
   "language": "python",
   "name": "python3"
  },
  "language_info": {
   "codemirror_mode": {
    "name": "ipython",
    "version": 3
   },
   "file_extension": ".py",
   "mimetype": "text/x-python",
   "name": "python",
   "nbconvert_exporter": "python",
   "pygments_lexer": "ipython3",
   "version": "3.11.5"
  }
 },
 "nbformat": 4,
 "nbformat_minor": 2
}
