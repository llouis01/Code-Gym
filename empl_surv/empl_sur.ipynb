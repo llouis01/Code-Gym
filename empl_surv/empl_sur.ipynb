{
 "cells": [
  {
   "cell_type": "code",
   "execution_count": 2,
   "metadata": {},
   "outputs": [],
   "source": [
    "# library imports\n",
    "import pandas as pd\n",
    "import pyspark\n",
    "import findspark\n",
    "findspark.init()\n",
    "from pyspark import SparkContext as sc\n",
    "from pyspark.sql import SparkSession\n",
    "from  pyspark.sql import functions as F"
   ]
  },
  {
   "cell_type": "code",
   "execution_count": 3,
   "metadata": {},
   "outputs": [],
   "source": [
    "sc = sc('local', 'employee-survey')\n",
    "spark = SparkSession(sc)"
   ]
  },
  {
   "cell_type": "code",
   "execution_count": 89,
   "metadata": {},
   "outputs": [],
   "source": [
    "# import data\n",
    "df = spark.read.csv('survey.csv', header=True)"
   ]
  },
  {
   "cell_type": "code",
   "execution_count": 90,
   "metadata": {},
   "outputs": [
    {
     "name": "stdout",
     "output_type": "stream",
     "text": [
      "+-------------------+---+------+--------------+-----+-------------+--------------+---------+--------------+--------------+-----------+------------+----------+------------+----------------+----------+----------+------------------+-------------------------+-----------------------+------------+------------+-----------------------+---------------------+------------------+---------------+--------------------+\n",
      "|          Timestamp|Age|Gender|       Country|state|self_employed|family_history|treatment|work_interfere|  no_employees|remote_work|tech_company|  benefits|care_options|wellness_program| seek_help| anonymity|             leave|mental_health_consequence|phys_health_consequence|   coworkers|  supervisor|mental_health_interview|phys_health_interview|mental_vs_physical|obs_consequence|            comments|\n",
      "+-------------------+---+------+--------------+-----+-------------+--------------+---------+--------------+--------------+-----------+------------+----------+------------+----------------+----------+----------+------------------+-------------------------+-----------------------+------------+------------+-----------------------+---------------------+------------------+---------------+--------------------+\n",
      "|2014-08-27 11:29:31| 37|Female| United States|   IL|           NA|            No|      Yes|         Often|          6-25|         No|         Yes|       Yes|    Not sure|              No|       Yes|       Yes|     Somewhat easy|                       No|                     No|Some of them|         Yes|                     No|                Maybe|               Yes|             No|                  NA|\n",
      "|2014-08-27 11:29:37| 44|     M| United States|   IN|           NA|            No|       No|        Rarely|More than 1000|         No|          No|Don't know|          No|      Don't know|Don't know|Don't know|        Don't know|                    Maybe|                     No|          No|          No|                     No|                   No|        Don't know|             No|                  NA|\n",
      "|2014-08-27 11:29:44| 32|  Male|        Canada|   NA|           NA|            No|       No|        Rarely|          6-25|         No|         Yes|        No|          No|              No|        No|Don't know|Somewhat difficult|                       No|                     No|         Yes|         Yes|                    Yes|                  Yes|                No|             No|                  NA|\n",
      "|2014-08-27 11:29:46| 31|  Male|United Kingdom|   NA|           NA|           Yes|      Yes|         Often|        26-100|         No|         Yes|        No|         Yes|              No|        No|        No|Somewhat difficult|                      Yes|                    Yes|Some of them|          No|                  Maybe|                Maybe|                No|            Yes|                  NA|\n",
      "|2014-08-27 11:30:22| 31|  Male| United States|   TX|           NA|            No|       No|         Never|       100-500|        Yes|         Yes|       Yes|          No|      Don't know|Don't know|Don't know|        Don't know|                       No|                     No|Some of them|         Yes|                    Yes|                  Yes|        Don't know|             No|                  NA|\n",
      "|2014-08-27 11:31:22| 33|  Male| United States|   TN|           NA|           Yes|       No|     Sometimes|          6-25|         No|         Yes|       Yes|    Not sure|              No|Don't know|Don't know|        Don't know|                       No|                     No|         Yes|         Yes|                     No|                Maybe|        Don't know|             No|                  NA|\n",
      "|2014-08-27 11:31:50| 35|Female| United States|   MI|           NA|           Yes|      Yes|     Sometimes|           1-5|        Yes|         Yes|        No|          No|              No|        No|        No|Somewhat difficult|                    Maybe|                  Maybe|Some of them|          No|                     No|                   No|        Don't know|             No|                  NA|\n",
      "|2014-08-27 11:32:05| 39|     M|        Canada|   NA|           NA|            No|       No|         Never|           1-5|        Yes|         Yes|        No|         Yes|              No|        No|       Yes|        Don't know|                       No|                     No|          No|          No|                     No|                   No|                No|             No|                  NA|\n",
      "|2014-08-27 11:32:39| 42|Female| United States|   IL|           NA|           Yes|      Yes|     Sometimes|       100-500|         No|         Yes|       Yes|         Yes|              No|        No|        No|    Very difficult|                    Maybe|                     No|         Yes|         Yes|                     No|                Maybe|                No|             No|                  NA|\n",
      "|2014-08-27 11:32:43| 23|  Male|        Canada|   NA|           NA|            No|       No|         Never|        26-100|         No|         Yes|Don't know|          No|      Don't know|Don't know|Don't know|        Don't know|                       No|                     No|         Yes|         Yes|                  Maybe|                Maybe|               Yes|             No|                  NA|\n",
      "|2014-08-27 11:32:44| 31|  Male| United States|   OH|           NA|            No|      Yes|     Sometimes|          6-25|        Yes|         Yes|Don't know|          No|              No|        No|Don't know|        Don't know|                       No|                     No|Some of them|         Yes|                     No|                   No|        Don't know|             No|                  NA|\n",
      "|2014-08-27 11:32:49| 29|  male|      Bulgaria|   NA|           NA|            No|       No|         Never|       100-500|        Yes|         Yes|Don't know|    Not sure|              No|        No|Don't know|        Don't know|                       No|                     No|         Yes|         Yes|                    Yes|                  Yes|        Don't know|             No|                  NA|\n",
      "|2014-08-27 11:33:23| 42|female| United States|   CA|           NA|           Yes|      Yes|     Sometimes|        26-100|         No|          No|       Yes|         Yes|              No|        No|Don't know|Somewhat difficult|                      Yes|                    Yes|         Yes|         Yes|                  Maybe|                Maybe|                No|            Yes|                  NA|\n",
      "|2014-08-27 11:33:26| 36|  Male| United States|   CT|           NA|           Yes|       No|         Never|      500-1000|         No|         Yes|Don't know|    Not sure|              No|Don't know|Don't know|        Don't know|                       No|                     No|         Yes|         Yes|                     No|                   No|        Don't know|             No|I'm not on my com...|\n",
      "|2014-08-27 11:33:57| 27|  Male|        Canada|   NA|           NA|            No|       No|         Never|          6-25|         No|         Yes|Don't know|    Not sure|      Don't know|Don't know|Don't know|     Somewhat easy|                       No|                     No|Some of them|Some of them|                  Maybe|                  Yes|               Yes|             No|                  NA|\n",
      "|2014-08-27 11:34:00| 29|female| United States|   IL|           NA|           Yes|      Yes|        Rarely|        26-100|         No|         Yes|       Yes|    Not sure|              No|        No|Don't know|     Somewhat easy|                       No|                     No|         Yes|Some of them|                  Maybe|                Maybe|        Don't know|             No|I have chronic lo...|\n",
      "|2014-08-27 11:34:20| 23|  Male|United Kingdom|   NA|           NA|            No|      Yes|     Sometimes|        26-100|        Yes|         Yes|Don't know|          No|      Don't know|Don't know|Don't know|         Very easy|                    Maybe|                     No|Some of them|          No|                  Maybe|                Maybe|                No|             No|My company does p...|\n",
      "|2014-08-27 11:34:37| 32|  Male| United States|   TN|           NA|            No|      Yes|     Sometimes|          6-25|         No|         Yes|       Yes|         Yes|              No|Don't know|Don't know|        Don't know|                    Maybe|                     No|Some of them|         Yes|                     No|                   No|                No|             No|                  NA|\n",
      "|2014-08-27 11:34:53| 46|  male| United States|   MD|          Yes|           Yes|       No|     Sometimes|           1-5|        Yes|         Yes|       Yes|    Not sure|             Yes|Don't know|       Yes|         Very easy|                       No|                     No|         Yes|         Yes|                     No|                  Yes|               Yes|            Yes|                  NA|\n",
      "|2014-08-27 11:35:08| 36|  Male|        France|   NA|          Yes|           Yes|       No|            NA|          6-25|        Yes|         Yes|        No|          No|             Yes|        No|       Yes|     Somewhat easy|                       No|                     No|Some of them|Some of them|                  Maybe|                Maybe|        Don't know|             No|                  NA|\n",
      "+-------------------+---+------+--------------+-----+-------------+--------------+---------+--------------+--------------+-----------+------------+----------+------------+----------------+----------+----------+------------------+-------------------------+-----------------------+------------+------------+-----------------------+---------------------+------------------+---------------+--------------------+\n",
      "only showing top 20 rows\n",
      "\n"
     ]
    }
   ],
   "source": [
    "# observe df\n",
    "df.show()"
   ]
  },
  {
   "cell_type": "code",
   "execution_count": 91,
   "metadata": {},
   "outputs": [],
   "source": [
    "# drop NaN comments\n",
    "df = df.filter(F.col('comments') != 'NA')"
   ]
  },
  {
   "cell_type": "code",
   "execution_count": 92,
   "metadata": {},
   "outputs": [
    {
     "name": "stdout",
     "output_type": "stream",
     "text": [
      "+-------+-------------------+-----------------+------+-------------+-----+-------------+--------------+---------+--------------+--------------+-----------+------------+----------+------------+----------------+----------+----------+----------+-------------------------+-----------------------+---------+----------+-----------------------+---------------------+------------------+---------------+--------------------+\n",
      "|summary|          Timestamp|              Age|Gender|      Country|state|self_employed|family_history|treatment|work_interfere|  no_employees|remote_work|tech_company|  benefits|care_options|wellness_program| seek_help| anonymity|     leave|mental_health_consequence|phys_health_consequence|coworkers|supervisor|mental_health_interview|phys_health_interview|mental_vs_physical|obs_consequence|            comments|\n",
      "+-------+-------------------+-----------------+------+-------------+-----+-------------+--------------+---------+--------------+--------------+-----------+------------+----------+------------+----------------+----------+----------+----------+-------------------------+-----------------------+---------+----------+-----------------------+---------------------+------------------+---------------+--------------------+\n",
      "|  count|                164|              164|    29|          164|  164|          164|           164|      164|           164|           164|        164|         164|       164|         164|             164|       164|       164|       164|                      164|                    164|      164|       164|                    164|                  164|               164|            164|                 164|\n",
      "|   mean|               null|32.18292682926829|  null|         null| null|         null|          null|     null|          null|          null|       null|        null|      null|        null|            null|      null|      null|      null|                     null|                   null|     null|      null|                   null|                 null|              null|           null|                null|\n",
      "| stddev|               null|7.907638690742316|  null|         null| null|         null|          null|     null|          null|          null|       null|        null|      null|        null|            null|      null|      null|      null|                     null|                   null|     null|      null|                   null|                 null|              null|           null|                null|\n",
      "|    min|2014-08-27 11:33:26|               -1|female|    Australia|   AL|           NA|            No|       No|            NA|           1-5|         No|          No|Don't know|          No|      Don't know|Don't know|Don't know|Don't know|                    Maybe|                  Maybe|       No|        No|                  Maybe|                Maybe|        Don't know|             No|                    |\n",
      "|    max|2015-07-22 18:57:54|               56|  male|United States|   WY|          Yes|           Yes|      Yes|     Sometimes|More than 1000|        Yes|         Yes|       Yes|         Yes|             Yes|       Yes|       Yes| Very easy|                      Yes|                    Yes|      Yes|       Yes|                    Yes|                  Yes|               Yes|            Yes|you rock for doin...|\n",
      "+-------+-------------------+-----------------+------+-------------+-----+-------------+--------------+---------+--------------+--------------+-----------+------------+----------+------------+----------------+----------+----------+----------+-------------------------+-----------------------+---------+----------+-----------------------+---------------------+------------------+---------------+--------------------+\n",
      "\n",
      "+-------------------+---+------+--------------+-----+-------------+--------------+---------+--------------+--------------+-----------+------------+----------+------------+----------------+----------+----------+------------------+-------------------------+-----------------------+------------+------------+-----------------------+---------------------+------------------+---------------+--------------------+\n",
      "|          Timestamp|Age|Gender|       Country|state|self_employed|family_history|treatment|work_interfere|  no_employees|remote_work|tech_company|  benefits|care_options|wellness_program| seek_help| anonymity|             leave|mental_health_consequence|phys_health_consequence|   coworkers|  supervisor|mental_health_interview|phys_health_interview|mental_vs_physical|obs_consequence|            comments|\n",
      "+-------------------+---+------+--------------+-----+-------------+--------------+---------+--------------+--------------+-----------+------------+----------+------------+----------------+----------+----------+------------------+-------------------------+-----------------------+------------+------------+-----------------------+---------------------+------------------+---------------+--------------------+\n",
      "|2014-08-27 11:33:26| 36|  null| United States|   CT|           NA|           Yes|       No|         Never|      500-1000|         No|         Yes|Don't know|    Not sure|              No|Don't know|Don't know|        Don't know|                       No|                     No|         Yes|         Yes|                     No|                   No|        Don't know|             No|I'm not on my com...|\n",
      "|2014-08-27 11:34:00| 29|  null| United States|   IL|           NA|           Yes|      Yes|        Rarely|        26-100|         No|         Yes|       Yes|    Not sure|              No|        No|Don't know|     Somewhat easy|                       No|                     No|         Yes|Some of them|                  Maybe|                Maybe|        Don't know|             No|I have chronic lo...|\n",
      "|2014-08-27 11:34:20| 23|  null|United Kingdom|   NA|           NA|            No|      Yes|     Sometimes|        26-100|        Yes|         Yes|Don't know|          No|      Don't know|Don't know|Don't know|         Very easy|                    Maybe|                     No|Some of them|          No|                  Maybe|                Maybe|                No|             No|My company does p...|\n",
      "|2014-08-27 11:36:48| 33|  null| United States|   CA|           No|           Yes|      Yes|        Rarely|        26-100|         No|         Yes|       Yes|    Not sure|      Don't know|       Yes|       Yes|        Don't know|                       No|                     No|         Yes|         Yes|                     No|                  Yes|        Don't know|             No|Relatively new jo...|\n",
      "|2014-08-27 11:37:08| 35|  null| United States|   TN|           No|           Yes|      Yes|     Sometimes|More than 1000|         No|          No|       Yes|         Yes|              No|Don't know|        No|         Very easy|                      Yes|                     No|Some of them|         Yes|                     No|                  Yes|                No|             No|Sometimes I think...|\n",
      "|2014-08-27 11:39:36| 42|  null| United States|   WA|           No|           Yes|      Yes|     Sometimes|        26-100|        Yes|         Yes|       Yes|         Yes|             Yes|       Yes|       Yes|         Very easy|                    Maybe|                     No|Some of them|Some of them|                  Maybe|                  Yes|        Don't know|             No|I selected my cur...|\n",
      "|2014-08-27 11:43:36| 38|  null| United States|   TX|           No|           Yes|      Yes|     Sometimes|        26-100|         No|         Yes|       Yes|         Yes|              No|       Yes|       Yes|     Somewhat easy|                       No|                     No|Some of them|         Yes|                     No|                   No|               Yes|             No|Our health plan h...|\n",
      "|2014-08-27 11:44:43| 30|  null| United States|   IL|           No|           Yes|      Yes|        Rarely|        26-100|         No|         Yes|       Yes|          No|              No|Don't know|Don't know|        Don't know|                    Maybe|                     No|Some of them|         Yes|                     No|                   No|        Don't know|             No|I just started a ...|\n",
      "|2014-08-27 11:47:56| 33|  null|        Canada|   NA|           No|           Yes|      Yes|         Often|          6-25|        Yes|         Yes|Don't know|          No|              No|        No|        No|Somewhat difficult|                      Yes|                     No|          No|          No|                     No|                Maybe|        Don't know|             No|In addition to my...|\n",
      "|2014-08-27 11:51:34| 23|  null|     Australia|   NA|           No|           Yes|      Yes|         Often|           1-5|        Yes|         Yes|        No|    Not sure|              No|        No|Don't know|         Very easy|                       No|                     No|Some of them|         Yes|                     No|                Maybe|               Yes|             No|Thanks for doing ...|\n",
      "|2014-08-27 12:15:11| 18|  null|        Russia|   NA|           No|            No|       No|            NA|        26-100|        Yes|         Yes|       Yes|         Yes|              No|        No|       Yes|     Somewhat easy|                       No|                     No|         Yes|         Yes|                    Yes|                  Yes|        Don't know|             No|In Russia we have...|\n",
      "|2014-08-27 12:18:14| 26|  null|        Canada|   NA|           No|           Yes|      Yes|     Sometimes|        26-100|         No|          No|        No|         Yes|              No|        No|        No|    Very difficult|                      Yes|                     No|          No|          No|                     No|                Maybe|                No|            Yes|In my previous wo...|\n",
      "|2014-08-27 12:23:59| 35|  male| United States|   OR|           No|           Yes|      Yes|     Sometimes|        26-100|        Yes|         Yes|Don't know|    Not sure|              No|        No|Don't know|     Somewhat easy|                       No|                     No|Some of them|         Yes|                     No|                Maybe|                No|             No|I've seen negativ...|\n",
      "|2014-08-27 12:38:18| 37|  null|United Kingdom|   NA|          Yes|            No|      Yes|     Sometimes|More than 1000|         No|          No|        No|         Yes|             Yes|       Yes|       Yes|    Very difficult|                      Yes|                    Yes|Some of them|          No|                     No|                Maybe|               Yes|             No|I'm not a permane...|\n",
      "|2014-08-27 12:39:18| 30|  null| United States|   PA|           No|           Yes|       No|            NA|More than 1000|        Yes|         Yes|Don't know|    Not sure|              No|Don't know|Don't know|        Don't know|                    Maybe|                  Maybe|Some of them|Some of them|                     No|                Maybe|        Don't know|             No|I'd be more worri...|\n",
      "|2014-08-27 12:43:28| 27|  null| United States|   UT|           No|            No|      Yes|        Rarely|        26-100|        Yes|         Yes|        No|         Yes|              No|        No|Don't know|Somewhat difficult|                    Maybe|                     No|Some of them|         Yes|                     No|                   No|        Don't know|            Yes|Had a co-worker d...|\n",
      "|2014-08-27 12:43:40| 25|  null| United States|   IL|           No|           Yes|      Yes|     Sometimes|        26-100|         No|         Yes|Don't know|    Not sure|              No|        No|Don't know|         Very easy|                    Maybe|                     No|Some of them|          No|                     No|                   No|        Don't know|            Yes|Family history of...|\n",
      "|2014-08-27 12:43:53| 36|  null|United Kingdom|   NA|           No|            No|      Yes|     Sometimes|More than 1000|         No|          No|       Yes|         Yes|             Yes|       Yes|       Yes|     Somewhat easy|                    Maybe|                  Maybe|Some of them|Some of them|                     No|                Maybe|        Don't know|            Yes|I feel that my em...|\n",
      "|2014-08-27 12:46:03| 33|female| United States|   WA|          Yes|           Yes|      Yes|     Sometimes|           1-5|         No|         Yes|        No|         Yes|             Yes|       Yes|       Yes|    Very difficult|                       No|                     No|Some of them|         Yes|                     No|                  Yes|               Yes|             No|Many of these que...|\n",
      "|2014-08-27 12:47:25| 27|female|United Kingdom|   NA|          Yes|           Yes|       No|            NA|           1-5|        Yes|         Yes|        No|         Yes|              No|        No|       Yes|     Somewhat easy|                       No|                     No|         Yes|         Yes|                     No|                Maybe|               Yes|             No|as a UK-based com...|\n",
      "+-------------------+---+------+--------------+-----+-------------+--------------+---------+--------------+--------------+-----------+------------+----------+------------+----------------+----------+----------+------------------+-------------------------+-----------------------+------------+------------+-----------------------+---------------------+------------------+---------------+--------------------+\n",
      "only showing top 20 rows\n",
      "\n"
     ]
    }
   ],
   "source": [
    "df = df.withColumn('Age', F.col('Age').cast('integer'))\\\n",
    "       .withColumn('Gender', F.lower(F.col('Gender')))\\\n",
    "\n",
    "df = df.withColumn('Gender', F.when(df.Gender == 'm', 'male')\n",
    "                              .when(df.Gender == 'f', 'female')\n",
    "                              .when(df.Gender == 'woman', 'female'))\n",
    "\n",
    "df.show()"
   ]
  },
  {
   "cell_type": "code",
   "execution_count": 129,
   "metadata": {},
   "outputs": [
    {
     "name": "stdout",
     "output_type": "stream",
     "text": [
      "+--------------------+\n",
      "|            comments|\n",
      "+--------------------+\n",
      "|Some of these sho...|\n",
      "|I'm diagnosed wit...|\n",
      "|We don't fucking ...|\n",
      "|Though it doesn't...|\n",
      "|My company does p...|\n",
      "|Many of these que...|\n",
      "|Too many people e...|\n",
      "|I burnt out this ...|\n",
      "|I mostly suffer f...|\n",
      "|When you are an i...|\n",
      "|suffer from CR-PT...|\n",
      "|Since being advis...|\n",
      "|Thank you for you...|\n",
      "|I have an excepti...|\n",
      "|as a UK-based com...|\n",
      "|My employer does ...|\n",
      "|While I have not ...|\n",
      "|Autism is a bitch...|\n",
      "|I went through a ...|\n",
      "|Hi Ed it's Paul D...|\n",
      "+--------------------+\n",
      "only showing top 20 rows\n",
      "\n"
     ]
    }
   ],
   "source": [
    "df.select('comments').distinct().show()"
   ]
  },
  {
   "cell_type": "code",
   "execution_count": 130,
   "metadata": {},
   "outputs": [],
   "source": [
    "df = df.withColumn('user_id', F.monotonically_increasing_id())\n",
    "df = df.select(*[\n",
    " 'user_id',\n",
    " 'Timestamp',\n",
    " 'Age',\n",
    " 'Gender',\n",
    " 'Country',\n",
    " 'state',\n",
    " 'self_employed',\n",
    " 'family_history',\n",
    " 'treatment',\n",
    " 'work_interfere',\n",
    " 'no_employees',\n",
    " 'remote_work',\n",
    " 'tech_company',\n",
    " 'benefits',\n",
    " 'care_options',\n",
    " 'wellness_program',\n",
    " 'seek_help',\n",
    " 'anonymity',\n",
    " 'leave',\n",
    " 'mental_health_consequence',\n",
    " 'phys_health_consequence',\n",
    " 'coworkers',\n",
    " 'supervisor',\n",
    " 'mental_health_interview',\n",
    " 'phys_health_interview',\n",
    " 'mental_vs_physical',\n",
    " 'obs_consequence',\n",
    " 'comments'\n",
    " ])"
   ]
  },
  {
   "cell_type": "code",
   "execution_count": 136,
   "metadata": {},
   "outputs": [
    {
     "name": "stdout",
     "output_type": "stream",
     "text": [
      "+-------+-------------------+---+------+--------------+-----+-------------+--------------+---------+--------------+--------------+-----------+------------+----------+------------+----------------+----------+----------+------------------+-------------------------+-----------------------+------------+------------+-----------------------+---------------------+------------------+---------------+--------------------+\n",
      "|user_id|          Timestamp|Age|Gender|       Country|state|self_employed|family_history|treatment|work_interfere|  no_employees|remote_work|tech_company|  benefits|care_options|wellness_program| seek_help| anonymity|             leave|mental_health_consequence|phys_health_consequence|   coworkers|  supervisor|mental_health_interview|phys_health_interview|mental_vs_physical|obs_consequence|            comments|\n",
      "+-------+-------------------+---+------+--------------+-----+-------------+--------------+---------+--------------+--------------+-----------+------------+----------+------------+----------------+----------+----------+------------------+-------------------------+-----------------------+------------+------------+-----------------------+---------------------+------------------+---------------+--------------------+\n",
      "|      0|2014-08-27 11:33:26| 36|  null| United States|   CT|           NA|           Yes|       No|         Never|      500-1000|         No|         Yes|Don't know|    Not sure|              No|Don't know|Don't know|        Don't know|                       No|                     No|         Yes|         Yes|                     No|                   No|        Don't know|             No|I'm not on my com...|\n",
      "|      1|2014-08-27 11:34:00| 29|  null| United States|   IL|           NA|           Yes|      Yes|        Rarely|        26-100|         No|         Yes|       Yes|    Not sure|              No|        No|Don't know|     Somewhat easy|                       No|                     No|         Yes|Some of them|                  Maybe|                Maybe|        Don't know|             No|I have chronic lo...|\n",
      "|      2|2014-08-27 11:34:20| 23|  null|United Kingdom|   NA|           NA|            No|      Yes|     Sometimes|        26-100|        Yes|         Yes|Don't know|          No|      Don't know|Don't know|Don't know|         Very easy|                    Maybe|                     No|Some of them|          No|                  Maybe|                Maybe|                No|             No|My company does p...|\n",
      "|      3|2014-08-27 11:36:48| 33|  null| United States|   CA|           No|           Yes|      Yes|        Rarely|        26-100|         No|         Yes|       Yes|    Not sure|      Don't know|       Yes|       Yes|        Don't know|                       No|                     No|         Yes|         Yes|                     No|                  Yes|        Don't know|             No|Relatively new jo...|\n",
      "|      4|2014-08-27 11:37:08| 35|  null| United States|   TN|           No|           Yes|      Yes|     Sometimes|More than 1000|         No|          No|       Yes|         Yes|              No|Don't know|        No|         Very easy|                      Yes|                     No|Some of them|         Yes|                     No|                  Yes|                No|             No|Sometimes I think...|\n",
      "|      5|2014-08-27 11:39:36| 42|  null| United States|   WA|           No|           Yes|      Yes|     Sometimes|        26-100|        Yes|         Yes|       Yes|         Yes|             Yes|       Yes|       Yes|         Very easy|                    Maybe|                     No|Some of them|Some of them|                  Maybe|                  Yes|        Don't know|             No|I selected my cur...|\n",
      "|      6|2014-08-27 11:43:36| 38|  null| United States|   TX|           No|           Yes|      Yes|     Sometimes|        26-100|         No|         Yes|       Yes|         Yes|              No|       Yes|       Yes|     Somewhat easy|                       No|                     No|Some of them|         Yes|                     No|                   No|               Yes|             No|Our health plan h...|\n",
      "|      7|2014-08-27 11:44:43| 30|  null| United States|   IL|           No|           Yes|      Yes|        Rarely|        26-100|         No|         Yes|       Yes|          No|              No|Don't know|Don't know|        Don't know|                    Maybe|                     No|Some of them|         Yes|                     No|                   No|        Don't know|             No|I just started a ...|\n",
      "|      8|2014-08-27 11:47:56| 33|  null|        Canada|   NA|           No|           Yes|      Yes|         Often|          6-25|        Yes|         Yes|Don't know|          No|              No|        No|        No|Somewhat difficult|                      Yes|                     No|          No|          No|                     No|                Maybe|        Don't know|             No|In addition to my...|\n",
      "|      9|2014-08-27 11:51:34| 23|  null|     Australia|   NA|           No|           Yes|      Yes|         Often|           1-5|        Yes|         Yes|        No|    Not sure|              No|        No|Don't know|         Very easy|                       No|                     No|Some of them|         Yes|                     No|                Maybe|               Yes|             No|Thanks for doing ...|\n",
      "|     10|2014-08-27 12:15:11| 18|  null|        Russia|   NA|           No|            No|       No|            NA|        26-100|        Yes|         Yes|       Yes|         Yes|              No|        No|       Yes|     Somewhat easy|                       No|                     No|         Yes|         Yes|                    Yes|                  Yes|        Don't know|             No|In Russia we have...|\n",
      "|     11|2014-08-27 12:18:14| 26|  null|        Canada|   NA|           No|           Yes|      Yes|     Sometimes|        26-100|         No|          No|        No|         Yes|              No|        No|        No|    Very difficult|                      Yes|                     No|          No|          No|                     No|                Maybe|                No|            Yes|In my previous wo...|\n",
      "|     12|2014-08-27 12:23:59| 35|  male| United States|   OR|           No|           Yes|      Yes|     Sometimes|        26-100|        Yes|         Yes|Don't know|    Not sure|              No|        No|Don't know|     Somewhat easy|                       No|                     No|Some of them|         Yes|                     No|                Maybe|                No|             No|I've seen negativ...|\n",
      "|     13|2014-08-27 12:38:18| 37|  null|United Kingdom|   NA|          Yes|            No|      Yes|     Sometimes|More than 1000|         No|          No|        No|         Yes|             Yes|       Yes|       Yes|    Very difficult|                      Yes|                    Yes|Some of them|          No|                     No|                Maybe|               Yes|             No|I'm not a permane...|\n",
      "|     14|2014-08-27 12:39:18| 30|  null| United States|   PA|           No|           Yes|       No|            NA|More than 1000|        Yes|         Yes|Don't know|    Not sure|              No|Don't know|Don't know|        Don't know|                    Maybe|                  Maybe|Some of them|Some of them|                     No|                Maybe|        Don't know|             No|I'd be more worri...|\n",
      "|     15|2014-08-27 12:43:28| 27|  null| United States|   UT|           No|            No|      Yes|        Rarely|        26-100|        Yes|         Yes|        No|         Yes|              No|        No|Don't know|Somewhat difficult|                    Maybe|                     No|Some of them|         Yes|                     No|                   No|        Don't know|            Yes|Had a co-worker d...|\n",
      "|     16|2014-08-27 12:43:40| 25|  null| United States|   IL|           No|           Yes|      Yes|     Sometimes|        26-100|         No|         Yes|Don't know|    Not sure|              No|        No|Don't know|         Very easy|                    Maybe|                     No|Some of them|          No|                     No|                   No|        Don't know|            Yes|Family history of...|\n",
      "|     17|2014-08-27 12:43:53| 36|  null|United Kingdom|   NA|           No|            No|      Yes|     Sometimes|More than 1000|         No|          No|       Yes|         Yes|             Yes|       Yes|       Yes|     Somewhat easy|                    Maybe|                  Maybe|Some of them|Some of them|                     No|                Maybe|        Don't know|            Yes|I feel that my em...|\n",
      "|     18|2014-08-27 12:46:03| 33|female| United States|   WA|          Yes|           Yes|      Yes|     Sometimes|           1-5|         No|         Yes|        No|         Yes|             Yes|       Yes|       Yes|    Very difficult|                       No|                     No|Some of them|         Yes|                     No|                  Yes|               Yes|             No|Many of these que...|\n",
      "|     19|2014-08-27 12:47:25| 27|female|United Kingdom|   NA|          Yes|           Yes|       No|            NA|           1-5|        Yes|         Yes|        No|         Yes|              No|        No|       Yes|     Somewhat easy|                       No|                     No|         Yes|         Yes|                     No|                Maybe|               Yes|             No|as a UK-based com...|\n",
      "+-------+-------------------+---+------+--------------+-----+-------------+--------------+---------+--------------+--------------+-----------+------------+----------+------------+----------------+----------+----------+------------------+-------------------------+-----------------------+------------+------------+-----------------------+---------------------+------------------+---------------+--------------------+\n",
      "only showing top 20 rows\n",
      "\n"
     ]
    }
   ],
   "source": [
    "df.show()"
   ]
  }
 ],
 "metadata": {
  "kernelspec": {
   "display_name": "sparkenv2",
   "language": "python",
   "name": "python3"
  },
  "language_info": {
   "codemirror_mode": {
    "name": "ipython",
    "version": 3
   },
   "file_extension": ".py",
   "mimetype": "text/x-python",
   "name": "python",
   "nbconvert_exporter": "python",
   "pygments_lexer": "ipython3",
   "version": "3.11.5"
  }
 },
 "nbformat": 4,
 "nbformat_minor": 2
}
