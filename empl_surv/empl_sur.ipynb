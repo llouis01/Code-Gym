{
 "cells": [
  {
   "cell_type": "code",
   "execution_count": 1,
   "metadata": {},
   "outputs": [],
   "source": [
    "# library imports\n",
    "import pandas as pd\n",
    "import pyspark\n",
    "import findspark\n",
    "findspark.init()\n",
    "from pyspark import SparkContext as sc\n",
    "from pyspark.sql import SparkSession\n",
    "from  pyspark.sql import functions as F"
   ]
  },
  {
   "cell_type": "code",
   "execution_count": 2,
   "metadata": {},
   "outputs": [],
   "source": [
    "sc = sc('local', 'employee-survey')\n",
    "spark = SparkSession(sc)"
   ]
  },
  {
   "cell_type": "code",
   "execution_count": 3,
   "metadata": {},
   "outputs": [],
   "source": [
    "# import data\n",
    "df = spark.read.csv('survey.csv', header=True)"
   ]
  },
  {
   "cell_type": "code",
   "execution_count": 4,
   "metadata": {},
   "outputs": [
    {
     "name": "stdout",
     "output_type": "stream",
     "text": [
      "+-------------------+---+------+--------------+-----+-------------+--------------+---------+--------------+--------------+-----------+------------+----------+------------+----------------+----------+----------+------------------+-------------------------+-----------------------+------------+------------+-----------------------+---------------------+------------------+---------------+--------------------+\n",
      "|          Timestamp|Age|Gender|       Country|state|self_employed|family_history|treatment|work_interfere|  no_employees|remote_work|tech_company|  benefits|care_options|wellness_program| seek_help| anonymity|             leave|mental_health_consequence|phys_health_consequence|   coworkers|  supervisor|mental_health_interview|phys_health_interview|mental_vs_physical|obs_consequence|            comments|\n",
      "+-------------------+---+------+--------------+-----+-------------+--------------+---------+--------------+--------------+-----------+------------+----------+------------+----------------+----------+----------+------------------+-------------------------+-----------------------+------------+------------+-----------------------+---------------------+------------------+---------------+--------------------+\n",
      "|2014-08-27 11:29:31| 37|Female| United States|   IL|           NA|            No|      Yes|         Often|          6-25|         No|         Yes|       Yes|    Not sure|              No|       Yes|       Yes|     Somewhat easy|                       No|                     No|Some of them|         Yes|                     No|                Maybe|               Yes|             No|                  NA|\n",
      "|2014-08-27 11:29:37| 44|     M| United States|   IN|           NA|            No|       No|        Rarely|More than 1000|         No|          No|Don't know|          No|      Don't know|Don't know|Don't know|        Don't know|                    Maybe|                     No|          No|          No|                     No|                   No|        Don't know|             No|                  NA|\n",
      "|2014-08-27 11:29:44| 32|  Male|        Canada|   NA|           NA|            No|       No|        Rarely|          6-25|         No|         Yes|        No|          No|              No|        No|Don't know|Somewhat difficult|                       No|                     No|         Yes|         Yes|                    Yes|                  Yes|                No|             No|                  NA|\n",
      "|2014-08-27 11:29:46| 31|  Male|United Kingdom|   NA|           NA|           Yes|      Yes|         Often|        26-100|         No|         Yes|        No|         Yes|              No|        No|        No|Somewhat difficult|                      Yes|                    Yes|Some of them|          No|                  Maybe|                Maybe|                No|            Yes|                  NA|\n",
      "|2014-08-27 11:30:22| 31|  Male| United States|   TX|           NA|            No|       No|         Never|       100-500|        Yes|         Yes|       Yes|          No|      Don't know|Don't know|Don't know|        Don't know|                       No|                     No|Some of them|         Yes|                    Yes|                  Yes|        Don't know|             No|                  NA|\n",
      "|2014-08-27 11:31:22| 33|  Male| United States|   TN|           NA|           Yes|       No|     Sometimes|          6-25|         No|         Yes|       Yes|    Not sure|              No|Don't know|Don't know|        Don't know|                       No|                     No|         Yes|         Yes|                     No|                Maybe|        Don't know|             No|                  NA|\n",
      "|2014-08-27 11:31:50| 35|Female| United States|   MI|           NA|           Yes|      Yes|     Sometimes|           1-5|        Yes|         Yes|        No|          No|              No|        No|        No|Somewhat difficult|                    Maybe|                  Maybe|Some of them|          No|                     No|                   No|        Don't know|             No|                  NA|\n",
      "|2014-08-27 11:32:05| 39|     M|        Canada|   NA|           NA|            No|       No|         Never|           1-5|        Yes|         Yes|        No|         Yes|              No|        No|       Yes|        Don't know|                       No|                     No|          No|          No|                     No|                   No|                No|             No|                  NA|\n",
      "|2014-08-27 11:32:39| 42|Female| United States|   IL|           NA|           Yes|      Yes|     Sometimes|       100-500|         No|         Yes|       Yes|         Yes|              No|        No|        No|    Very difficult|                    Maybe|                     No|         Yes|         Yes|                     No|                Maybe|                No|             No|                  NA|\n",
      "|2014-08-27 11:32:43| 23|  Male|        Canada|   NA|           NA|            No|       No|         Never|        26-100|         No|         Yes|Don't know|          No|      Don't know|Don't know|Don't know|        Don't know|                       No|                     No|         Yes|         Yes|                  Maybe|                Maybe|               Yes|             No|                  NA|\n",
      "|2014-08-27 11:32:44| 31|  Male| United States|   OH|           NA|            No|      Yes|     Sometimes|          6-25|        Yes|         Yes|Don't know|          No|              No|        No|Don't know|        Don't know|                       No|                     No|Some of them|         Yes|                     No|                   No|        Don't know|             No|                  NA|\n",
      "|2014-08-27 11:32:49| 29|  male|      Bulgaria|   NA|           NA|            No|       No|         Never|       100-500|        Yes|         Yes|Don't know|    Not sure|              No|        No|Don't know|        Don't know|                       No|                     No|         Yes|         Yes|                    Yes|                  Yes|        Don't know|             No|                  NA|\n",
      "|2014-08-27 11:33:23| 42|female| United States|   CA|           NA|           Yes|      Yes|     Sometimes|        26-100|         No|          No|       Yes|         Yes|              No|        No|Don't know|Somewhat difficult|                      Yes|                    Yes|         Yes|         Yes|                  Maybe|                Maybe|                No|            Yes|                  NA|\n",
      "|2014-08-27 11:33:26| 36|  Male| United States|   CT|           NA|           Yes|       No|         Never|      500-1000|         No|         Yes|Don't know|    Not sure|              No|Don't know|Don't know|        Don't know|                       No|                     No|         Yes|         Yes|                     No|                   No|        Don't know|             No|I'm not on my com...|\n",
      "|2014-08-27 11:33:57| 27|  Male|        Canada|   NA|           NA|            No|       No|         Never|          6-25|         No|         Yes|Don't know|    Not sure|      Don't know|Don't know|Don't know|     Somewhat easy|                       No|                     No|Some of them|Some of them|                  Maybe|                  Yes|               Yes|             No|                  NA|\n",
      "|2014-08-27 11:34:00| 29|female| United States|   IL|           NA|           Yes|      Yes|        Rarely|        26-100|         No|         Yes|       Yes|    Not sure|              No|        No|Don't know|     Somewhat easy|                       No|                     No|         Yes|Some of them|                  Maybe|                Maybe|        Don't know|             No|I have chronic lo...|\n",
      "|2014-08-27 11:34:20| 23|  Male|United Kingdom|   NA|           NA|            No|      Yes|     Sometimes|        26-100|        Yes|         Yes|Don't know|          No|      Don't know|Don't know|Don't know|         Very easy|                    Maybe|                     No|Some of them|          No|                  Maybe|                Maybe|                No|             No|My company does p...|\n",
      "|2014-08-27 11:34:37| 32|  Male| United States|   TN|           NA|            No|      Yes|     Sometimes|          6-25|         No|         Yes|       Yes|         Yes|              No|Don't know|Don't know|        Don't know|                    Maybe|                     No|Some of them|         Yes|                     No|                   No|                No|             No|                  NA|\n",
      "|2014-08-27 11:34:53| 46|  male| United States|   MD|          Yes|           Yes|       No|     Sometimes|           1-5|        Yes|         Yes|       Yes|    Not sure|             Yes|Don't know|       Yes|         Very easy|                       No|                     No|         Yes|         Yes|                     No|                  Yes|               Yes|            Yes|                  NA|\n",
      "|2014-08-27 11:35:08| 36|  Male|        France|   NA|          Yes|           Yes|       No|            NA|          6-25|        Yes|         Yes|        No|          No|             Yes|        No|       Yes|     Somewhat easy|                       No|                     No|Some of them|Some of them|                  Maybe|                Maybe|        Don't know|             No|                  NA|\n",
      "+-------------------+---+------+--------------+-----+-------------+--------------+---------+--------------+--------------+-----------+------------+----------+------------+----------------+----------+----------+------------------+-------------------------+-----------------------+------------+------------+-----------------------+---------------------+------------------+---------------+--------------------+\n",
      "only showing top 20 rows\n",
      "\n"
     ]
    }
   ],
   "source": [
    "# observe df\n",
    "df.show()"
   ]
  },
  {
   "cell_type": "code",
   "execution_count": 5,
   "metadata": {},
   "outputs": [],
   "source": [
    "# drop NaN comments\n",
    "df = df.filter(F.col('comments') != 'NA')"
   ]
  },
  {
   "cell_type": "code",
   "execution_count": 6,
   "metadata": {},
   "outputs": [
    {
     "name": "stdout",
     "output_type": "stream",
     "text": [
      "+-------------------+---+------+--------------+-----+-------------+--------------+---------+--------------+--------------+-----------+------------+----------+------------+----------------+----------+----------+------------------+-------------------------+-----------------------+------------+------------+-----------------------+---------------------+------------------+---------------+--------------------+\n",
      "|          Timestamp|Age|Gender|       Country|state|self_employed|family_history|treatment|work_interfere|  no_employees|remote_work|tech_company|  benefits|care_options|wellness_program| seek_help| anonymity|             leave|mental_health_consequence|phys_health_consequence|   coworkers|  supervisor|mental_health_interview|phys_health_interview|mental_vs_physical|obs_consequence|            comments|\n",
      "+-------------------+---+------+--------------+-----+-------------+--------------+---------+--------------+--------------+-----------+------------+----------+------------+----------------+----------+----------+------------------+-------------------------+-----------------------+------------+------------+-----------------------+---------------------+------------------+---------------+--------------------+\n",
      "|2014-08-27 11:33:26| 36|  null| United States|   CT|           NA|           Yes|       No|         Never|      500-1000|         No|         Yes|Don't know|    Not sure|              No|Don't know|Don't know|        Don't know|                       No|                     No|         Yes|         Yes|                     No|                   No|        Don't know|             No|I'm not on my com...|\n",
      "|2014-08-27 11:34:00| 29|  null| United States|   IL|           NA|           Yes|      Yes|        Rarely|        26-100|         No|         Yes|       Yes|    Not sure|              No|        No|Don't know|     Somewhat easy|                       No|                     No|         Yes|Some of them|                  Maybe|                Maybe|        Don't know|             No|I have chronic lo...|\n",
      "|2014-08-27 11:34:20| 23|  null|United Kingdom|   NA|           NA|            No|      Yes|     Sometimes|        26-100|        Yes|         Yes|Don't know|          No|      Don't know|Don't know|Don't know|         Very easy|                    Maybe|                     No|Some of them|          No|                  Maybe|                Maybe|                No|             No|My company does p...|\n",
      "|2014-08-27 11:36:48| 33|  null| United States|   CA|           No|           Yes|      Yes|        Rarely|        26-100|         No|         Yes|       Yes|    Not sure|      Don't know|       Yes|       Yes|        Don't know|                       No|                     No|         Yes|         Yes|                     No|                  Yes|        Don't know|             No|Relatively new jo...|\n",
      "|2014-08-27 11:37:08| 35|  null| United States|   TN|           No|           Yes|      Yes|     Sometimes|More than 1000|         No|          No|       Yes|         Yes|              No|Don't know|        No|         Very easy|                      Yes|                     No|Some of them|         Yes|                     No|                  Yes|                No|             No|Sometimes I think...|\n",
      "|2014-08-27 11:39:36| 42|  null| United States|   WA|           No|           Yes|      Yes|     Sometimes|        26-100|        Yes|         Yes|       Yes|         Yes|             Yes|       Yes|       Yes|         Very easy|                    Maybe|                     No|Some of them|Some of them|                  Maybe|                  Yes|        Don't know|             No|I selected my cur...|\n",
      "|2014-08-27 11:43:36| 38|  null| United States|   TX|           No|           Yes|      Yes|     Sometimes|        26-100|         No|         Yes|       Yes|         Yes|              No|       Yes|       Yes|     Somewhat easy|                       No|                     No|Some of them|         Yes|                     No|                   No|               Yes|             No|Our health plan h...|\n",
      "|2014-08-27 11:44:43| 30|  null| United States|   IL|           No|           Yes|      Yes|        Rarely|        26-100|         No|         Yes|       Yes|          No|              No|Don't know|Don't know|        Don't know|                    Maybe|                     No|Some of them|         Yes|                     No|                   No|        Don't know|             No|I just started a ...|\n",
      "|2014-08-27 11:47:56| 33|  null|        Canada|   NA|           No|           Yes|      Yes|         Often|          6-25|        Yes|         Yes|Don't know|          No|              No|        No|        No|Somewhat difficult|                      Yes|                     No|          No|          No|                     No|                Maybe|        Don't know|             No|In addition to my...|\n",
      "|2014-08-27 11:51:34| 23|  null|     Australia|   NA|           No|           Yes|      Yes|         Often|           1-5|        Yes|         Yes|        No|    Not sure|              No|        No|Don't know|         Very easy|                       No|                     No|Some of them|         Yes|                     No|                Maybe|               Yes|             No|Thanks for doing ...|\n",
      "|2014-08-27 12:15:11| 18|  null|        Russia|   NA|           No|            No|       No|            NA|        26-100|        Yes|         Yes|       Yes|         Yes|              No|        No|       Yes|     Somewhat easy|                       No|                     No|         Yes|         Yes|                    Yes|                  Yes|        Don't know|             No|In Russia we have...|\n",
      "|2014-08-27 12:18:14| 26|  null|        Canada|   NA|           No|           Yes|      Yes|     Sometimes|        26-100|         No|          No|        No|         Yes|              No|        No|        No|    Very difficult|                      Yes|                     No|          No|          No|                     No|                Maybe|                No|            Yes|In my previous wo...|\n",
      "|2014-08-27 12:23:59| 35|  male| United States|   OR|           No|           Yes|      Yes|     Sometimes|        26-100|        Yes|         Yes|Don't know|    Not sure|              No|        No|Don't know|     Somewhat easy|                       No|                     No|Some of them|         Yes|                     No|                Maybe|                No|             No|I've seen negativ...|\n",
      "|2014-08-27 12:38:18| 37|  null|United Kingdom|   NA|          Yes|            No|      Yes|     Sometimes|More than 1000|         No|          No|        No|         Yes|             Yes|       Yes|       Yes|    Very difficult|                      Yes|                    Yes|Some of them|          No|                     No|                Maybe|               Yes|             No|I'm not a permane...|\n",
      "|2014-08-27 12:39:18| 30|  null| United States|   PA|           No|           Yes|       No|            NA|More than 1000|        Yes|         Yes|Don't know|    Not sure|              No|Don't know|Don't know|        Don't know|                    Maybe|                  Maybe|Some of them|Some of them|                     No|                Maybe|        Don't know|             No|I'd be more worri...|\n",
      "|2014-08-27 12:43:28| 27|  null| United States|   UT|           No|            No|      Yes|        Rarely|        26-100|        Yes|         Yes|        No|         Yes|              No|        No|Don't know|Somewhat difficult|                    Maybe|                     No|Some of them|         Yes|                     No|                   No|        Don't know|            Yes|Had a co-worker d...|\n",
      "|2014-08-27 12:43:40| 25|  null| United States|   IL|           No|           Yes|      Yes|     Sometimes|        26-100|         No|         Yes|Don't know|    Not sure|              No|        No|Don't know|         Very easy|                    Maybe|                     No|Some of them|          No|                     No|                   No|        Don't know|            Yes|Family history of...|\n",
      "|2014-08-27 12:43:53| 36|  null|United Kingdom|   NA|           No|            No|      Yes|     Sometimes|More than 1000|         No|          No|       Yes|         Yes|             Yes|       Yes|       Yes|     Somewhat easy|                    Maybe|                  Maybe|Some of them|Some of them|                     No|                Maybe|        Don't know|            Yes|I feel that my em...|\n",
      "|2014-08-27 12:46:03| 33|female| United States|   WA|          Yes|           Yes|      Yes|     Sometimes|           1-5|         No|         Yes|        No|         Yes|             Yes|       Yes|       Yes|    Very difficult|                       No|                     No|Some of them|         Yes|                     No|                  Yes|               Yes|             No|Many of these que...|\n",
      "|2014-08-27 12:47:25| 27|female|United Kingdom|   NA|          Yes|           Yes|       No|            NA|           1-5|        Yes|         Yes|        No|         Yes|              No|        No|       Yes|     Somewhat easy|                       No|                     No|         Yes|         Yes|                     No|                Maybe|               Yes|             No|as a UK-based com...|\n",
      "+-------------------+---+------+--------------+-----+-------------+--------------+---------+--------------+--------------+-----------+------------+----------+------------+----------------+----------+----------+------------------+-------------------------+-----------------------+------------+------------+-----------------------+---------------------+------------------+---------------+--------------------+\n",
      "only showing top 20 rows\n",
      "\n"
     ]
    }
   ],
   "source": [
    "df = df.withColumn('Age', F.col('Age').cast('integer'))\\\n",
    "       .withColumn('Gender', F.lower(F.col('Gender')))\\\n",
    "\n",
    "df = df.withColumn('Gender', F.when(df.Gender == 'm', 'male')\n",
    "                              .when(df.Gender == 'f', 'female')\n",
    "                              .when(df.Gender == 'woman', 'female'))\n",
    "\n",
    "df.show()"
   ]
  },
  {
   "cell_type": "code",
   "execution_count": 12,
   "metadata": {},
   "outputs": [
    {
     "name": "stdout",
     "output_type": "stream",
     "text": [
      "+--------------------+\n",
      "|            comments|\n",
      "+--------------------+\n",
      "|Some of these sho...|\n",
      "|I'm diagnosed wit...|\n",
      "|We don't fucking ...|\n",
      "|Though it doesn't...|\n",
      "|My company does p...|\n",
      "|Many of these que...|\n",
      "|Too many people e...|\n",
      "|I burnt out this ...|\n",
      "|I mostly suffer f...|\n",
      "|When you are an i...|\n",
      "|suffer from CR-PT...|\n",
      "|Since being advis...|\n",
      "|Thank you for you...|\n",
      "|I have an excepti...|\n",
      "|as a UK-based com...|\n",
      "|My employer does ...|\n",
      "|While I have not ...|\n",
      "|Autism is a bitch...|\n",
      "|I went through a ...|\n",
      "|Hi Ed it's Paul D...|\n",
      "+--------------------+\n",
      "only showing top 20 rows\n",
      "\n"
     ]
    }
   ],
   "source": [
    "df.select('comments').distinct().show()"
   ]
  },
  {
   "cell_type": "code",
   "execution_count": 14,
   "metadata": {},
   "outputs": [],
   "source": [
    "df = df.withColumn('user_id', F.monotonically_increasing_id())\n",
    "\n",
    "df = df.select(*[\n",
    " 'user_id',\n",
    " 'Timestamp',\n",
    " 'Age',\n",
    " 'Gender',\n",
    " 'Country',\n",
    " 'state',\n",
    " 'self_employed',\n",
    " 'family_history',\n",
    " 'treatment',\n",
    " 'work_interfere',\n",
    " 'no_employees',\n",
    " 'remote_work',\n",
    " 'tech_company',\n",
    " 'benefits',\n",
    " 'care_options',\n",
    " 'wellness_program',\n",
    " 'seek_help',\n",
    " 'anonymity',\n",
    " 'leave',\n",
    " 'mental_health_consequence',\n",
    " 'phys_health_consequence',\n",
    " 'coworkers',\n",
    " 'supervisor',\n",
    " 'mental_health_interview',\n",
    " 'phys_health_interview',\n",
    " 'mental_vs_physical',\n",
    " 'obs_consequence',\n",
    " 'comments'\n",
    " ])\n",
    "\n",
    "df = df.withColumn('user_id', df.user_id + 1)"
   ]
  },
  {
   "cell_type": "code",
   "execution_count": 22,
   "metadata": {},
   "outputs": [
    {
     "name": "stdout",
     "output_type": "stream",
     "text": [
      "+-------+-------------------+---+------+--------------+-----+-------------+--------------+---------+--------------+--------------+-----------+------------+----------+------------+----------------+----------+----------+------------------+-------------------------+-----------------------+------------+------------+-----------------------+---------------------+------------------+---------------+--------------------+\n",
      "|user_id|          Timestamp|Age|Gender|       Country|state|self_employed|family_history|treatment|work_interfere|  no_employees|remote_work|tech_company|  benefits|care_options|wellness_program| seek_help| anonymity|             leave|mental_health_consequence|phys_health_consequence|   coworkers|  supervisor|mental_health_interview|phys_health_interview|mental_vs_physical|obs_consequence|            comments|\n",
      "+-------+-------------------+---+------+--------------+-----+-------------+--------------+---------+--------------+--------------+-----------+------------+----------+------------+----------------+----------+----------+------------------+-------------------------+-----------------------+------------+------------+-----------------------+---------------------+------------------+---------------+--------------------+\n",
      "|      1|2014-08-27 11:33:26| 36|  null| United States|   CT|           NA|           Yes|       No|         Never|      500-1000|         No|         Yes|Don't know|    Not sure|              No|Don't know|Don't know|        Don't know|                       No|                     No|         Yes|         Yes|                     No|                   No|        Don't know|             No|I'm not on my com...|\n",
      "|      2|2014-08-27 11:34:00| 29|  null| United States|   IL|           NA|           Yes|      Yes|        Rarely|        26-100|         No|         Yes|       Yes|    Not sure|              No|        No|Don't know|     Somewhat easy|                       No|                     No|         Yes|Some of them|                  Maybe|                Maybe|        Don't know|             No|I have chronic lo...|\n",
      "|      3|2014-08-27 11:34:20| 23|  null|United Kingdom|   NA|           NA|            No|      Yes|     Sometimes|        26-100|        Yes|         Yes|Don't know|          No|      Don't know|Don't know|Don't know|         Very easy|                    Maybe|                     No|Some of them|          No|                  Maybe|                Maybe|                No|             No|My company does p...|\n",
      "|      4|2014-08-27 11:36:48| 33|  null| United States|   CA|           No|           Yes|      Yes|        Rarely|        26-100|         No|         Yes|       Yes|    Not sure|      Don't know|       Yes|       Yes|        Don't know|                       No|                     No|         Yes|         Yes|                     No|                  Yes|        Don't know|             No|Relatively new jo...|\n",
      "|      5|2014-08-27 11:37:08| 35|  null| United States|   TN|           No|           Yes|      Yes|     Sometimes|More than 1000|         No|          No|       Yes|         Yes|              No|Don't know|        No|         Very easy|                      Yes|                     No|Some of them|         Yes|                     No|                  Yes|                No|             No|Sometimes I think...|\n",
      "|      6|2014-08-27 11:39:36| 42|  null| United States|   WA|           No|           Yes|      Yes|     Sometimes|        26-100|        Yes|         Yes|       Yes|         Yes|             Yes|       Yes|       Yes|         Very easy|                    Maybe|                     No|Some of them|Some of them|                  Maybe|                  Yes|        Don't know|             No|I selected my cur...|\n",
      "|      7|2014-08-27 11:43:36| 38|  null| United States|   TX|           No|           Yes|      Yes|     Sometimes|        26-100|         No|         Yes|       Yes|         Yes|              No|       Yes|       Yes|     Somewhat easy|                       No|                     No|Some of them|         Yes|                     No|                   No|               Yes|             No|Our health plan h...|\n",
      "|      8|2014-08-27 11:44:43| 30|  null| United States|   IL|           No|           Yes|      Yes|        Rarely|        26-100|         No|         Yes|       Yes|          No|              No|Don't know|Don't know|        Don't know|                    Maybe|                     No|Some of them|         Yes|                     No|                   No|        Don't know|             No|I just started a ...|\n",
      "|      9|2014-08-27 11:47:56| 33|  null|        Canada|   NA|           No|           Yes|      Yes|         Often|          6-25|        Yes|         Yes|Don't know|          No|              No|        No|        No|Somewhat difficult|                      Yes|                     No|          No|          No|                     No|                Maybe|        Don't know|             No|In addition to my...|\n",
      "|     10|2014-08-27 11:51:34| 23|  null|     Australia|   NA|           No|           Yes|      Yes|         Often|           1-5|        Yes|         Yes|        No|    Not sure|              No|        No|Don't know|         Very easy|                       No|                     No|Some of them|         Yes|                     No|                Maybe|               Yes|             No|Thanks for doing ...|\n",
      "|     11|2014-08-27 12:15:11| 18|  null|        Russia|   NA|           No|            No|       No|            NA|        26-100|        Yes|         Yes|       Yes|         Yes|              No|        No|       Yes|     Somewhat easy|                       No|                     No|         Yes|         Yes|                    Yes|                  Yes|        Don't know|             No|In Russia we have...|\n",
      "|     12|2014-08-27 12:18:14| 26|  null|        Canada|   NA|           No|           Yes|      Yes|     Sometimes|        26-100|         No|          No|        No|         Yes|              No|        No|        No|    Very difficult|                      Yes|                     No|          No|          No|                     No|                Maybe|                No|            Yes|In my previous wo...|\n",
      "|     13|2014-08-27 12:23:59| 35|  male| United States|   OR|           No|           Yes|      Yes|     Sometimes|        26-100|        Yes|         Yes|Don't know|    Not sure|              No|        No|Don't know|     Somewhat easy|                       No|                     No|Some of them|         Yes|                     No|                Maybe|                No|             No|I've seen negativ...|\n",
      "|     14|2014-08-27 12:38:18| 37|  null|United Kingdom|   NA|          Yes|            No|      Yes|     Sometimes|More than 1000|         No|          No|        No|         Yes|             Yes|       Yes|       Yes|    Very difficult|                      Yes|                    Yes|Some of them|          No|                     No|                Maybe|               Yes|             No|I'm not a permane...|\n",
      "|     15|2014-08-27 12:39:18| 30|  null| United States|   PA|           No|           Yes|       No|            NA|More than 1000|        Yes|         Yes|Don't know|    Not sure|              No|Don't know|Don't know|        Don't know|                    Maybe|                  Maybe|Some of them|Some of them|                     No|                Maybe|        Don't know|             No|I'd be more worri...|\n",
      "|     16|2014-08-27 12:43:28| 27|  null| United States|   UT|           No|            No|      Yes|        Rarely|        26-100|        Yes|         Yes|        No|         Yes|              No|        No|Don't know|Somewhat difficult|                    Maybe|                     No|Some of them|         Yes|                     No|                   No|        Don't know|            Yes|Had a co-worker d...|\n",
      "|     17|2014-08-27 12:43:40| 25|  null| United States|   IL|           No|           Yes|      Yes|     Sometimes|        26-100|         No|         Yes|Don't know|    Not sure|              No|        No|Don't know|         Very easy|                    Maybe|                     No|Some of them|          No|                     No|                   No|        Don't know|            Yes|Family history of...|\n",
      "|     18|2014-08-27 12:43:53| 36|  null|United Kingdom|   NA|           No|            No|      Yes|     Sometimes|More than 1000|         No|          No|       Yes|         Yes|             Yes|       Yes|       Yes|     Somewhat easy|                    Maybe|                  Maybe|Some of them|Some of them|                     No|                Maybe|        Don't know|            Yes|I feel that my em...|\n",
      "|     19|2014-08-27 12:46:03| 33|female| United States|   WA|          Yes|           Yes|      Yes|     Sometimes|           1-5|         No|         Yes|        No|         Yes|             Yes|       Yes|       Yes|    Very difficult|                       No|                     No|Some of them|         Yes|                     No|                  Yes|               Yes|             No|Many of these que...|\n",
      "|     20|2014-08-27 12:47:25| 27|female|United Kingdom|   NA|          Yes|           Yes|       No|            NA|           1-5|        Yes|         Yes|        No|         Yes|              No|        No|       Yes|     Somewhat easy|                       No|                     No|         Yes|         Yes|                     No|                Maybe|               Yes|             No|as a UK-based com...|\n",
      "+-------+-------------------+---+------+--------------+-----+-------------+--------------+---------+--------------+--------------+-----------+------------+----------+------------+----------------+----------+----------+------------------+-------------------------+-----------------------+------------+------------+-----------------------+---------------------+------------------+---------------+--------------------+\n",
      "only showing top 20 rows\n",
      "\n"
     ]
    }
   ],
   "source": [
    "df.filter(~F.isnull('comments')).show()"
   ]
  },
  {
   "cell_type": "markdown",
   "metadata": {},
   "source": [
    "### Conduct String Cleaning"
   ]
  },
  {
   "cell_type": "code",
   "execution_count": 24,
   "metadata": {},
   "outputs": [
    {
     "name": "stdout",
     "output_type": "stream",
     "text": [
      "+-------+--------------------+\n",
      "|user_id|            comments|\n",
      "+-------+--------------------+\n",
      "|      1|I'm not on my com...|\n",
      "|      2|I have chronic lo...|\n",
      "|      3|My company does p...|\n",
      "|      4|Relatively new jo...|\n",
      "|      5|Sometimes I think...|\n",
      "|      6|I selected my cur...|\n",
      "|      7|Our health plan h...|\n",
      "|      8|I just started a ...|\n",
      "|      9|In addition to my...|\n",
      "|     10|Thanks for doing ...|\n",
      "|     11|In Russia we have...|\n",
      "|     12|In my previous wo...|\n",
      "|     13|I've seen negativ...|\n",
      "|     14|I'm not a permane...|\n",
      "|     15|I'd be more worri...|\n",
      "|     16|Had a co-worker d...|\n",
      "|     17|Family history of...|\n",
      "|     18|I feel that my em...|\n",
      "|     19|Many of these que...|\n",
      "|     20|as a UK-based com...|\n",
      "+-------+--------------------+\n",
      "only showing top 20 rows\n",
      "\n"
     ]
    }
   ],
   "source": [
    "df2 = df.select(*['user_id', 'comments'])\n",
    "df2.show()"
   ]
  },
  {
   "cell_type": "code",
   "execution_count": 34,
   "metadata": {},
   "outputs": [],
   "source": [
    "from sparknlp.base import DocumentAssembler, Pipeline\n",
    "from sparknlp.annotator import SentenceDetector, Tokenizer, StopWordsCleaner\n",
    "from johnsnowlabs import nlp"
   ]
  },
  {
   "cell_type": "code",
   "execution_count": 30,
   "metadata": {},
   "outputs": [],
   "source": [
    "from py4j.java_gateway import java_import\n",
    "java_import(spark._sc._jvm, \"org.apache.spark.sql.api.python.*\")"
   ]
  },
  {
   "cell_type": "code",
   "execution_count": 32,
   "metadata": {},
   "outputs": [],
   "source": [
    "# # raw text to document annotation\n",
    "# doc_assembler = (DocumentAssembler()\n",
    "#                  .setInputCol(\"comments\")\n",
    "#                  .setOutputCol(\"doc\"))"
   ]
  },
  {
   "cell_type": "code",
   "execution_count": 36,
   "metadata": {},
   "outputs": [
    {
     "name": "stdout",
     "output_type": "stream",
     "text": [
      "Warning::Spark Session already created, some configs may not take.\n",
      "Warning::Spark Session already created, some configs may not take.\n",
      "stopwords_iso download started this may take some time.\n"
     ]
    },
    {
     "ename": "Exception",
     "evalue": "Something went wrong during creating the Spark NLP model_anno_obj for your request = en.stopwordsDid you use a NLU Spell?",
     "output_type": "error",
     "traceback": [
      "\u001b[1;31m---------------------------------------------------------------------------\u001b[0m",
      "\u001b[1;31mTypeError\u001b[0m                                 Traceback (most recent call last)",
      "File \u001b[1;32mc:\\Users\\RoiMinuit\\anaconda3\\Lib\\site-packages\\nlu\\pipe\\component_resolution.py:284\u001b[0m, in \u001b[0;36mget_trained_component_for_nlp_model_ref\u001b[1;34m(lang, nlu_ref, nlp_ref, license_type, model_configs)\u001b[0m\n\u001b[0;32m    282\u001b[0m \u001b[38;5;28;01mif\u001b[39;00m component\u001b[38;5;241m.\u001b[39mget_pretrained_model:\n\u001b[0;32m    283\u001b[0m     component \u001b[38;5;241m=\u001b[39m component\u001b[38;5;241m.\u001b[39mset_metadata(\n\u001b[1;32m--> 284\u001b[0m         component\u001b[38;5;241m.\u001b[39mget_pretrained_model(nlp_ref, lang, model_bucket),\n\u001b[0;32m    285\u001b[0m         nlu_ref, nlp_ref, lang, \u001b[38;5;28;01mFalse\u001b[39;00m, license_type)\n\u001b[0;32m    286\u001b[0m \u001b[38;5;28;01melse\u001b[39;00m:\n",
      "File \u001b[1;32mc:\\Users\\RoiMinuit\\anaconda3\\Lib\\site-packages\\nlu\\components\\stopwordscleaners\\stopwordcleaner\\nlustopwordcleaner.py:12\u001b[0m, in \u001b[0;36mNLUStopWordcleaner.get_pretrained_model\u001b[1;34m(name, language, bucket)\u001b[0m\n\u001b[0;32m     10\u001b[0m \u001b[38;5;129m@staticmethod\u001b[39m\n\u001b[0;32m     11\u001b[0m \u001b[38;5;28;01mdef\u001b[39;00m \u001b[38;5;21mget_pretrained_model\u001b[39m(name, language, bucket\u001b[38;5;241m=\u001b[39m\u001b[38;5;28;01mNone\u001b[39;00m):\n\u001b[1;32m---> 12\u001b[0m     \u001b[38;5;28;01mreturn\u001b[39;00m StopWordsCleaner\u001b[38;5;241m.\u001b[39mpretrained(name, language) \\\n\u001b[0;32m     13\u001b[0m         \u001b[38;5;241m.\u001b[39msetInputCols([\u001b[38;5;124m\"\u001b[39m\u001b[38;5;124mtoken\u001b[39m\u001b[38;5;124m\"\u001b[39m]) \\\n\u001b[0;32m     14\u001b[0m         \u001b[38;5;241m.\u001b[39msetOutputCol(\u001b[38;5;124m\"\u001b[39m\u001b[38;5;124mstopword_less\u001b[39m\u001b[38;5;124m\"\u001b[39m)\n",
      "File \u001b[1;32mc:\\Users\\RoiMinuit\\anaconda3\\Lib\\site-packages\\sparknlp\\annotator\\stop_words_cleaner.py:190\u001b[0m, in \u001b[0;36mStopWordsCleaner.pretrained\u001b[1;34m(name, lang, remote_loc)\u001b[0m\n\u001b[0;32m    189\u001b[0m \u001b[38;5;28;01mfrom\u001b[39;00m \u001b[38;5;21;01msparknlp\u001b[39;00m\u001b[38;5;21;01m.\u001b[39;00m\u001b[38;5;21;01mpretrained\u001b[39;00m \u001b[38;5;28;01mimport\u001b[39;00m ResourceDownloader\n\u001b[1;32m--> 190\u001b[0m \u001b[38;5;28;01mreturn\u001b[39;00m ResourceDownloader\u001b[38;5;241m.\u001b[39mdownloadModel(StopWordsCleaner, name, lang, remote_loc)\n",
      "File \u001b[1;32mc:\\Users\\RoiMinuit\\anaconda3\\Lib\\site-packages\\sparknlp\\pretrained\\resource_downloader.py:87\u001b[0m, in \u001b[0;36mResourceDownloader.downloadModel\u001b[1;34m(reader, name, language, remote_loc, j_dwn)\u001b[0m\n\u001b[0;32m     86\u001b[0m \u001b[38;5;28mprint\u001b[39m(name \u001b[38;5;241m+\u001b[39m \u001b[38;5;124m\"\u001b[39m\u001b[38;5;124m download started this may take some time.\u001b[39m\u001b[38;5;124m\"\u001b[39m)\n\u001b[1;32m---> 87\u001b[0m file_size \u001b[38;5;241m=\u001b[39m _internal\u001b[38;5;241m.\u001b[39m_GetResourceSize(name, language, remote_loc)\u001b[38;5;241m.\u001b[39mapply()\n\u001b[0;32m     88\u001b[0m \u001b[38;5;28;01mif\u001b[39;00m file_size \u001b[38;5;241m==\u001b[39m \u001b[38;5;124m\"\u001b[39m\u001b[38;5;124m-1\u001b[39m\u001b[38;5;124m\"\u001b[39m:\n",
      "File \u001b[1;32mc:\\Users\\RoiMinuit\\anaconda3\\Lib\\site-packages\\sparknlp\\internal\\__init__.py:393\u001b[0m, in \u001b[0;36m_GetResourceSize.__init__\u001b[1;34m(self, name, language, remote_loc)\u001b[0m\n\u001b[0;32m    392\u001b[0m \u001b[38;5;28;01mdef\u001b[39;00m \u001b[38;5;21m__init__\u001b[39m(\u001b[38;5;28mself\u001b[39m, name, language, remote_loc):\n\u001b[1;32m--> 393\u001b[0m     \u001b[38;5;28msuper\u001b[39m(_GetResourceSize, \u001b[38;5;28mself\u001b[39m)\u001b[38;5;241m.\u001b[39m\u001b[38;5;21m__init__\u001b[39m(\n\u001b[0;32m    394\u001b[0m         \u001b[38;5;124m\"\u001b[39m\u001b[38;5;124mcom.johnsnowlabs.nlp.pretrained.PythonResourceDownloader.getDownloadSize\u001b[39m\u001b[38;5;124m\"\u001b[39m, name, language, remote_loc)\n",
      "File \u001b[1;32mc:\\Users\\RoiMinuit\\anaconda3\\Lib\\site-packages\\sparknlp\\internal\\extended_java_wrapper.py:27\u001b[0m, in \u001b[0;36mExtendedJavaWrapper.__init__\u001b[1;34m(self, java_obj, *args)\u001b[0m\n\u001b[0;32m     26\u001b[0m \u001b[38;5;28mself\u001b[39m\u001b[38;5;241m.\u001b[39msc \u001b[38;5;241m=\u001b[39m SparkContext\u001b[38;5;241m.\u001b[39m_active_spark_context\n\u001b[1;32m---> 27\u001b[0m \u001b[38;5;28mself\u001b[39m\u001b[38;5;241m.\u001b[39m_java_obj \u001b[38;5;241m=\u001b[39m \u001b[38;5;28mself\u001b[39m\u001b[38;5;241m.\u001b[39mnew_java_obj(java_obj, \u001b[38;5;241m*\u001b[39margs)\n\u001b[0;32m     28\u001b[0m \u001b[38;5;28mself\u001b[39m\u001b[38;5;241m.\u001b[39mjava_obj \u001b[38;5;241m=\u001b[39m \u001b[38;5;28mself\u001b[39m\u001b[38;5;241m.\u001b[39m_java_obj\n",
      "File \u001b[1;32mc:\\Users\\RoiMinuit\\anaconda3\\Lib\\site-packages\\sparknlp\\internal\\extended_java_wrapper.py:37\u001b[0m, in \u001b[0;36mExtendedJavaWrapper.new_java_obj\u001b[1;34m(self, java_class, *args)\u001b[0m\n\u001b[0;32m     36\u001b[0m \u001b[38;5;28;01mdef\u001b[39;00m \u001b[38;5;21mnew_java_obj\u001b[39m(\u001b[38;5;28mself\u001b[39m, java_class, \u001b[38;5;241m*\u001b[39margs):\n\u001b[1;32m---> 37\u001b[0m     \u001b[38;5;28;01mreturn\u001b[39;00m \u001b[38;5;28mself\u001b[39m\u001b[38;5;241m.\u001b[39m_new_java_obj(java_class, \u001b[38;5;241m*\u001b[39margs)\n",
      "File \u001b[1;32mc:\\Users\\RoiMinuit\\anaconda3\\Lib\\site-packages\\pyspark\\ml\\wrapper.py:66\u001b[0m, in \u001b[0;36mJavaWrapper._new_java_obj\u001b[1;34m(java_class, *args)\u001b[0m\n\u001b[0;32m     65\u001b[0m java_args \u001b[38;5;241m=\u001b[39m [_py2java(sc, arg) \u001b[38;5;28;01mfor\u001b[39;00m arg \u001b[38;5;129;01min\u001b[39;00m args]\n\u001b[1;32m---> 66\u001b[0m \u001b[38;5;28;01mreturn\u001b[39;00m java_obj(\u001b[38;5;241m*\u001b[39mjava_args)\n",
      "\u001b[1;31mTypeError\u001b[0m: 'JavaPackage' object is not callable",
      "\nDuring handling of the above exception, another exception occurred:\n",
      "\u001b[1;31mValueError\u001b[0m                                Traceback (most recent call last)",
      "File \u001b[1;32mc:\\Users\\RoiMinuit\\anaconda3\\Lib\\site-packages\\nlu\\__init__.py:231\u001b[0m, in \u001b[0;36mload\u001b[1;34m(request, path, verbose, gpu, streamlit_caching, m1_chip)\u001b[0m\n\u001b[0;32m    230\u001b[0m     \u001b[38;5;28;01mcontinue\u001b[39;00m\n\u001b[1;32m--> 231\u001b[0m nlu_component \u001b[38;5;241m=\u001b[39m nlu_ref_to_component(nlu_ref)\n\u001b[0;32m    232\u001b[0m \u001b[38;5;66;03m# if we get a list of components, then the NLU reference is a pipeline, we do not need to check order\u001b[39;00m\n",
      "File \u001b[1;32mc:\\Users\\RoiMinuit\\anaconda3\\Lib\\site-packages\\nlu\\pipe\\component_resolution.py:161\u001b[0m, in \u001b[0;36mnlu_ref_to_component\u001b[1;34m(nlu_ref, detect_lang, authenticated)\u001b[0m\n\u001b[0;32m    160\u001b[0m \u001b[38;5;28;01melse\u001b[39;00m:\n\u001b[1;32m--> 161\u001b[0m     resolved_component \u001b[38;5;241m=\u001b[39m get_trained_component_for_nlp_model_ref(lang, nlu_ref, nlp_ref, license_type, model_params)\n\u001b[0;32m    163\u001b[0m \u001b[38;5;28;01mif\u001b[39;00m resolved_component \u001b[38;5;129;01mis\u001b[39;00m \u001b[38;5;28;01mNone\u001b[39;00m:\n",
      "File \u001b[1;32mc:\\Users\\RoiMinuit\\anaconda3\\Lib\\site-packages\\nlu\\pipe\\component_resolution.py:295\u001b[0m, in \u001b[0;36mget_trained_component_for_nlp_model_ref\u001b[1;34m(lang, nlu_ref, nlp_ref, license_type, model_configs)\u001b[0m\n\u001b[0;32m    294\u001b[0m \u001b[38;5;28;01mexcept\u001b[39;00m \u001b[38;5;167;01mException\u001b[39;00m \u001b[38;5;28;01mas\u001b[39;00m e:\n\u001b[1;32m--> 295\u001b[0m     \u001b[38;5;28;01mraise\u001b[39;00m \u001b[38;5;167;01mValueError\u001b[39;00m(\u001b[38;5;124mf\u001b[39m\u001b[38;5;124m'\u001b[39m\u001b[38;5;124mFailure making component, nlp_ref=\u001b[39m\u001b[38;5;132;01m{\u001b[39;00mnlp_ref\u001b[38;5;132;01m}\u001b[39;00m\u001b[38;5;124m, nlu_ref=\u001b[39m\u001b[38;5;132;01m{\u001b[39;00mnlu_ref\u001b[38;5;132;01m}\u001b[39;00m\u001b[38;5;124m, lang=\u001b[39m\u001b[38;5;132;01m{\u001b[39;00mlang\u001b[38;5;132;01m}\u001b[39;00m\u001b[38;5;124m, \u001b[39m\u001b[38;5;130;01m\\n\u001b[39;00m\u001b[38;5;124m err=\u001b[39m\u001b[38;5;132;01m{\u001b[39;00me\u001b[38;5;132;01m}\u001b[39;00m\u001b[38;5;124m'\u001b[39m)\n\u001b[0;32m    297\u001b[0m \u001b[38;5;28;01mreturn\u001b[39;00m component\n",
      "\u001b[1;31mValueError\u001b[0m: Failure making component, nlp_ref=stopwords_iso, nlu_ref=en.stopwords, lang=en, \n err='JavaPackage' object is not callable",
      "\nDuring handling of the above exception, another exception occurred:\n",
      "\u001b[1;31mException\u001b[0m                                 Traceback (most recent call last)",
      "Cell \u001b[1;32mIn[36], line 1\u001b[0m\n\u001b[1;32m----> 1\u001b[0m nlp\u001b[38;5;241m.\u001b[39mload(\u001b[38;5;124m\"\u001b[39m\u001b[38;5;124men.stopwords\u001b[39m\u001b[38;5;124m\"\u001b[39m)\u001b[38;5;241m.\u001b[39mpredict(\u001b[38;5;124m\"\u001b[39m\u001b[38;5;124mI\u001b[39m\u001b[38;5;124m'\u001b[39m\u001b[38;5;124mm so fed up with this shit. Give me my VA money already!\u001b[39m\u001b[38;5;124m\"\u001b[39m, output_level\u001b[38;5;241m=\u001b[39m\u001b[38;5;124m'\u001b[39m\u001b[38;5;124msentence\u001b[39m\u001b[38;5;124m'\u001b[39m)\n",
      "File \u001b[1;32mc:\\Users\\RoiMinuit\\anaconda3\\Lib\\site-packages\\nlu\\__init__.py:243\u001b[0m, in \u001b[0;36mload\u001b[1;34m(request, path, verbose, gpu, streamlit_caching, m1_chip)\u001b[0m\n\u001b[0;32m    241\u001b[0m     \u001b[38;5;28;01mif\u001b[39;00m verbose:\n\u001b[0;32m    242\u001b[0m         log_verbose_error(err)\n\u001b[1;32m--> 243\u001b[0m     \u001b[38;5;28;01mraise\u001b[39;00m \u001b[38;5;167;01mException\u001b[39;00m(\n\u001b[0;32m    244\u001b[0m         \u001b[38;5;124mf\u001b[39m\u001b[38;5;124m\"\u001b[39m\u001b[38;5;124mSomething went wrong during creating the Spark NLP model_anno_obj for your request = \u001b[39m\u001b[38;5;132;01m{\u001b[39;00mrequest\u001b[38;5;132;01m}\u001b[39;00m\u001b[38;5;124m\"\u001b[39m\n\u001b[0;32m    245\u001b[0m         \u001b[38;5;124mf\u001b[39m\u001b[38;5;124m\"\u001b[39m\u001b[38;5;124mDid you use a NLU Spell?\u001b[39m\u001b[38;5;124m\"\u001b[39m)\n\u001b[0;32m    246\u001b[0m \u001b[38;5;66;03m# Complete Spark NLP Pipeline, which is defined as a DAG given by the starting Annotators\u001b[39;00m\n\u001b[0;32m    247\u001b[0m \u001b[38;5;28;01mtry\u001b[39;00m:\n",
      "\u001b[1;31mException\u001b[0m: Something went wrong during creating the Spark NLP model_anno_obj for your request = en.stopwordsDid you use a NLU Spell?"
     ]
    }
   ],
   "source": [
    "nlp.load(\"en.stopwords\").predict(\"I'm so fed up with this shit. Give me my VA money already!\", output_level='sentence')"
   ]
  },
  {
   "cell_type": "code",
   "execution_count": 37,
   "metadata": {},
   "outputs": [
    {
     "name": "stdout",
     "output_type": "stream",
     "text": [
      "Warning::Spark Session already created, some configs may not take.\n",
      "Warning::Spark Session already created, some configs may not take.\n",
      "classifierdl_use_emotion download started this may take some time.\n"
     ]
    },
    {
     "ename": "Exception",
     "evalue": "Something went wrong during creating the Spark NLP model_anno_obj for your request = emotionDid you use a NLU Spell?",
     "output_type": "error",
     "traceback": [
      "\u001b[1;31m---------------------------------------------------------------------------\u001b[0m",
      "\u001b[1;31mTypeError\u001b[0m                                 Traceback (most recent call last)",
      "File \u001b[1;32mc:\\Users\\RoiMinuit\\anaconda3\\Lib\\site-packages\\nlu\\pipe\\component_resolution.py:284\u001b[0m, in \u001b[0;36mget_trained_component_for_nlp_model_ref\u001b[1;34m(lang, nlu_ref, nlp_ref, license_type, model_configs)\u001b[0m\n\u001b[0;32m    282\u001b[0m \u001b[38;5;28;01mif\u001b[39;00m component\u001b[38;5;241m.\u001b[39mget_pretrained_model:\n\u001b[0;32m    283\u001b[0m     component \u001b[38;5;241m=\u001b[39m component\u001b[38;5;241m.\u001b[39mset_metadata(\n\u001b[1;32m--> 284\u001b[0m         component\u001b[38;5;241m.\u001b[39mget_pretrained_model(nlp_ref, lang, model_bucket),\n\u001b[0;32m    285\u001b[0m         nlu_ref, nlp_ref, lang, \u001b[38;5;28;01mFalse\u001b[39;00m, license_type)\n\u001b[0;32m    286\u001b[0m \u001b[38;5;28;01melse\u001b[39;00m:\n",
      "File \u001b[1;32mc:\\Users\\RoiMinuit\\anaconda3\\Lib\\site-packages\\nlu\\components\\classifiers\\classifier_dl\\classifier_dl.py:11\u001b[0m, in \u001b[0;36mClassifierDl.get_pretrained_model\u001b[1;34m(name, language, bucket)\u001b[0m\n\u001b[0;32m      9\u001b[0m \u001b[38;5;129m@staticmethod\u001b[39m\n\u001b[0;32m     10\u001b[0m \u001b[38;5;28;01mdef\u001b[39;00m \u001b[38;5;21mget_pretrained_model\u001b[39m(name, language, bucket\u001b[38;5;241m=\u001b[39m\u001b[38;5;28;01mNone\u001b[39;00m):\n\u001b[1;32m---> 11\u001b[0m     \u001b[38;5;28;01mreturn\u001b[39;00m ClassifierDLModel\u001b[38;5;241m.\u001b[39mpretrained(name,language,bucket) \\\n\u001b[0;32m     12\u001b[0m         \u001b[38;5;241m.\u001b[39msetInputCols(\u001b[38;5;124m\"\u001b[39m\u001b[38;5;124msentence_embeddings\u001b[39m\u001b[38;5;124m\"\u001b[39m) \\\n\u001b[0;32m     13\u001b[0m         \u001b[38;5;241m.\u001b[39msetOutputCol(\u001b[38;5;124m\"\u001b[39m\u001b[38;5;124mcategory\u001b[39m\u001b[38;5;124m\"\u001b[39m)\n",
      "File \u001b[1;32mc:\\Users\\RoiMinuit\\anaconda3\\Lib\\site-packages\\sparknlp\\annotator\\classifier_dl\\classifier_dl.py:320\u001b[0m, in \u001b[0;36mClassifierDLModel.pretrained\u001b[1;34m(name, lang, remote_loc)\u001b[0m\n\u001b[0;32m    319\u001b[0m \u001b[38;5;28;01mfrom\u001b[39;00m \u001b[38;5;21;01msparknlp\u001b[39;00m\u001b[38;5;21;01m.\u001b[39;00m\u001b[38;5;21;01mpretrained\u001b[39;00m \u001b[38;5;28;01mimport\u001b[39;00m ResourceDownloader\n\u001b[1;32m--> 320\u001b[0m \u001b[38;5;28;01mreturn\u001b[39;00m ResourceDownloader\u001b[38;5;241m.\u001b[39mdownloadModel(ClassifierDLModel, name, lang, remote_loc)\n",
      "File \u001b[1;32mc:\\Users\\RoiMinuit\\anaconda3\\Lib\\site-packages\\sparknlp\\pretrained\\resource_downloader.py:87\u001b[0m, in \u001b[0;36mResourceDownloader.downloadModel\u001b[1;34m(reader, name, language, remote_loc, j_dwn)\u001b[0m\n\u001b[0;32m     86\u001b[0m \u001b[38;5;28mprint\u001b[39m(name \u001b[38;5;241m+\u001b[39m \u001b[38;5;124m\"\u001b[39m\u001b[38;5;124m download started this may take some time.\u001b[39m\u001b[38;5;124m\"\u001b[39m)\n\u001b[1;32m---> 87\u001b[0m file_size \u001b[38;5;241m=\u001b[39m _internal\u001b[38;5;241m.\u001b[39m_GetResourceSize(name, language, remote_loc)\u001b[38;5;241m.\u001b[39mapply()\n\u001b[0;32m     88\u001b[0m \u001b[38;5;28;01mif\u001b[39;00m file_size \u001b[38;5;241m==\u001b[39m \u001b[38;5;124m\"\u001b[39m\u001b[38;5;124m-1\u001b[39m\u001b[38;5;124m\"\u001b[39m:\n",
      "File \u001b[1;32mc:\\Users\\RoiMinuit\\anaconda3\\Lib\\site-packages\\sparknlp\\internal\\__init__.py:393\u001b[0m, in \u001b[0;36m_GetResourceSize.__init__\u001b[1;34m(self, name, language, remote_loc)\u001b[0m\n\u001b[0;32m    392\u001b[0m \u001b[38;5;28;01mdef\u001b[39;00m \u001b[38;5;21m__init__\u001b[39m(\u001b[38;5;28mself\u001b[39m, name, language, remote_loc):\n\u001b[1;32m--> 393\u001b[0m     \u001b[38;5;28msuper\u001b[39m(_GetResourceSize, \u001b[38;5;28mself\u001b[39m)\u001b[38;5;241m.\u001b[39m\u001b[38;5;21m__init__\u001b[39m(\n\u001b[0;32m    394\u001b[0m         \u001b[38;5;124m\"\u001b[39m\u001b[38;5;124mcom.johnsnowlabs.nlp.pretrained.PythonResourceDownloader.getDownloadSize\u001b[39m\u001b[38;5;124m\"\u001b[39m, name, language, remote_loc)\n",
      "File \u001b[1;32mc:\\Users\\RoiMinuit\\anaconda3\\Lib\\site-packages\\sparknlp\\internal\\extended_java_wrapper.py:27\u001b[0m, in \u001b[0;36mExtendedJavaWrapper.__init__\u001b[1;34m(self, java_obj, *args)\u001b[0m\n\u001b[0;32m     26\u001b[0m \u001b[38;5;28mself\u001b[39m\u001b[38;5;241m.\u001b[39msc \u001b[38;5;241m=\u001b[39m SparkContext\u001b[38;5;241m.\u001b[39m_active_spark_context\n\u001b[1;32m---> 27\u001b[0m \u001b[38;5;28mself\u001b[39m\u001b[38;5;241m.\u001b[39m_java_obj \u001b[38;5;241m=\u001b[39m \u001b[38;5;28mself\u001b[39m\u001b[38;5;241m.\u001b[39mnew_java_obj(java_obj, \u001b[38;5;241m*\u001b[39margs)\n\u001b[0;32m     28\u001b[0m \u001b[38;5;28mself\u001b[39m\u001b[38;5;241m.\u001b[39mjava_obj \u001b[38;5;241m=\u001b[39m \u001b[38;5;28mself\u001b[39m\u001b[38;5;241m.\u001b[39m_java_obj\n",
      "File \u001b[1;32mc:\\Users\\RoiMinuit\\anaconda3\\Lib\\site-packages\\sparknlp\\internal\\extended_java_wrapper.py:37\u001b[0m, in \u001b[0;36mExtendedJavaWrapper.new_java_obj\u001b[1;34m(self, java_class, *args)\u001b[0m\n\u001b[0;32m     36\u001b[0m \u001b[38;5;28;01mdef\u001b[39;00m \u001b[38;5;21mnew_java_obj\u001b[39m(\u001b[38;5;28mself\u001b[39m, java_class, \u001b[38;5;241m*\u001b[39margs):\n\u001b[1;32m---> 37\u001b[0m     \u001b[38;5;28;01mreturn\u001b[39;00m \u001b[38;5;28mself\u001b[39m\u001b[38;5;241m.\u001b[39m_new_java_obj(java_class, \u001b[38;5;241m*\u001b[39margs)\n",
      "File \u001b[1;32mc:\\Users\\RoiMinuit\\anaconda3\\Lib\\site-packages\\pyspark\\ml\\wrapper.py:66\u001b[0m, in \u001b[0;36mJavaWrapper._new_java_obj\u001b[1;34m(java_class, *args)\u001b[0m\n\u001b[0;32m     65\u001b[0m java_args \u001b[38;5;241m=\u001b[39m [_py2java(sc, arg) \u001b[38;5;28;01mfor\u001b[39;00m arg \u001b[38;5;129;01min\u001b[39;00m args]\n\u001b[1;32m---> 66\u001b[0m \u001b[38;5;28;01mreturn\u001b[39;00m java_obj(\u001b[38;5;241m*\u001b[39mjava_args)\n",
      "\u001b[1;31mTypeError\u001b[0m: 'JavaPackage' object is not callable",
      "\nDuring handling of the above exception, another exception occurred:\n",
      "\u001b[1;31mValueError\u001b[0m                                Traceback (most recent call last)",
      "File \u001b[1;32mc:\\Users\\RoiMinuit\\anaconda3\\Lib\\site-packages\\nlu\\__init__.py:231\u001b[0m, in \u001b[0;36mload\u001b[1;34m(request, path, verbose, gpu, streamlit_caching, m1_chip)\u001b[0m\n\u001b[0;32m    230\u001b[0m     \u001b[38;5;28;01mcontinue\u001b[39;00m\n\u001b[1;32m--> 231\u001b[0m nlu_component \u001b[38;5;241m=\u001b[39m nlu_ref_to_component(nlu_ref)\n\u001b[0;32m    232\u001b[0m \u001b[38;5;66;03m# if we get a list of components, then the NLU reference is a pipeline, we do not need to check order\u001b[39;00m\n",
      "File \u001b[1;32mc:\\Users\\RoiMinuit\\anaconda3\\Lib\\site-packages\\nlu\\pipe\\component_resolution.py:161\u001b[0m, in \u001b[0;36mnlu_ref_to_component\u001b[1;34m(nlu_ref, detect_lang, authenticated)\u001b[0m\n\u001b[0;32m    160\u001b[0m \u001b[38;5;28;01melse\u001b[39;00m:\n\u001b[1;32m--> 161\u001b[0m     resolved_component \u001b[38;5;241m=\u001b[39m get_trained_component_for_nlp_model_ref(lang, nlu_ref, nlp_ref, license_type, model_params)\n\u001b[0;32m    163\u001b[0m \u001b[38;5;28;01mif\u001b[39;00m resolved_component \u001b[38;5;129;01mis\u001b[39;00m \u001b[38;5;28;01mNone\u001b[39;00m:\n",
      "File \u001b[1;32mc:\\Users\\RoiMinuit\\anaconda3\\Lib\\site-packages\\nlu\\pipe\\component_resolution.py:295\u001b[0m, in \u001b[0;36mget_trained_component_for_nlp_model_ref\u001b[1;34m(lang, nlu_ref, nlp_ref, license_type, model_configs)\u001b[0m\n\u001b[0;32m    294\u001b[0m \u001b[38;5;28;01mexcept\u001b[39;00m \u001b[38;5;167;01mException\u001b[39;00m \u001b[38;5;28;01mas\u001b[39;00m e:\n\u001b[1;32m--> 295\u001b[0m     \u001b[38;5;28;01mraise\u001b[39;00m \u001b[38;5;167;01mValueError\u001b[39;00m(\u001b[38;5;124mf\u001b[39m\u001b[38;5;124m'\u001b[39m\u001b[38;5;124mFailure making component, nlp_ref=\u001b[39m\u001b[38;5;132;01m{\u001b[39;00mnlp_ref\u001b[38;5;132;01m}\u001b[39;00m\u001b[38;5;124m, nlu_ref=\u001b[39m\u001b[38;5;132;01m{\u001b[39;00mnlu_ref\u001b[38;5;132;01m}\u001b[39;00m\u001b[38;5;124m, lang=\u001b[39m\u001b[38;5;132;01m{\u001b[39;00mlang\u001b[38;5;132;01m}\u001b[39;00m\u001b[38;5;124m, \u001b[39m\u001b[38;5;130;01m\\n\u001b[39;00m\u001b[38;5;124m err=\u001b[39m\u001b[38;5;132;01m{\u001b[39;00me\u001b[38;5;132;01m}\u001b[39;00m\u001b[38;5;124m'\u001b[39m)\n\u001b[0;32m    297\u001b[0m \u001b[38;5;28;01mreturn\u001b[39;00m component\n",
      "\u001b[1;31mValueError\u001b[0m: Failure making component, nlp_ref=classifierdl_use_emotion, nlu_ref=emotion, lang=en, \n err='JavaPackage' object is not callable",
      "\nDuring handling of the above exception, another exception occurred:\n",
      "\u001b[1;31mException\u001b[0m                                 Traceback (most recent call last)",
      "Cell \u001b[1;32mIn[37], line 1\u001b[0m\n\u001b[1;32m----> 1\u001b[0m nlp\u001b[38;5;241m.\u001b[39mload(\u001b[38;5;124m'\u001b[39m\u001b[38;5;124memotion\u001b[39m\u001b[38;5;124m'\u001b[39m)\u001b[38;5;241m.\u001b[39mpredict(\u001b[38;5;124m'\u001b[39m\u001b[38;5;124mWow that easy!\u001b[39m\u001b[38;5;124m'\u001b[39m)\n",
      "File \u001b[1;32mc:\\Users\\RoiMinuit\\anaconda3\\Lib\\site-packages\\nlu\\__init__.py:243\u001b[0m, in \u001b[0;36mload\u001b[1;34m(request, path, verbose, gpu, streamlit_caching, m1_chip)\u001b[0m\n\u001b[0;32m    241\u001b[0m     \u001b[38;5;28;01mif\u001b[39;00m verbose:\n\u001b[0;32m    242\u001b[0m         log_verbose_error(err)\n\u001b[1;32m--> 243\u001b[0m     \u001b[38;5;28;01mraise\u001b[39;00m \u001b[38;5;167;01mException\u001b[39;00m(\n\u001b[0;32m    244\u001b[0m         \u001b[38;5;124mf\u001b[39m\u001b[38;5;124m\"\u001b[39m\u001b[38;5;124mSomething went wrong during creating the Spark NLP model_anno_obj for your request = \u001b[39m\u001b[38;5;132;01m{\u001b[39;00mrequest\u001b[38;5;132;01m}\u001b[39;00m\u001b[38;5;124m\"\u001b[39m\n\u001b[0;32m    245\u001b[0m         \u001b[38;5;124mf\u001b[39m\u001b[38;5;124m\"\u001b[39m\u001b[38;5;124mDid you use a NLU Spell?\u001b[39m\u001b[38;5;124m\"\u001b[39m)\n\u001b[0;32m    246\u001b[0m \u001b[38;5;66;03m# Complete Spark NLP Pipeline, which is defined as a DAG given by the starting Annotators\u001b[39;00m\n\u001b[0;32m    247\u001b[0m \u001b[38;5;28;01mtry\u001b[39;00m:\n",
      "\u001b[1;31mException\u001b[0m: Something went wrong during creating the Spark NLP model_anno_obj for your request = emotionDid you use a NLU Spell?"
     ]
    }
   ],
   "source": [
    "nlp.load('emotion').predict('Wow that easy!')"
   ]
  }
 ],
 "metadata": {
  "kernelspec": {
   "display_name": "sparkenv2",
   "language": "python",
   "name": "python3"
  },
  "language_info": {
   "codemirror_mode": {
    "name": "ipython",
    "version": 3
   },
   "file_extension": ".py",
   "mimetype": "text/x-python",
   "name": "python",
   "nbconvert_exporter": "python",
   "pygments_lexer": "ipython3",
   "version": "3.11.5"
  }
 },
 "nbformat": 4,
 "nbformat_minor": 2
}
