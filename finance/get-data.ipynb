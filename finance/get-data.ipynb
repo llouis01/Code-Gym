{
 "cells": [
  {
   "cell_type": "markdown",
   "metadata": {},
   "source": [
    "# Financial Data #"
   ]
  },
  {
   "cell_type": "code",
   "execution_count": 4,
   "metadata": {},
   "outputs": [],
   "source": [
    "# lib imports\n",
    "import requests\n",
    "import pandas as pd\n",
    "import yfinance as YF\n",
    "from fredapi import Fred\n",
    "import mysql.connector as SQL\n"
   ]
  },
  {
   "cell_type": "markdown",
   "metadata": {},
   "source": [
    "## Data Collection ##"
   ]
  },
  {
   "cell_type": "code",
   "execution_count": 5,
   "metadata": {},
   "outputs": [],
   "source": [
    "# define key variables\n",
    "fred_key = \"7c1f3f043ef85e198d4c6c17e0d8109e\"\n",
    "eia_key = \"x7uY3CJRn9HYOS6gtcMsMAllomMfCLGvWYYyn8Cz\"\n",
    "tickers = ['AAPL', 'PLTR', 'WMT', 'META', 'AMZN', 'LMT']\n",
    "\n",
    "# func to obtain stock data info from yahoo finance\n",
    "def get_tickers(tickers=[], period='1d'):\n",
    "    # get tickers from yahoo finance\n",
    "    table = pd.DataFrame()\n",
    "    for ticker in tickers:\n",
    "        data = YF.Ticker(ticker)\n",
    "        df = data.history(period=period)\n",
    "        df['ticker'] = ticker\n",
    "        table = pd.concat([table, df])\n",
    "    return table"
   ]
  },
  {
   "cell_type": "code",
   "execution_count": 6,
   "metadata": {},
   "outputs": [],
   "source": [
    "# pull stocks data\n",
    "stocks = get_tickers(tickers, period='max')\n",
    "stocks.reset_index(inplace=True)"
   ]
  },
  {
   "cell_type": "code",
   "execution_count": 7,
   "metadata": {},
   "outputs": [],
   "source": [
    "# pull fred data\n",
    "fred_api = Fred(fred_key)\n",
    "cpi = fred_api.get_series('CPIAUCNS')\n",
    "unrate = fred_api.get_series(\"Unrate\")\n",
    "csi = fred_api.get_series(\"UMCSENT\")"
   ]
  },
  {
   "cell_type": "code",
   "execution_count": 8,
   "metadata": {},
   "outputs": [],
   "source": [
    "# join fred data\n",
    "fred = pd.DataFrame(pd.concat([cpi, unrate, csi], axis=1)).reset_index()\n",
    "fred.rename(columns={'index': 'Date', 0: 'cpi', 1: 'unrate', 2:'csi'}, inplace=True)"
   ]
  },
  {
   "cell_type": "code",
   "execution_count": 9,
   "metadata": {},
   "outputs": [
    {
     "data": {
      "text/html": [
       "<div>\n",
       "<style scoped>\n",
       "    .dataframe tbody tr th:only-of-type {\n",
       "        vertical-align: middle;\n",
       "    }\n",
       "\n",
       "    .dataframe tbody tr th {\n",
       "        vertical-align: top;\n",
       "    }\n",
       "\n",
       "    .dataframe thead th {\n",
       "        text-align: right;\n",
       "    }\n",
       "</style>\n",
       "<table border=\"1\" class=\"dataframe\">\n",
       "  <thead>\n",
       "    <tr style=\"text-align: right;\">\n",
       "      <th></th>\n",
       "      <th>date</th>\n",
       "      <th>open</th>\n",
       "      <th>high</th>\n",
       "      <th>low</th>\n",
       "      <th>close</th>\n",
       "      <th>volume</th>\n",
       "      <th>dividends</th>\n",
       "      <th>stock splits</th>\n",
       "      <th>ticker</th>\n",
       "      <th>cpi</th>\n",
       "      <th>unrate</th>\n",
       "      <th>csi</th>\n",
       "    </tr>\n",
       "  </thead>\n",
       "  <tbody>\n",
       "    <tr>\n",
       "      <th>0</th>\n",
       "      <td>1980-12-12</td>\n",
       "      <td>0.098726</td>\n",
       "      <td>0.099155</td>\n",
       "      <td>0.098726</td>\n",
       "      <td>0.098726</td>\n",
       "      <td>469033600</td>\n",
       "      <td>0.0</td>\n",
       "      <td>0.0</td>\n",
       "      <td>AAPL</td>\n",
       "      <td>89.1</td>\n",
       "      <td>7.2</td>\n",
       "      <td>72.4</td>\n",
       "    </tr>\n",
       "    <tr>\n",
       "      <th>1</th>\n",
       "      <td>1980-12-15</td>\n",
       "      <td>0.094005</td>\n",
       "      <td>0.094005</td>\n",
       "      <td>0.093575</td>\n",
       "      <td>0.093575</td>\n",
       "      <td>175884800</td>\n",
       "      <td>0.0</td>\n",
       "      <td>0.0</td>\n",
       "      <td>AAPL</td>\n",
       "      <td>89.1</td>\n",
       "      <td>7.2</td>\n",
       "      <td>72.4</td>\n",
       "    </tr>\n",
       "    <tr>\n",
       "      <th>2</th>\n",
       "      <td>1980-12-16</td>\n",
       "      <td>0.087136</td>\n",
       "      <td>0.087136</td>\n",
       "      <td>0.086707</td>\n",
       "      <td>0.086707</td>\n",
       "      <td>105728000</td>\n",
       "      <td>0.0</td>\n",
       "      <td>0.0</td>\n",
       "      <td>AAPL</td>\n",
       "      <td>89.1</td>\n",
       "      <td>7.2</td>\n",
       "      <td>72.4</td>\n",
       "    </tr>\n",
       "    <tr>\n",
       "      <th>3</th>\n",
       "      <td>1980-12-17</td>\n",
       "      <td>0.088853</td>\n",
       "      <td>0.089282</td>\n",
       "      <td>0.088853</td>\n",
       "      <td>0.088853</td>\n",
       "      <td>86441600</td>\n",
       "      <td>0.0</td>\n",
       "      <td>0.0</td>\n",
       "      <td>AAPL</td>\n",
       "      <td>89.1</td>\n",
       "      <td>7.2</td>\n",
       "      <td>72.4</td>\n",
       "    </tr>\n",
       "    <tr>\n",
       "      <th>4</th>\n",
       "      <td>1980-12-18</td>\n",
       "      <td>0.091429</td>\n",
       "      <td>0.091858</td>\n",
       "      <td>0.091429</td>\n",
       "      <td>0.091429</td>\n",
       "      <td>73449600</td>\n",
       "      <td>0.0</td>\n",
       "      <td>0.0</td>\n",
       "      <td>AAPL</td>\n",
       "      <td>89.1</td>\n",
       "      <td>7.2</td>\n",
       "      <td>72.4</td>\n",
       "    </tr>\n",
       "  </tbody>\n",
       "</table>\n",
       "</div>"
      ],
      "text/plain": [
       "        date      open      high       low     close     volume  dividends  \\\n",
       "0 1980-12-12  0.098726  0.099155  0.098726  0.098726  469033600        0.0   \n",
       "1 1980-12-15  0.094005  0.094005  0.093575  0.093575  175884800        0.0   \n",
       "2 1980-12-16  0.087136  0.087136  0.086707  0.086707  105728000        0.0   \n",
       "3 1980-12-17  0.088853  0.089282  0.088853  0.088853   86441600        0.0   \n",
       "4 1980-12-18  0.091429  0.091858  0.091429  0.091429   73449600        0.0   \n",
       "\n",
       "   stock splits ticker   cpi  unrate   csi  \n",
       "0           0.0   AAPL  89.1     7.2  72.4  \n",
       "1           0.0   AAPL  89.1     7.2  72.4  \n",
       "2           0.0   AAPL  89.1     7.2  72.4  \n",
       "3           0.0   AAPL  89.1     7.2  72.4  \n",
       "4           0.0   AAPL  89.1     7.2  72.4  "
      ]
     },
     "execution_count": 9,
     "metadata": {},
     "output_type": "execute_result"
    }
   ],
   "source": [
    "# Convert stock dates to naive datetime (removing timezone)\n",
    "stocks['Date'] = stocks['Date'].dt.tz_localize(None)\n",
    "\n",
    "# Convert fred dates to ensure consistency (though likely already naive)\n",
    "fred['Date'] = fred['Date'].dt.tz_localize(None)\n",
    "\n",
    "# merge data on date\n",
    "fi_df = pd.merge(stocks, fred, on='Date', how='left')\n",
    "\n",
    "# backfill monthly indicators to prevent NaN values\n",
    "fi_df[['cpi', 'unrate', 'csi']] = fi_df[['cpi', 'unrate', 'csi']].ffill()\n",
    "fi_df[['cpi', 'unrate', 'csi']] = fi_df[['cpi', 'unrate', 'csi']].bfill()\n",
    "\n",
    "# ensure consistency\n",
    "fi_df.columns = fi_df.columns.str.lower()\n",
    "fi_df.head()"
   ]
  },
  {
   "cell_type": "markdown",
   "metadata": {},
   "source": [
    "## Data Storage ##"
   ]
  },
  {
   "cell_type": "code",
   "execution_count": 11,
   "metadata": {},
   "outputs": [],
   "source": [
    "# set up connection\n",
    "conn = SQL.connect(host='localhost',\n",
    "                   user='root',\n",
    "                   password='root',\n",
    "                   database='financial_db')\n",
    "\n",
    "cursor = conn.cursor()"
   ]
  },
  {
   "cell_type": "code",
   "execution_count": null,
   "metadata": {},
   "outputs": [
    {
     "name": "stdout",
     "output_type": "stream",
     "text": [
      "Transferring row:  date            1980-12-12 00:00:00\n",
      "open                       0.098726\n",
      "high                       0.099155\n",
      "low                        0.098726\n",
      "close                      0.098726\n",
      "volume                    469033600\n",
      "dividends                       0.0\n",
      "stock splits                    0.0\n",
      "ticker                         AAPL\n",
      "cpi                            89.1\n",
      "unrate                          7.2\n",
      "csi                            72.4\n",
      "Name: 0, dtype: object\n"
     ]
    },
    {
     "ename": "ProgrammingError",
     "evalue": "Not all parameters were used in the SQL statement",
     "output_type": "error",
     "traceback": [
      "\u001b[1;31m---------------------------------------------------------------------------\u001b[0m",
      "\u001b[1;31mProgrammingError\u001b[0m                          Traceback (most recent call last)",
      "Cell \u001b[1;32mIn[18], line 4\u001b[0m\n\u001b[0;32m      2\u001b[0m \u001b[38;5;28;01mfor\u001b[39;00m idx, row \u001b[38;5;129;01min\u001b[39;00m fi_df\u001b[38;5;241m.\u001b[39miterrows():\n\u001b[0;32m      3\u001b[0m     \u001b[38;5;28mprint\u001b[39m(\u001b[38;5;124m\"\u001b[39m\u001b[38;5;124mTransferring row: \u001b[39m\u001b[38;5;124m\"\u001b[39m, row)\n\u001b[1;32m----> 4\u001b[0m     \u001b[43mcursor\u001b[49m\u001b[38;5;241;43m.\u001b[39;49m\u001b[43mexecute\u001b[49m\u001b[43m(\u001b[49m\u001b[38;5;124;43m\"\"\"\u001b[39;49m\n\u001b[0;32m      5\u001b[0m \u001b[38;5;124;43m                   INSERT INTO financial_db.financial_table (date, open, high, low, close, volume, dividends, stock splits, ticker, cpi, unrate, csi)\u001b[39;49m\n\u001b[0;32m      6\u001b[0m \u001b[38;5;124;43m                   VALUES (\u001b[39;49m\u001b[38;5;124;43m%\u001b[39;49m\u001b[38;5;124;43m, \u001b[39;49m\u001b[38;5;124;43m%\u001b[39;49m\u001b[38;5;124;43m, \u001b[39;49m\u001b[38;5;124;43m%\u001b[39;49m\u001b[38;5;124;43m, \u001b[39;49m\u001b[38;5;124;43m%\u001b[39;49m\u001b[38;5;124;43m, \u001b[39;49m\u001b[38;5;124;43m%\u001b[39;49m\u001b[38;5;124;43m, \u001b[39;49m\u001b[38;5;124;43m%\u001b[39;49m\u001b[38;5;124;43m, \u001b[39;49m\u001b[38;5;124;43m%\u001b[39;49m\u001b[38;5;124;43m, \u001b[39;49m\u001b[38;5;124;43m%\u001b[39;49m\u001b[38;5;124;43m, \u001b[39;49m\u001b[38;5;124;43m%\u001b[39;49m\u001b[38;5;124;43m, \u001b[39;49m\u001b[38;5;124;43m%\u001b[39;49m\u001b[38;5;124;43m, \u001b[39;49m\u001b[38;5;124;43m%\u001b[39;49m\u001b[38;5;124;43m, \u001b[39;49m\u001b[38;5;124;43m%\u001b[39;49m\u001b[38;5;124;43m)\u001b[39;49m\u001b[38;5;124;43m\"\"\"\u001b[39;49m\u001b[43m,\u001b[49m\n\u001b[0;32m      7\u001b[0m \u001b[43m                   \u001b[49m\u001b[43m(\u001b[49m\u001b[43mrow\u001b[49m\u001b[43m[\u001b[49m\u001b[38;5;124;43m'\u001b[39;49m\u001b[38;5;124;43mdate\u001b[39;49m\u001b[38;5;124;43m'\u001b[39;49m\u001b[43m]\u001b[49m\u001b[43m,\u001b[49m\u001b[43m \u001b[49m\u001b[43mrow\u001b[49m\u001b[43m[\u001b[49m\u001b[38;5;124;43m'\u001b[39;49m\u001b[38;5;124;43mopen\u001b[39;49m\u001b[38;5;124;43m'\u001b[39;49m\u001b[43m]\u001b[49m\u001b[43m,\u001b[49m\u001b[43m \u001b[49m\u001b[43mrow\u001b[49m\u001b[43m[\u001b[49m\u001b[38;5;124;43m'\u001b[39;49m\u001b[38;5;124;43mhigh\u001b[39;49m\u001b[38;5;124;43m'\u001b[39;49m\u001b[43m]\u001b[49m\u001b[43m,\u001b[49m\u001b[43m \u001b[49m\u001b[43mrow\u001b[49m\u001b[43m[\u001b[49m\u001b[38;5;124;43m'\u001b[39;49m\u001b[38;5;124;43mlow\u001b[39;49m\u001b[38;5;124;43m'\u001b[39;49m\u001b[43m]\u001b[49m\u001b[43m,\u001b[49m\u001b[43m \u001b[49m\u001b[43mrow\u001b[49m\u001b[43m[\u001b[49m\u001b[38;5;124;43m'\u001b[39;49m\u001b[38;5;124;43mclose\u001b[39;49m\u001b[38;5;124;43m'\u001b[39;49m\u001b[43m]\u001b[49m\u001b[43m,\u001b[49m\u001b[43m \u001b[49m\u001b[43mrow\u001b[49m\u001b[43m[\u001b[49m\u001b[38;5;124;43m'\u001b[39;49m\u001b[38;5;124;43mvolume\u001b[39;49m\u001b[38;5;124;43m'\u001b[39;49m\u001b[43m]\u001b[49m\u001b[43m,\u001b[49m\u001b[43m \u001b[49m\u001b[43mrow\u001b[49m\u001b[43m[\u001b[49m\u001b[38;5;124;43m'\u001b[39;49m\u001b[38;5;124;43mdividends\u001b[39;49m\u001b[38;5;124;43m'\u001b[39;49m\u001b[43m]\u001b[49m\u001b[43m,\u001b[49m\u001b[43m \u001b[49m\u001b[43mrow\u001b[49m\u001b[43m[\u001b[49m\u001b[38;5;124;43m'\u001b[39;49m\u001b[38;5;124;43mstock splits\u001b[39;49m\u001b[38;5;124;43m'\u001b[39;49m\u001b[43m]\u001b[49m\u001b[43m,\u001b[49m\u001b[43m \u001b[49m\u001b[43mrow\u001b[49m\u001b[43m[\u001b[49m\u001b[38;5;124;43m'\u001b[39;49m\u001b[38;5;124;43mticker\u001b[39;49m\u001b[38;5;124;43m'\u001b[39;49m\u001b[43m]\u001b[49m\u001b[43m,\u001b[49m\u001b[43m \u001b[49m\u001b[43mrow\u001b[49m\u001b[43m[\u001b[49m\u001b[38;5;124;43m'\u001b[39;49m\u001b[38;5;124;43mcpi\u001b[39;49m\u001b[38;5;124;43m'\u001b[39;49m\u001b[43m]\u001b[49m\u001b[43m,\u001b[49m\u001b[43m \u001b[49m\u001b[43mrow\u001b[49m\u001b[43m[\u001b[49m\u001b[38;5;124;43m'\u001b[39;49m\u001b[38;5;124;43munrate\u001b[39;49m\u001b[38;5;124;43m'\u001b[39;49m\u001b[43m]\u001b[49m\u001b[43m,\u001b[49m\u001b[43m \u001b[49m\u001b[43mrow\u001b[49m\u001b[43m[\u001b[49m\u001b[38;5;124;43m'\u001b[39;49m\u001b[38;5;124;43mcsi\u001b[39;49m\u001b[38;5;124;43m'\u001b[39;49m\u001b[43m]\u001b[49m\u001b[43m)\u001b[49m\u001b[43m)\u001b[49m\n",
      "File \u001b[1;32mc:\\Users\\RoiMinuit\\miniconda3\\envs\\PYFI\\Lib\\site-packages\\mysql\\connector\\cursor_cext.py:333\u001b[0m, in \u001b[0;36mCMySQLCursor.execute\u001b[1;34m(self, operation, params, map_results)\u001b[0m\n\u001b[0;32m    331\u001b[0m         stmt \u001b[38;5;241m=\u001b[39m RE_PY_PARAM\u001b[38;5;241m.\u001b[39msub(psub, stmt)\n\u001b[0;32m    332\u001b[0m         \u001b[38;5;28;01mif\u001b[39;00m psub\u001b[38;5;241m.\u001b[39mremaining \u001b[38;5;241m!=\u001b[39m \u001b[38;5;241m0\u001b[39m:\n\u001b[1;32m--> 333\u001b[0m             \u001b[38;5;28;01mraise\u001b[39;00m ProgrammingError(\n\u001b[0;32m    334\u001b[0m                 \u001b[38;5;124m\"\u001b[39m\u001b[38;5;124mNot all parameters were used in the SQL statement\u001b[39m\u001b[38;5;124m\"\u001b[39m\n\u001b[0;32m    335\u001b[0m             )\n\u001b[0;32m    337\u001b[0m \u001b[38;5;28mself\u001b[39m\u001b[38;5;241m.\u001b[39m_stmt_partitions \u001b[38;5;241m=\u001b[39m split_multi_statement(\n\u001b[0;32m    338\u001b[0m     sql_code\u001b[38;5;241m=\u001b[39mstmt, map_results\u001b[38;5;241m=\u001b[39mmap_results\n\u001b[0;32m    339\u001b[0m )\n\u001b[0;32m    340\u001b[0m \u001b[38;5;28mself\u001b[39m\u001b[38;5;241m.\u001b[39m_stmt_partition \u001b[38;5;241m=\u001b[39m \u001b[38;5;28mnext\u001b[39m(\u001b[38;5;28mself\u001b[39m\u001b[38;5;241m.\u001b[39m_stmt_partitions)\n",
      "\u001b[1;31mProgrammingError\u001b[0m: Not all parameters were used in the SQL statement"
     ]
    }
   ],
   "source": [
    "# push fi_df to sql\n",
    "for idx, row in fi_df.iterrows():\n",
    "    print(\"Transferring row: \", row)\n",
    "    cursor.execute(\"\"\"\n",
    "                   INSERT INTO financial_db.historical (date, open, high, low, close, volume, dividends, stock splits, ticker, cpi, unrate, csi)\n",
    "                   VALUES (%, %, %, %, %, %, %, %, %, %, %, %)\"\"\",\n",
    "                   (row['date'], row['open'], row['high'], row['low'], row['close'], row['volume'], row['dividends'], row['stock splits'], row['ticker'], row['cpi'], row['unrate'], row['csi']))"
   ]
  }
 ],
 "metadata": {
  "kernelspec": {
   "display_name": "PYFI",
   "language": "python",
   "name": "python3"
  },
  "language_info": {
   "codemirror_mode": {
    "name": "ipython",
    "version": 3
   },
   "file_extension": ".py",
   "mimetype": "text/x-python",
   "name": "python",
   "nbconvert_exporter": "python",
   "pygments_lexer": "ipython3",
   "version": "3.13.2"
  }
 },
 "nbformat": 4,
 "nbformat_minor": 2
}
