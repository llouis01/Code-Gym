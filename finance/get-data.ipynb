{
 "cells": [
  {
   "cell_type": "markdown",
   "metadata": {},
   "source": [
    "## Make Calls to Yahoo Finance ##"
   ]
  },
  {
   "cell_type": "code",
   "execution_count": 1,
   "metadata": {},
   "outputs": [],
   "source": [
    "# libraries\n",
    "import pandas as pd\n",
    "import yfinance as yf\n"
   ]
  },
  {
   "cell_type": "code",
   "execution_count": 14,
   "metadata": {},
   "outputs": [
    {
     "name": "stdout",
     "output_type": "stream",
     "text": [
      "                                Open       High        Low      Close  \\\n",
      "Date                                                                    \n",
      "2024-12-02 00:00:00-05:00  67.440002  67.879997  65.959999  66.389999   \n",
      "2024-12-03 00:00:00-05:00  66.410004  71.370003  66.150002  70.959999   \n",
      "2024-12-04 00:00:00-05:00  71.129997  71.180000  67.279999  69.849998   \n",
      "2024-12-05 00:00:00-05:00  70.110001  72.980003  69.889999  71.870003   \n",
      "2024-12-06 00:00:00-05:00  72.949997  76.820000  72.279999  76.339996   \n",
      "\n",
      "                              Volume  Dividends  Stock Splits  \n",
      "Date                                                           \n",
      "2024-12-02 00:00:00-05:00   46405000        0.0           0.0  \n",
      "2024-12-03 00:00:00-05:00  100751400        0.0           0.0  \n",
      "2024-12-04 00:00:00-05:00   86284800        0.0           0.0  \n",
      "2024-12-05 00:00:00-05:00   66585800        0.0           0.0  \n",
      "2024-12-06 00:00:00-05:00   93640900        0.0           0.0  \n"
     ]
    }
   ],
   "source": [
    "# test yf\n",
    "data = yf.Ticker(\"PLTR\")\n",
    "df = data.history(period=\"3mo\")\n",
    "print(df.head())"
   ]
  }
 ],
 "metadata": {
  "kernelspec": {
   "display_name": "PYFI",
   "language": "python",
   "name": "python3"
  },
  "language_info": {
   "codemirror_mode": {
    "name": "ipython",
    "version": 3
   },
   "file_extension": ".py",
   "mimetype": "text/x-python",
   "name": "python",
   "nbconvert_exporter": "python",
   "pygments_lexer": "ipython3",
   "version": "3.13.2"
  }
 },
 "nbformat": 4,
 "nbformat_minor": 2
}
