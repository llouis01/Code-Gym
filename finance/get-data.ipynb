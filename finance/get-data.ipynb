{
 "cells": [
  {
   "cell_type": "markdown",
   "metadata": {},
   "source": [
    "## Make Calls to Yahoo Finance ##"
   ]
  },
  {
   "cell_type": "code",
   "execution_count": 5,
   "metadata": {},
   "outputs": [],
   "source": [
    "# libraries\n",
    "import pandas as pd\n",
    "import yfinance as YF\n"
   ]
  },
  {
   "cell_type": "code",
   "execution_count": 32,
   "metadata": {},
   "outputs": [],
   "source": [
    "def get_tickers(tickers=[], period='1d'):\n",
    "    # get tickers from yahoo finance\n",
    "    table = pd.DataFrame()\n",
    "    for ticker in tickers:\n",
    "        data = YF.Ticker(ticker)\n",
    "        df = data.history(period=period)\n",
    "        df['ticker'] = ticker\n",
    "        table = pd.concat([table, df])\n",
    "    return table"
   ]
  },
  {
   "cell_type": "code",
   "execution_count": 42,
   "metadata": {},
   "outputs": [
    {
     "name": "stdout",
     "output_type": "stream",
     "text": [
      "<class 'pandas.core.frame.DataFrame'>\n",
      "DatetimeIndex: 47952 entries, 1980-12-12 00:00:00-05:00 to 2025-03-27 00:00:00-04:00\n",
      "Data columns (total 8 columns):\n",
      " #   Column        Non-Null Count  Dtype  \n",
      "---  ------        --------------  -----  \n",
      " 0   Open          47952 non-null  float64\n",
      " 1   High          47952 non-null  float64\n",
      " 2   Low           47952 non-null  float64\n",
      " 3   Close         47952 non-null  float64\n",
      " 4   Volume        47952 non-null  int64  \n",
      " 5   Dividends     47952 non-null  float64\n",
      " 6   Stock Splits  47952 non-null  float64\n",
      " 7   ticker        47952 non-null  object \n",
      "dtypes: float64(6), int64(1), object(1)\n",
      "memory usage: 3.3+ MB\n"
     ]
    }
   ],
   "source": [
    "tickers = ['AAPL', 'PLTR', 'WMT', 'META', 'AMZN', 'LMT']\n",
    "stocks = get_tickers(tickers, period='max')\n",
    "stocks.info()"
   ]
  },
  {
   "cell_type": "code",
   "execution_count": 19,
   "metadata": {},
   "outputs": [
    {
     "name": "stdout",
     "output_type": "stream",
     "text": [
      "                                Open       High        Low      Close  \\\n",
      "Date                                                                    \n",
      "2025-03-21 00:00:00-04:00  85.849998  91.070000  84.459999  90.959999   \n",
      "2025-03-24 00:00:00-04:00  93.400002  97.389999  92.279999  96.750000   \n",
      "2025-03-25 00:00:00-04:00  97.220001  98.169998  95.080002  96.500000   \n",
      "2025-03-26 00:00:00-04:00  96.290001  97.300003  90.820000  92.279999   \n",
      "2025-03-27 00:00:00-04:00  91.014999  93.650002  89.669998  90.089996   \n",
      "\n",
      "                              Volume  Dividends  Stock Splits  \n",
      "Date                                                           \n",
      "2025-03-21 00:00:00-04:00  116748700        0.0           0.0  \n",
      "2025-03-24 00:00:00-04:00  112164700        0.0           0.0  \n",
      "2025-03-25 00:00:00-04:00   78015300        0.0           0.0  \n",
      "2025-03-26 00:00:00-04:00   82138300        0.0           0.0  \n",
      "2025-03-27 00:00:00-04:00   82605300        0.0           0.0  \n"
     ]
    }
   ],
   "source": [
    "# test yf\n",
    "data = YF.Ticker(\"PLTR\")\n",
    "df = data.history(period=\"5d\")\n",
    "print(df.head())"
   ]
  },
  {
   "cell_type": "code",
   "execution_count": 10,
   "metadata": {},
   "outputs": [
    {
     "data": {
      "text/plain": [
       "pandas.core.frame.DataFrame"
      ]
     },
     "execution_count": 10,
     "metadata": {},
     "output_type": "execute_result"
    }
   ],
   "source": [
    "type(df)"
   ]
  }
 ],
 "metadata": {
  "kernelspec": {
   "display_name": "PYFI",
   "language": "python",
   "name": "python3"
  },
  "language_info": {
   "codemirror_mode": {
    "name": "ipython",
    "version": 3
   },
   "file_extension": ".py",
   "mimetype": "text/x-python",
   "name": "python",
   "nbconvert_exporter": "python",
   "pygments_lexer": "ipython3",
   "version": "3.13.2"
  }
 },
 "nbformat": 4,
 "nbformat_minor": 2
}
