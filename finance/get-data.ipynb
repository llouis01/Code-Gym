{
 "cells": [
  {
   "cell_type": "markdown",
   "metadata": {},
   "source": [
    "# Financial Data #"
   ]
  },
  {
   "cell_type": "markdown",
   "metadata": {},
   "source": [
    "## Data Collection ##"
   ]
  },
  {
   "cell_type": "code",
   "execution_count": 159,
   "metadata": {},
   "outputs": [],
   "source": [
    "# lib imports\n",
    "import pandas as pd\n",
    "import requests\n",
    "import yfinance as YF\n",
    "from fredapi import Fred\n"
   ]
  },
  {
   "cell_type": "code",
   "execution_count": 160,
   "metadata": {},
   "outputs": [],
   "source": [
    "# define key variables\n",
    "fred_key = \"7c1f3f043ef85e198d4c6c17e0d8109e\"\n",
    "eia_key = \"x7uY3CJRn9HYOS6gtcMsMAllomMfCLGvWYYyn8Cz\"\n",
    "tickers = ['AAPL', 'PLTR', 'WMT', 'META', 'AMZN', 'LMT']\n",
    "\n",
    "# func to obtain stock data info from yahoo finance\n",
    "def get_tickers(tickers=[], period='1d'):\n",
    "    # get tickers from yahoo finance\n",
    "    table = pd.DataFrame()\n",
    "    for ticker in tickers:\n",
    "        data = YF.Ticker(ticker)\n",
    "        df = data.history(period=period)\n",
    "        df['ticker'] = ticker\n",
    "        table = pd.concat([table, df])\n",
    "    return table"
   ]
  },
  {
   "cell_type": "code",
   "execution_count": 161,
   "metadata": {},
   "outputs": [],
   "source": [
    "# pull stocks data\n",
    "stocks = get_tickers(tickers, period='max')\n",
    "stocks.reset_index(inplace=True)"
   ]
  },
  {
   "cell_type": "code",
   "execution_count": 162,
   "metadata": {},
   "outputs": [],
   "source": [
    "# pull fred data\n",
    "fred_api = Fred(fred_key)\n",
    "cpi = fred_api.get_series('CPIAUCNS')\n",
    "unrate = fred_api.get_series(\"Unrate\")\n",
    "csi = fred_api.get_series(\"UMCSENT\")"
   ]
  },
  {
   "cell_type": "code",
   "execution_count": 163,
   "metadata": {},
   "outputs": [],
   "source": [
    "# join fred data\n",
    "fred = pd.DataFrame(pd.concat([cpi, unrate, csi], axis=1)).reset_index()\n",
    "fred.rename(columns={'index': 'Date', 0: 'cpi', 1: 'unrate', 2:'csi'}, inplace=True)"
   ]
  },
  {
   "cell_type": "code",
   "execution_count": 164,
   "metadata": {},
   "outputs": [
    {
     "data": {
      "text/html": [
       "<div>\n",
       "<style scoped>\n",
       "    .dataframe tbody tr th:only-of-type {\n",
       "        vertical-align: middle;\n",
       "    }\n",
       "\n",
       "    .dataframe tbody tr th {\n",
       "        vertical-align: top;\n",
       "    }\n",
       "\n",
       "    .dataframe thead th {\n",
       "        text-align: right;\n",
       "    }\n",
       "</style>\n",
       "<table border=\"1\" class=\"dataframe\">\n",
       "  <thead>\n",
       "    <tr style=\"text-align: right;\">\n",
       "      <th></th>\n",
       "      <th>date</th>\n",
       "      <th>open</th>\n",
       "      <th>high</th>\n",
       "      <th>low</th>\n",
       "      <th>close</th>\n",
       "      <th>volume</th>\n",
       "      <th>dividends</th>\n",
       "      <th>stock splits</th>\n",
       "      <th>ticker</th>\n",
       "      <th>cpi</th>\n",
       "      <th>unrate</th>\n",
       "      <th>csi</th>\n",
       "    </tr>\n",
       "  </thead>\n",
       "  <tbody>\n",
       "    <tr>\n",
       "      <th>0</th>\n",
       "      <td>1980-12-12</td>\n",
       "      <td>0.098726</td>\n",
       "      <td>0.099155</td>\n",
       "      <td>0.098726</td>\n",
       "      <td>0.098726</td>\n",
       "      <td>469033600</td>\n",
       "      <td>0.0</td>\n",
       "      <td>0.0</td>\n",
       "      <td>AAPL</td>\n",
       "      <td>89.1</td>\n",
       "      <td>7.2</td>\n",
       "      <td>72.4</td>\n",
       "    </tr>\n",
       "    <tr>\n",
       "      <th>1</th>\n",
       "      <td>1980-12-15</td>\n",
       "      <td>0.094005</td>\n",
       "      <td>0.094005</td>\n",
       "      <td>0.093575</td>\n",
       "      <td>0.093575</td>\n",
       "      <td>175884800</td>\n",
       "      <td>0.0</td>\n",
       "      <td>0.0</td>\n",
       "      <td>AAPL</td>\n",
       "      <td>89.1</td>\n",
       "      <td>7.2</td>\n",
       "      <td>72.4</td>\n",
       "    </tr>\n",
       "    <tr>\n",
       "      <th>2</th>\n",
       "      <td>1980-12-16</td>\n",
       "      <td>0.087136</td>\n",
       "      <td>0.087136</td>\n",
       "      <td>0.086707</td>\n",
       "      <td>0.086707</td>\n",
       "      <td>105728000</td>\n",
       "      <td>0.0</td>\n",
       "      <td>0.0</td>\n",
       "      <td>AAPL</td>\n",
       "      <td>89.1</td>\n",
       "      <td>7.2</td>\n",
       "      <td>72.4</td>\n",
       "    </tr>\n",
       "    <tr>\n",
       "      <th>3</th>\n",
       "      <td>1980-12-17</td>\n",
       "      <td>0.088853</td>\n",
       "      <td>0.089282</td>\n",
       "      <td>0.088853</td>\n",
       "      <td>0.088853</td>\n",
       "      <td>86441600</td>\n",
       "      <td>0.0</td>\n",
       "      <td>0.0</td>\n",
       "      <td>AAPL</td>\n",
       "      <td>89.1</td>\n",
       "      <td>7.2</td>\n",
       "      <td>72.4</td>\n",
       "    </tr>\n",
       "    <tr>\n",
       "      <th>4</th>\n",
       "      <td>1980-12-18</td>\n",
       "      <td>0.091429</td>\n",
       "      <td>0.091858</td>\n",
       "      <td>0.091429</td>\n",
       "      <td>0.091429</td>\n",
       "      <td>73449600</td>\n",
       "      <td>0.0</td>\n",
       "      <td>0.0</td>\n",
       "      <td>AAPL</td>\n",
       "      <td>89.1</td>\n",
       "      <td>7.2</td>\n",
       "      <td>72.4</td>\n",
       "    </tr>\n",
       "  </tbody>\n",
       "</table>\n",
       "</div>"
      ],
      "text/plain": [
       "        date      open      high       low     close     volume  dividends  \\\n",
       "0 1980-12-12  0.098726  0.099155  0.098726  0.098726  469033600        0.0   \n",
       "1 1980-12-15  0.094005  0.094005  0.093575  0.093575  175884800        0.0   \n",
       "2 1980-12-16  0.087136  0.087136  0.086707  0.086707  105728000        0.0   \n",
       "3 1980-12-17  0.088853  0.089282  0.088853  0.088853   86441600        0.0   \n",
       "4 1980-12-18  0.091429  0.091858  0.091429  0.091429   73449600        0.0   \n",
       "\n",
       "   stock splits ticker   cpi  unrate   csi  \n",
       "0           0.0   AAPL  89.1     7.2  72.4  \n",
       "1           0.0   AAPL  89.1     7.2  72.4  \n",
       "2           0.0   AAPL  89.1     7.2  72.4  \n",
       "3           0.0   AAPL  89.1     7.2  72.4  \n",
       "4           0.0   AAPL  89.1     7.2  72.4  "
      ]
     },
     "execution_count": 164,
     "metadata": {},
     "output_type": "execute_result"
    }
   ],
   "source": [
    "# Convert stock dates to naive datetime (removing timezone)\n",
    "stocks['Date'] = stocks['Date'].dt.tz_localize(None)\n",
    "\n",
    "# Convert fred dates to ensure consistency (though likely already naive)\n",
    "fred['Date'] = fred['Date'].dt.tz_localize(None)\n",
    "\n",
    "# merge data on date\n",
    "fi_df = pd.merge(stocks, fred, on='Date', how='left')\n",
    "\n",
    "# backfill monthly indicators to prevent NaN values\n",
    "fi_df[['cpi', 'unrate', 'csi']] = fi_df[['cpi', 'unrate', 'csi']].ffill()\n",
    "fi_df[['cpi', 'unrate', 'csi']] = fi_df[['cpi', 'unrate', 'csi']].bfill()\n",
    "\n",
    "# ensure consistency\n",
    "fi_df.columns = fi_df.columns.str.lower()\n",
    "fi_df.head()"
   ]
  },
  {
   "cell_type": "markdown",
   "metadata": {},
   "source": [
    "## Push into Database ##"
   ]
  }
 ],
 "metadata": {
  "kernelspec": {
   "display_name": "PYFI",
   "language": "python",
   "name": "python3"
  },
  "language_info": {
   "codemirror_mode": {
    "name": "ipython",
    "version": 3
   },
   "file_extension": ".py",
   "mimetype": "text/x-python",
   "name": "python",
   "nbconvert_exporter": "python",
   "pygments_lexer": "ipython3",
   "version": "3.13.2"
  }
 },
 "nbformat": 4,
 "nbformat_minor": 2
}
