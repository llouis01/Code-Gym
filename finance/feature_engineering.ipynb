{
 "cells": [
  {
   "cell_type": "markdown",
   "metadata": {},
   "source": [
    "## Data Preparation ##"
   ]
  },
  {
   "cell_type": "code",
   "execution_count": 3,
   "metadata": {},
   "outputs": [],
   "source": [
    "# library imports\n",
    "import re\n",
    "import pandas as pd\n",
    "import matplotlib.pyplot as plt\n",
    "from sklearn.preprocessing import LabelEncoder as LE\n",
    "from sklearn.model_selection import train_test_split\n",
    "from sklearn.tree import DecisionTreeClassifier as DTC, plot_tree as PT\n",
    "from sklearn.metrics import accuracy_score, classification_report"
   ]
  },
  {
   "cell_type": "code",
   "execution_count": 4,
   "metadata": {},
   "outputs": [],
   "source": [
    "# custom funcs\n",
    "def transform_cat_cols(df):\n",
    "    for col in df.columns:\n",
    "        if df[col].dtype == \"object\":\n",
    "            df[col] = LE().fit_transform(df[col])\n",
    "    return df\n",
    "\n",
    "# make X and y data for training w/out ID columns and y w/out label column\n",
    "def make_XY(df):\n",
    "    # encode categorical columns\n",
    "    X = transform_cat_cols(df)\n",
    "    \n",
    "    # drop ID cols, isolate target var in y sets only\n",
    "    y = X[[X.columns[-1]]]\n",
    "    X = X.drop(columns=['Loan_Approval_Status'])\n",
    "    for col in X.columns:\n",
    "        if re.match(r\".*ID\", col):\n",
    "            X = X.drop(columns = col)\n",
    "    return X, y"
   ]
  },
  {
   "cell_type": "code",
   "execution_count": 5,
   "metadata": {},
   "outputs": [
    {
     "name": "stdout",
     "output_type": "stream",
     "text": [
      "   Cash_Flow_Volatility  On_Time_Payment_Ratio  Monthly_Rent  \\\n",
      "0              0.416370               0.912287          1192   \n",
      "1              0.498742               0.800618          2396   \n",
      "2              0.071182               0.597426          4531   \n",
      "3              0.478606               0.748722          2224   \n",
      "4              0.217794               0.831345          2765   \n",
      "\n",
      "   LinkedIn_Activity_Score  Business_Review_Score  Streaming_Subscriptions  \\\n",
      "0                        9               4.931088                        3   \n",
      "1                       13               1.238657                        2   \n",
      "2                       27               1.444173                        3   \n",
      "3                       75               3.054971                        2   \n",
      "4                       64               2.452960                        1   \n",
      "\n",
      "   Ecommerce_Spending  Default_Risk_Score Loan_Approval_Status  \n",
      "0                2882            0.590042             Approved  \n",
      "1                 724            0.023059             Approved  \n",
      "2                1031            0.566139             Rejected  \n",
      "3                3729            0.948620             Rejected  \n",
      "4                 479            0.904932             Rejected  \n"
     ]
    }
   ],
   "source": [
    "# data import\n",
    "df = pd.read_csv(\"~\\\\Desktop\\\\data\\\\finance\\\\synthetic_credit_risk_data_historical.csv\")\n",
    "print(df.iloc[:5, 6:])"
   ]
  },
  {
   "cell_type": "code",
   "execution_count": 6,
   "metadata": {},
   "outputs": [],
   "source": [
    "# features for training\n",
    "X, y = make_XY(df)\n",
    "\n",
    "# make train, test, val sets\n",
    "x_train, x_temp, y_train, y_temp = train_test_split(X, y, test_size=0.2)\n",
    "x_val, x_test, y_val, y_test = train_test_split(x_temp, y_temp, test_size=0.5)"
   ]
  },
  {
   "cell_type": "code",
   "execution_count": 11,
   "metadata": {},
   "outputs": [
    {
     "name": "stdout",
     "output_type": "stream",
     "text": [
      "        LinkedIn_Activity_Score  Business_Review_Score  \\\n",
      "443666                       76               2.793860   \n",
      "642680                       60               4.715359   \n",
      "370351                       79               1.052659   \n",
      "130800                       83               2.471847   \n",
      "237881                       51               4.426259   \n",
      "\n",
      "        Streaming_Subscriptions  Ecommerce_Spending  Default_Risk_Score  \n",
      "443666                        1                2520            0.808938  \n",
      "642680                        2                2222            0.438392  \n",
      "370351                        1                4623            0.435254  \n",
      "130800                        3                1027            0.766459  \n",
      "237881                        1                1636            0.597020  \n",
      "        Loan_Approval_Status\n",
      "443666                     1\n",
      "642680                     0\n",
      "370351                     1\n",
      "130800                     1\n",
      "237881                     1\n"
     ]
    }
   ],
   "source": [
    "print(x_train.iloc[:5, 8:])\n",
    "print(y_train.head())"
   ]
  },
  {
   "cell_type": "markdown",
   "metadata": {},
   "source": [
    "## Model Config ##"
   ]
  },
  {
   "cell_type": "code",
   "execution_count": 1,
   "metadata": {},
   "outputs": [
    {
     "ename": "NameError",
     "evalue": "name 'DTC' is not defined",
     "output_type": "error",
     "traceback": [
      "\u001b[1;31m---------------------------------------------------------------------------\u001b[0m",
      "\u001b[1;31mNameError\u001b[0m                                 Traceback (most recent call last)",
      "Cell \u001b[1;32mIn[1], line 2\u001b[0m\n\u001b[0;32m      1\u001b[0m \u001b[38;5;66;03m# train model\u001b[39;00m\n\u001b[1;32m----> 2\u001b[0m model \u001b[38;5;241m=\u001b[39m \u001b[43mDTC\u001b[49m(max_depth\u001b[38;5;241m=\u001b[39m\u001b[38;5;241m5\u001b[39m)\n\u001b[0;32m      3\u001b[0m model\u001b[38;5;241m.\u001b[39mfit(x_train, y_train)\n",
      "\u001b[1;31mNameError\u001b[0m: name 'DTC' is not defined"
     ]
    }
   ],
   "source": [
    "# train model\n",
    "model = DTC(max_depth=5)\n",
    "model.fit(x_train, y_train)"
   ]
  },
  {
   "cell_type": "code",
   "execution_count": 13,
   "metadata": {},
   "outputs": [],
   "source": [
    "# predict\n",
    "y_preds = model.predict(x_test)"
   ]
  },
  {
   "cell_type": "code",
   "execution_count": null,
   "metadata": {},
   "outputs": [
    {
     "name": "stdout",
     "output_type": "stream",
     "text": [
      "Accuracy: 0.8546\n"
     ]
    },
    {
     "ename": "KeyboardInterrupt",
     "evalue": "",
     "output_type": "error",
     "traceback": [
      "\u001b[1;31m---------------------------------------------------------------------------\u001b[0m",
      "\u001b[1;31mKeyboardInterrupt\u001b[0m                         Traceback (most recent call last)",
      "Cell \u001b[1;32mIn[14], line 6\u001b[0m\n\u001b[0;32m      3\u001b[0m \u001b[38;5;28mprint\u001b[39m(\u001b[38;5;124mf\u001b[39m\u001b[38;5;124m\"\u001b[39m\u001b[38;5;124mAccuracy: \u001b[39m\u001b[38;5;132;01m{\u001b[39;00maccuracy\u001b[38;5;132;01m:\u001b[39;00m\u001b[38;5;124m.4f\u001b[39m\u001b[38;5;132;01m}\u001b[39;00m\u001b[38;5;124m\"\u001b[39m)\n\u001b[0;32m      5\u001b[0m plt\u001b[38;5;241m.\u001b[39mfigure(figsize\u001b[38;5;241m=\u001b[39m(\u001b[38;5;241m20\u001b[39m, \u001b[38;5;241m10\u001b[39m))\n\u001b[1;32m----> 6\u001b[0m \u001b[43mPT\u001b[49m\u001b[43m(\u001b[49m\u001b[43mmodel\u001b[49m\u001b[43m,\u001b[49m\u001b[43m \u001b[49m\u001b[43mfilled\u001b[49m\u001b[38;5;241;43m=\u001b[39;49m\u001b[38;5;28;43;01mTrue\u001b[39;49;00m\u001b[43m,\u001b[49m\u001b[43m \u001b[49m\u001b[43mfeature_names\u001b[49m\u001b[38;5;241;43m=\u001b[39;49m\u001b[43mx_train\u001b[49m\u001b[38;5;241;43m.\u001b[39;49m\u001b[43mcolumns\u001b[49m\u001b[43m,\u001b[49m\u001b[43m \u001b[49m\u001b[43mclass_names\u001b[49m\u001b[38;5;241;43m=\u001b[39;49m\u001b[43m[\u001b[49m\u001b[38;5;124;43m'\u001b[39;49m\u001b[38;5;124;43mApproved\u001b[39;49m\u001b[38;5;124;43m'\u001b[39;49m\u001b[43m,\u001b[49m\u001b[43m \u001b[49m\u001b[38;5;124;43m'\u001b[39;49m\u001b[38;5;124;43mRejected\u001b[39;49m\u001b[38;5;124;43m'\u001b[39;49m\u001b[43m]\u001b[49m\u001b[43m)\u001b[49m\n\u001b[0;32m      7\u001b[0m plt\u001b[38;5;241m.\u001b[39mshow()\n",
      "File \u001b[1;32mc:\\Users\\RoiMinuit\\miniconda3\\envs\\PYFI\\Lib\\site-packages\\sklearn\\utils\\_param_validation.py:216\u001b[0m, in \u001b[0;36mvalidate_params.<locals>.decorator.<locals>.wrapper\u001b[1;34m(*args, **kwargs)\u001b[0m\n\u001b[0;32m    210\u001b[0m \u001b[38;5;28;01mtry\u001b[39;00m:\n\u001b[0;32m    211\u001b[0m     \u001b[38;5;28;01mwith\u001b[39;00m config_context(\n\u001b[0;32m    212\u001b[0m         skip_parameter_validation\u001b[38;5;241m=\u001b[39m(\n\u001b[0;32m    213\u001b[0m             prefer_skip_nested_validation \u001b[38;5;129;01mor\u001b[39;00m global_skip_validation\n\u001b[0;32m    214\u001b[0m         )\n\u001b[0;32m    215\u001b[0m     ):\n\u001b[1;32m--> 216\u001b[0m         \u001b[38;5;28;01mreturn\u001b[39;00m \u001b[43mfunc\u001b[49m\u001b[43m(\u001b[49m\u001b[38;5;241;43m*\u001b[39;49m\u001b[43margs\u001b[49m\u001b[43m,\u001b[49m\u001b[43m \u001b[49m\u001b[38;5;241;43m*\u001b[39;49m\u001b[38;5;241;43m*\u001b[39;49m\u001b[43mkwargs\u001b[49m\u001b[43m)\u001b[49m\n\u001b[0;32m    217\u001b[0m \u001b[38;5;28;01mexcept\u001b[39;00m InvalidParameterError \u001b[38;5;28;01mas\u001b[39;00m e:\n\u001b[0;32m    218\u001b[0m     \u001b[38;5;66;03m# When the function is just a wrapper around an estimator, we allow\u001b[39;00m\n\u001b[0;32m    219\u001b[0m     \u001b[38;5;66;03m# the function to delegate validation to the estimator, but we replace\u001b[39;00m\n\u001b[0;32m    220\u001b[0m     \u001b[38;5;66;03m# the name of the estimator by the name of the function in the error\u001b[39;00m\n\u001b[0;32m    221\u001b[0m     \u001b[38;5;66;03m# message to avoid confusion.\u001b[39;00m\n\u001b[0;32m    222\u001b[0m     msg \u001b[38;5;241m=\u001b[39m re\u001b[38;5;241m.\u001b[39msub(\n\u001b[0;32m    223\u001b[0m         \u001b[38;5;124mr\u001b[39m\u001b[38;5;124m\"\u001b[39m\u001b[38;5;124mparameter of \u001b[39m\u001b[38;5;124m\\\u001b[39m\u001b[38;5;124mw+ must be\u001b[39m\u001b[38;5;124m\"\u001b[39m,\n\u001b[0;32m    224\u001b[0m         \u001b[38;5;124mf\u001b[39m\u001b[38;5;124m\"\u001b[39m\u001b[38;5;124mparameter of \u001b[39m\u001b[38;5;132;01m{\u001b[39;00mfunc\u001b[38;5;241m.\u001b[39m\u001b[38;5;18m__qualname__\u001b[39m\u001b[38;5;132;01m}\u001b[39;00m\u001b[38;5;124m must be\u001b[39m\u001b[38;5;124m\"\u001b[39m,\n\u001b[0;32m    225\u001b[0m         \u001b[38;5;28mstr\u001b[39m(e),\n\u001b[0;32m    226\u001b[0m     )\n",
      "File \u001b[1;32mc:\\Users\\RoiMinuit\\miniconda3\\envs\\PYFI\\Lib\\site-packages\\sklearn\\tree\\_export.py:205\u001b[0m, in \u001b[0;36mplot_tree\u001b[1;34m(decision_tree, max_depth, feature_names, class_names, label, filled, impurity, node_ids, proportion, rounded, precision, ax, fontsize)\u001b[0m\n\u001b[0;32m    190\u001b[0m check_is_fitted(decision_tree)\n\u001b[0;32m    192\u001b[0m exporter \u001b[38;5;241m=\u001b[39m _MPLTreeExporter(\n\u001b[0;32m    193\u001b[0m     max_depth\u001b[38;5;241m=\u001b[39mmax_depth,\n\u001b[0;32m    194\u001b[0m     feature_names\u001b[38;5;241m=\u001b[39mfeature_names,\n\u001b[1;32m   (...)\u001b[0m\n\u001b[0;32m    203\u001b[0m     fontsize\u001b[38;5;241m=\u001b[39mfontsize,\n\u001b[0;32m    204\u001b[0m )\n\u001b[1;32m--> 205\u001b[0m \u001b[38;5;28;01mreturn\u001b[39;00m \u001b[43mexporter\u001b[49m\u001b[38;5;241;43m.\u001b[39;49m\u001b[43mexport\u001b[49m\u001b[43m(\u001b[49m\u001b[43mdecision_tree\u001b[49m\u001b[43m,\u001b[49m\u001b[43m \u001b[49m\u001b[43max\u001b[49m\u001b[38;5;241;43m=\u001b[39;49m\u001b[43max\u001b[49m\u001b[43m)\u001b[49m\n",
      "File \u001b[1;32mc:\\Users\\RoiMinuit\\miniconda3\\envs\\PYFI\\Lib\\site-packages\\sklearn\\tree\\_export.py:673\u001b[0m, in \u001b[0;36m_MPLTreeExporter.export\u001b[1;34m(self, decision_tree, ax)\u001b[0m\n\u001b[0;32m    670\u001b[0m renderer \u001b[38;5;241m=\u001b[39m ax\u001b[38;5;241m.\u001b[39mfigure\u001b[38;5;241m.\u001b[39mcanvas\u001b[38;5;241m.\u001b[39mget_renderer()\n\u001b[0;32m    672\u001b[0m \u001b[38;5;28;01mfor\u001b[39;00m ann \u001b[38;5;129;01min\u001b[39;00m anns:\n\u001b[1;32m--> 673\u001b[0m     \u001b[43mann\u001b[49m\u001b[38;5;241;43m.\u001b[39;49m\u001b[43mupdate_bbox_position_size\u001b[49m\u001b[43m(\u001b[49m\u001b[43mrenderer\u001b[49m\u001b[43m)\u001b[49m\n\u001b[0;32m    675\u001b[0m \u001b[38;5;28;01mif\u001b[39;00m \u001b[38;5;28mself\u001b[39m\u001b[38;5;241m.\u001b[39mfontsize \u001b[38;5;129;01mis\u001b[39;00m \u001b[38;5;28;01mNone\u001b[39;00m:\n\u001b[0;32m    676\u001b[0m     \u001b[38;5;66;03m# get figure to data transform\u001b[39;00m\n\u001b[0;32m    677\u001b[0m     \u001b[38;5;66;03m# adjust fontsize to avoid overlap\u001b[39;00m\n\u001b[0;32m    678\u001b[0m     \u001b[38;5;66;03m# get max box width and height\u001b[39;00m\n\u001b[0;32m    679\u001b[0m     extents \u001b[38;5;241m=\u001b[39m [\n\u001b[0;32m    680\u001b[0m         bbox_patch\u001b[38;5;241m.\u001b[39mget_window_extent()\n\u001b[0;32m    681\u001b[0m         \u001b[38;5;28;01mfor\u001b[39;00m ann \u001b[38;5;129;01min\u001b[39;00m anns\n\u001b[0;32m    682\u001b[0m         \u001b[38;5;28;01mif\u001b[39;00m (bbox_patch \u001b[38;5;241m:=\u001b[39m ann\u001b[38;5;241m.\u001b[39mget_bbox_patch()) \u001b[38;5;129;01mis\u001b[39;00m \u001b[38;5;129;01mnot\u001b[39;00m \u001b[38;5;28;01mNone\u001b[39;00m\n\u001b[0;32m    683\u001b[0m     ]\n",
      "File \u001b[1;32mc:\\Users\\RoiMinuit\\miniconda3\\envs\\PYFI\\Lib\\site-packages\\matplotlib\\text.py:571\u001b[0m, in \u001b[0;36mText.update_bbox_position_size\u001b[1;34m(self, renderer)\u001b[0m\n\u001b[0;32m    568\u001b[0m posy \u001b[38;5;241m=\u001b[39m \u001b[38;5;28mfloat\u001b[39m(\u001b[38;5;28mself\u001b[39m\u001b[38;5;241m.\u001b[39mconvert_yunits(\u001b[38;5;28mself\u001b[39m\u001b[38;5;241m.\u001b[39m_y))\n\u001b[0;32m    569\u001b[0m posx, posy \u001b[38;5;241m=\u001b[39m \u001b[38;5;28mself\u001b[39m\u001b[38;5;241m.\u001b[39mget_transform()\u001b[38;5;241m.\u001b[39mtransform((posx, posy))\n\u001b[1;32m--> 571\u001b[0m x_box, y_box, w_box, h_box \u001b[38;5;241m=\u001b[39m \u001b[43m_get_textbox\u001b[49m\u001b[43m(\u001b[49m\u001b[38;5;28;43mself\u001b[39;49m\u001b[43m,\u001b[49m\u001b[43m \u001b[49m\u001b[43mrenderer\u001b[49m\u001b[43m)\u001b[49m\n\u001b[0;32m    572\u001b[0m \u001b[38;5;28mself\u001b[39m\u001b[38;5;241m.\u001b[39m_bbox_patch\u001b[38;5;241m.\u001b[39mset_bounds(\u001b[38;5;241m0.\u001b[39m, \u001b[38;5;241m0.\u001b[39m, w_box, h_box)\n\u001b[0;32m    573\u001b[0m \u001b[38;5;28mself\u001b[39m\u001b[38;5;241m.\u001b[39m_bbox_patch\u001b[38;5;241m.\u001b[39mset_transform(\n\u001b[0;32m    574\u001b[0m     Affine2D()\n\u001b[0;32m    575\u001b[0m     \u001b[38;5;241m.\u001b[39mrotate_deg(\u001b[38;5;28mself\u001b[39m\u001b[38;5;241m.\u001b[39mget_rotation())\n\u001b[0;32m    576\u001b[0m     \u001b[38;5;241m.\u001b[39mtranslate(posx \u001b[38;5;241m+\u001b[39m x_box, posy \u001b[38;5;241m+\u001b[39m y_box))\n",
      "File \u001b[1;32mc:\\Users\\RoiMinuit\\miniconda3\\envs\\PYFI\\Lib\\site-packages\\matplotlib\\text.py:45\u001b[0m, in \u001b[0;36m_get_textbox\u001b[1;34m(text, renderer)\u001b[0m\n\u001b[0;32m     42\u001b[0m theta \u001b[38;5;241m=\u001b[39m np\u001b[38;5;241m.\u001b[39mdeg2rad(text\u001b[38;5;241m.\u001b[39mget_rotation())\n\u001b[0;32m     43\u001b[0m tr \u001b[38;5;241m=\u001b[39m Affine2D()\u001b[38;5;241m.\u001b[39mrotate(\u001b[38;5;241m-\u001b[39mtheta)\n\u001b[1;32m---> 45\u001b[0m _, parts, d \u001b[38;5;241m=\u001b[39m \u001b[43mtext\u001b[49m\u001b[38;5;241;43m.\u001b[39;49m\u001b[43m_get_layout\u001b[49m\u001b[43m(\u001b[49m\u001b[43mrenderer\u001b[49m\u001b[43m)\u001b[49m\n\u001b[0;32m     47\u001b[0m \u001b[38;5;28;01mfor\u001b[39;00m t, wh, x, y \u001b[38;5;129;01min\u001b[39;00m parts:\n\u001b[0;32m     48\u001b[0m     w, h \u001b[38;5;241m=\u001b[39m wh\n",
      "File \u001b[1;32mc:\\Users\\RoiMinuit\\miniconda3\\envs\\PYFI\\Lib\\site-packages\\matplotlib\\text.py:382\u001b[0m, in \u001b[0;36mText._get_layout\u001b[1;34m(self, renderer)\u001b[0m\n\u001b[0;32m    380\u001b[0m clean_line, ismath \u001b[38;5;241m=\u001b[39m \u001b[38;5;28mself\u001b[39m\u001b[38;5;241m.\u001b[39m_preprocess_math(line)\n\u001b[0;32m    381\u001b[0m \u001b[38;5;28;01mif\u001b[39;00m clean_line:\n\u001b[1;32m--> 382\u001b[0m     w, h, d \u001b[38;5;241m=\u001b[39m \u001b[43m_get_text_metrics_with_cache\u001b[49m\u001b[43m(\u001b[49m\n\u001b[0;32m    383\u001b[0m \u001b[43m        \u001b[49m\u001b[43mrenderer\u001b[49m\u001b[43m,\u001b[49m\u001b[43m \u001b[49m\u001b[43mclean_line\u001b[49m\u001b[43m,\u001b[49m\u001b[43m \u001b[49m\u001b[38;5;28;43mself\u001b[39;49m\u001b[38;5;241;43m.\u001b[39;49m\u001b[43m_fontproperties\u001b[49m\u001b[43m,\u001b[49m\n\u001b[0;32m    384\u001b[0m \u001b[43m        \u001b[49m\u001b[43mismath\u001b[49m\u001b[38;5;241;43m=\u001b[39;49m\u001b[43mismath\u001b[49m\u001b[43m,\u001b[49m\u001b[43m \u001b[49m\u001b[43mdpi\u001b[49m\u001b[38;5;241;43m=\u001b[39;49m\u001b[38;5;28;43mself\u001b[39;49m\u001b[38;5;241;43m.\u001b[39;49m\u001b[43mget_figure\u001b[49m\u001b[43m(\u001b[49m\u001b[43mroot\u001b[49m\u001b[38;5;241;43m=\u001b[39;49m\u001b[38;5;28;43;01mTrue\u001b[39;49;00m\u001b[43m)\u001b[49m\u001b[38;5;241;43m.\u001b[39;49m\u001b[43mdpi\u001b[49m\u001b[43m)\u001b[49m\n\u001b[0;32m    385\u001b[0m \u001b[38;5;28;01melse\u001b[39;00m:\n\u001b[0;32m    386\u001b[0m     w \u001b[38;5;241m=\u001b[39m h \u001b[38;5;241m=\u001b[39m d \u001b[38;5;241m=\u001b[39m \u001b[38;5;241m0\u001b[39m\n",
      "File \u001b[1;32mc:\\Users\\RoiMinuit\\miniconda3\\envs\\PYFI\\Lib\\site-packages\\matplotlib\\text.py:69\u001b[0m, in \u001b[0;36m_get_text_metrics_with_cache\u001b[1;34m(renderer, text, fontprop, ismath, dpi)\u001b[0m\n\u001b[0;32m     66\u001b[0m \u001b[38;5;250m\u001b[39m\u001b[38;5;124;03m\"\"\"Call ``renderer.get_text_width_height_descent``, caching the results.\"\"\"\u001b[39;00m\n\u001b[0;32m     67\u001b[0m \u001b[38;5;66;03m# Cached based on a copy of fontprop so that later in-place mutations of\u001b[39;00m\n\u001b[0;32m     68\u001b[0m \u001b[38;5;66;03m# the passed-in argument do not mess up the cache.\u001b[39;00m\n\u001b[1;32m---> 69\u001b[0m \u001b[38;5;28;01mreturn\u001b[39;00m \u001b[43m_get_text_metrics_with_cache_impl\u001b[49m\u001b[43m(\u001b[49m\n\u001b[0;32m     70\u001b[0m \u001b[43m    \u001b[49m\u001b[43mweakref\u001b[49m\u001b[38;5;241;43m.\u001b[39;49m\u001b[43mref\u001b[49m\u001b[43m(\u001b[49m\u001b[43mrenderer\u001b[49m\u001b[43m)\u001b[49m\u001b[43m,\u001b[49m\u001b[43m \u001b[49m\u001b[43mtext\u001b[49m\u001b[43m,\u001b[49m\u001b[43m \u001b[49m\u001b[43mfontprop\u001b[49m\u001b[38;5;241;43m.\u001b[39;49m\u001b[43mcopy\u001b[49m\u001b[43m(\u001b[49m\u001b[43m)\u001b[49m\u001b[43m,\u001b[49m\u001b[43m \u001b[49m\u001b[43mismath\u001b[49m\u001b[43m,\u001b[49m\u001b[43m \u001b[49m\u001b[43mdpi\u001b[49m\u001b[43m)\u001b[49m\n",
      "File \u001b[1;32mc:\\Users\\RoiMinuit\\miniconda3\\envs\\PYFI\\Lib\\site-packages\\matplotlib\\text.py:77\u001b[0m, in \u001b[0;36m_get_text_metrics_with_cache_impl\u001b[1;34m(renderer_ref, text, fontprop, ismath, dpi)\u001b[0m\n\u001b[0;32m     73\u001b[0m \u001b[38;5;129m@functools\u001b[39m\u001b[38;5;241m.\u001b[39mlru_cache(\u001b[38;5;241m4096\u001b[39m)\n\u001b[0;32m     74\u001b[0m \u001b[38;5;28;01mdef\u001b[39;00m\u001b[38;5;250m \u001b[39m\u001b[38;5;21m_get_text_metrics_with_cache_impl\u001b[39m(\n\u001b[0;32m     75\u001b[0m         renderer_ref, text, fontprop, ismath, dpi):\n\u001b[0;32m     76\u001b[0m     \u001b[38;5;66;03m# dpi is unused, but participates in cache invalidation (via the renderer).\u001b[39;00m\n\u001b[1;32m---> 77\u001b[0m     \u001b[38;5;28;01mreturn\u001b[39;00m \u001b[43mrenderer_ref\u001b[49m\u001b[43m(\u001b[49m\u001b[43m)\u001b[49m\u001b[38;5;241;43m.\u001b[39;49m\u001b[43mget_text_width_height_descent\u001b[49m\u001b[43m(\u001b[49m\u001b[43mtext\u001b[49m\u001b[43m,\u001b[49m\u001b[43m \u001b[49m\u001b[43mfontprop\u001b[49m\u001b[43m,\u001b[49m\u001b[43m \u001b[49m\u001b[43mismath\u001b[49m\u001b[43m)\u001b[49m\n",
      "File \u001b[1;32mc:\\Users\\RoiMinuit\\miniconda3\\envs\\PYFI\\Lib\\site-packages\\matplotlib\\backends\\backend_agg.py:219\u001b[0m, in \u001b[0;36mRendererAgg.get_text_width_height_descent\u001b[1;34m(self, s, prop, ismath)\u001b[0m\n\u001b[0;32m    216\u001b[0m     \u001b[38;5;28;01mreturn\u001b[39;00m width, height, descent\n\u001b[0;32m    218\u001b[0m font \u001b[38;5;241m=\u001b[39m \u001b[38;5;28mself\u001b[39m\u001b[38;5;241m.\u001b[39m_prepare_font(prop)\n\u001b[1;32m--> 219\u001b[0m \u001b[43mfont\u001b[49m\u001b[38;5;241;43m.\u001b[39;49m\u001b[43mset_text\u001b[49m\u001b[43m(\u001b[49m\u001b[43ms\u001b[49m\u001b[43m,\u001b[49m\u001b[43m \u001b[49m\u001b[38;5;241;43m0.0\u001b[39;49m\u001b[43m,\u001b[49m\u001b[43m \u001b[49m\u001b[43mflags\u001b[49m\u001b[38;5;241;43m=\u001b[39;49m\u001b[43mget_hinting_flag\u001b[49m\u001b[43m(\u001b[49m\u001b[43m)\u001b[49m\u001b[43m)\u001b[49m\n\u001b[0;32m    220\u001b[0m w, h \u001b[38;5;241m=\u001b[39m font\u001b[38;5;241m.\u001b[39mget_width_height()  \u001b[38;5;66;03m# width and height of unrotated string\u001b[39;00m\n\u001b[0;32m    221\u001b[0m d \u001b[38;5;241m=\u001b[39m font\u001b[38;5;241m.\u001b[39mget_descent()\n",
      "\u001b[1;31mKeyboardInterrupt\u001b[0m: "
     ]
    }
   ],
   "source": [
    "# accuracy\n",
    "accuracy = accuracy_score(y_test, y_preds)\n",
    "print(f\"Accuracy: {accuracy:.4f}\")\n",
    "\n",
    "plt.figure(figsize=(20, 10))\n",
    "PT(model, filled=True, feature_names=x_train.columns, class_names=['Approved', 'Rejected'])\n",
    "plt.show()"
   ]
  },
  {
   "cell_type": "markdown",
   "metadata": {},
   "source": [
    "## Result Explanation ##"
   ]
  },
  {
   "cell_type": "markdown",
   "metadata": {},
   "source": [
    "Let's break down what this decision tree is showing:\n",
    "\n",
    "---\n",
    "\n",
    "### **Overview**\n",
    "\n",
    "This is a **classification decision tree** used to determine whether a loan application should be **Approved** or **Rejected**. At each node, a condition on a particular feature is evaluated, splitting the data into separate branches. The goal is to end up with branches (or leaves) that are as \"pure\" as possible—meaning the vast majority of cases in a leaf belong to one class.\n",
    "\n",
    "---\n",
    "\n",
    "### **Key Components of the Tree**\n",
    "\n",
    "1. **Nodes and Conditions:**  \n",
    "   - **Root Node:**  \n",
    "     - **Condition:** `Default_Risk_Score <= 0.6`  \n",
    "     - **Gini impurity:** 0.499 (a measure of how mixed the classes are in that node)  \n",
    "     - **Samples:** 400,000 (the total examples going into this node)  \n",
    "     - **Value:** `[384155, 15845]` (counts of each class; e.g., 384,155 might be for Approved and 15,845 for Rejected)  \n",
    "     - **Predicted Class:** Rejected  \n",
    "     \n",
    "     The decision begins by checking the default risk score. If the risk is low (i.e., less than or equal to 0.6), the tree then branches off to further evaluate the application; if it’s above, the result is directly leaning toward rejection.\n",
    "   \n",
    "2. **Branches and Further Splits:**  \n",
    "   - **Left Branch (True for the root condition):**  \n",
    "     - **Next Condition:** `Default_Risk_Score <= 0.3`  \n",
    "       - This branch further splits the data based on an even lower risk threshold. That is, within the set of applications that already had low risk (≤ 0.6), this test distinguishes even safer or better profiles (≤ 0.3).\n",
    "     - **Another sub-condition on the left side is:** `Income_Level <= 20072.5` – This is one of the factors used to refine the decision-making further.\n",
    "     - **Additional conditions include tests like:**  \n",
    "       - `LinkedIn_Activity_Score <= 86.0`  \n",
    "       - `Monthly_Rent <= 2915.5`  \n",
    "       - `Cash_Flow_Volatility <= 0.415`  \n",
    "       \n",
    "     Each of these further splits is designed to reduce the Gini impurity—in other words, to improve the certainty about whether an application should be approved or rejected.\n",
    "   \n",
    "   - **Right Branch (False for the root or a sub-condition):**  \n",
    "     - Applications that do not follow the left branch’s conditions eventually end up in this branch.  \n",
    "     - Here, the conditions include factors such as:  \n",
    "       - `Avg_Monthly_Deposits <= 14689.5`  \n",
    "       - `On_Time_Payment_Ratio <= 0.843`  \n",
    "     - These factors determine the quality of the applicant’s financial behavior.  \n",
    "     - Even deeper, the right branch further splits based on slightly different thresholds (for example, testing `Avg_Monthly_Deposits <= 14709.5` within a subset of samples).\n",
    "\n",
    "3. **Interpretation of Node Metrics:**\n",
    "   - **Gini Impurity:**  \n",
    "     A lower Gini value indicates a purer node (closer to having examples from only one class). As the tree splits further, the nodes often become purer.\n",
    "   - **Sample Count:**  \n",
    "     This shows how many data points fall into that node. Large sample counts imply that many examples share that condition.\n",
    "   - **Value Distribution:**  \n",
    "     This array (like `[384155, 15845]`) tells you the counts for each class (one for Approved, one for Rejected) that reached that node.\n",
    "   - **Predicted Class:**  \n",
    "     The class (Approved or Rejected) that is most common in that node is chosen as the prediction for any new sample that falls into that branch.\n",
    "\n",
    "---\n",
    "\n",
    "### **Why Is This Structure Important?**\n",
    "\n",
    "- **Transparency:**  \n",
    "  Decision trees are popular because they visually outline how a decision is made. Each decision point shows which feature (for example, **Default_Risk_Score** or **Income_Level**) is most impactful.\n",
    "\n",
    "- **Feature Importance:**  \n",
    "  The tree helps us understand which features most influence the outcome. For instance, if a key decision is made at the root using the **Default_Risk_Score**, it highlights that this metric is highly predictive of the loan outcome.\n",
    "\n",
    "- **Reduction of Uncertainty:**  \n",
    "  By repeatedly splitting the data based on conditions that lower the Gini impurity, the tree aims to classify the samples with as little uncertainty as possible. Each branch is meant to isolate a more \"pure\" group either for approval or rejection.\n",
    "\n",
    "- **Real-World Implications:**  \n",
    "  For a financial institution, such a tree can help streamline the loan approval process. It codifies expert judgment into rules—e.g., “If the default risk is high or the income level is too low, reject immediately”—and automates decisions, making it easier to handle large volumes of applications consistently.\n",
    "\n",
    "---\n",
    "\n",
    "### **Visual Walkthrough Example**\n",
    "\n",
    "Imagine a new loan application entering the system:\n",
    "\n",
    "1. **Step 1:** The system first checks if the applicant’s **Default_Risk_Score** is less than or equal to 0.6.\n",
    "   - **If yes:** The application is considered further.\n",
    "   - **If no:** The application might be rejected without further checks.\n",
    "2. **Step 2:** For those who pass the root test, the system then checks if their **Default_Risk_Score** is even lower (≤ 0.3).  \n",
    "   - This double-check establishes how safe the applicant is regarding risk.\n",
    "3. **Step 3:** Depending on the branch, other details like **Income Level**, **LinkedIn Activity Score**, and **Monthly Rent** are evaluated.\n",
    "4. **Step 4:** Finally, after following all relevant paths, the tree ends at a leaf node where a clear decision is made: **Approved** or **Rejected**.\n",
    "\n",
    "---\n",
    "\n",
    "### **Further Thoughts**\n",
    "\n",
    "- **Practical Application:**  \n",
    "  Developing such decision trees involves training on historical data so that the thresholds (e.g., 0.6 or 0.3 for risk score) are set based on what best separates approved from rejected cases.\n",
    "  \n",
    "- **Improving the Model:**  \n",
    "  If you’re working on a similar project, consider experimenting with other metrics (like entropy) or different splitting criteria. You might also explore ensemble methods (like Random Forests) for potentially more robust predictions.\n",
    "\n",
    "- **Potential Follow-Up Explorations:**  \n",
    "  - How might changing the threshold values affect the approval rate?  \n",
    "  - Could combining these decision boundaries with other machine learning models improve performance?  \n",
    "  - What are the trade-offs between decision tree interpretability and more complex (but opaque) models like neural networks in the context of loan approvals?\n",
    "\n",
    "This decision tree is not only an excellent tool for understanding the data, but it also provides actionable insights that can refine how decisions are automated in a financial setting.\n",
    "\n",
    "Would you like to dive deeper into how decision trees can be optimized or perhaps explore ensemble methods like Random Forests or Gradient Boosting for similar tasks?"
   ]
  }
 ],
 "metadata": {
  "kernelspec": {
   "display_name": "PYFI",
   "language": "python",
   "name": "python3"
  },
  "language_info": {
   "codemirror_mode": {
    "name": "ipython",
    "version": 3
   },
   "file_extension": ".py",
   "mimetype": "text/x-python",
   "name": "python",
   "nbconvert_exporter": "python",
   "pygments_lexer": "ipython3",
   "version": "3.13.2"
  }
 },
 "nbformat": 4,
 "nbformat_minor": 2
}
