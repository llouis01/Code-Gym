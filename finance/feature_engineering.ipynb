{
 "cells": [
  {
   "cell_type": "code",
   "execution_count": null,
   "metadata": {},
   "outputs": [],
   "source": [
    "# library imports\n",
    "import pandas as pd\n",
    "from sklearn.preprocessing import LabelEncoder as LE\n",
    "from sklearn.model_selection import train_test_split\n",
    "from sklearn.tree import DecisionTreeClassifier as DTC"
   ]
  },
  {
   "cell_type": "code",
   "execution_count": 7,
   "metadata": {},
   "outputs": [
    {
     "name": "stdout",
     "output_type": "stream",
     "text": [
      "   Customer_ID  Age Employment_Type  Income_Level  Avg_Monthly_Deposits\n",
      "0            1   32      Freelancer        165216                  8396\n",
      "1            2   49        Salaried        149181                  2778\n",
      "2            3   41   Self-Employed         34471                  6045\n",
      "3            4   31      Freelancer         37301                  2352\n",
      "4            5   57        Salaried         98318                  6705\n"
     ]
    }
   ],
   "source": [
    "# data import\n",
    "df = pd.read_csv(\"C:\\\\Users\\\\RoiMinuit\\\\Desktop\\\\data\\\\finance\\\\synthetic_credit_risk_data_historical.csv\")\n",
    "print(df.iloc[:5, :5])"
   ]
  },
  {
   "cell_type": "code",
   "execution_count": 28,
   "metadata": {},
   "outputs": [],
   "source": [
    "# encode categorical columns\n",
    "df['Employment_Type'] = LE().fit_transform(df['Employment_Type'])\n",
    "df['Loan_Approval_Status'] = LE().fit_transform(df['Loan_Approval_Status'])"
   ]
  },
  {
   "cell_type": "code",
   "execution_count": null,
   "metadata": {},
   "outputs": [],
   "source": [
    "# features for training\n",
    "X = df.drop(columns=['Customer_ID', 'Loan_Approval_Status'])\n",
    "y = df['Loan_Approval_Status']\n",
    "x_train, x_test, y_train, y_test = train_test_split(X, y, test_size=0.2)\n",
    "x_val, x_test, y_val, y_test = train_test_split(x_test, y_test, test_size=0.5)"
   ]
  }
 ],
 "metadata": {
  "kernelspec": {
   "display_name": "PYFI",
   "language": "python",
   "name": "python3"
  },
  "language_info": {
   "codemirror_mode": {
    "name": "ipython",
    "version": 3
   },
   "file_extension": ".py",
   "mimetype": "text/x-python",
   "name": "python",
   "nbconvert_exporter": "python",
   "pygments_lexer": "ipython3",
   "version": "3.13.2"
  }
 },
 "nbformat": 4,
 "nbformat_minor": 2
}
