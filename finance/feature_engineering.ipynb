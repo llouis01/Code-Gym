{
 "cells": [
  {
   "cell_type": "code",
   "execution_count": 1,
   "metadata": {},
   "outputs": [],
   "source": [
    "# library imports\n",
    "import pandas as pd\n",
    "from sklearn.model_selection import train_test_split"
   ]
  },
  {
   "cell_type": "code",
   "execution_count": 7,
   "metadata": {},
   "outputs": [
    {
     "name": "stdout",
     "output_type": "stream",
     "text": [
      "   Customer_ID  Age Employment_Type  Income_Level  Avg_Monthly_Deposits\n",
      "0            1   32      Freelancer        165216                  8396\n",
      "1            2   49        Salaried        149181                  2778\n",
      "2            3   41   Self-Employed         34471                  6045\n",
      "3            4   31      Freelancer         37301                  2352\n",
      "4            5   57        Salaried         98318                  6705\n"
     ]
    }
   ],
   "source": [
    "# data import\n",
    "df = pd.read_csv(\"C:\\\\Users\\\\RoiMinuit\\\\Desktop\\\\data\\\\finance\\\\synthetic_credit_risk_data_historical.csv\")\n",
    "print(df.iloc[:5, :5])"
   ]
  },
  {
   "cell_type": "code",
   "execution_count": 8,
   "metadata": {},
   "outputs": [
    {
     "data": {
      "text/html": [
       "<div>\n",
       "<style scoped>\n",
       "    .dataframe tbody tr th:only-of-type {\n",
       "        vertical-align: middle;\n",
       "    }\n",
       "\n",
       "    .dataframe tbody tr th {\n",
       "        vertical-align: top;\n",
       "    }\n",
       "\n",
       "    .dataframe thead th {\n",
       "        text-align: right;\n",
       "    }\n",
       "</style>\n",
       "<table border=\"1\" class=\"dataframe\">\n",
       "  <thead>\n",
       "    <tr style=\"text-align: right;\">\n",
       "      <th></th>\n",
       "      <th>Age</th>\n",
       "      <th>Employment_Type</th>\n",
       "      <th>Income_Level</th>\n",
       "      <th>Avg_Monthly_Deposits</th>\n",
       "      <th>Avg_Monthly_Withdrawals</th>\n",
       "    </tr>\n",
       "  </thead>\n",
       "  <tbody>\n",
       "    <tr>\n",
       "      <th>0</th>\n",
       "      <td>32</td>\n",
       "      <td>Freelancer</td>\n",
       "      <td>165216</td>\n",
       "      <td>8396</td>\n",
       "      <td>9844</td>\n",
       "    </tr>\n",
       "    <tr>\n",
       "      <th>1</th>\n",
       "      <td>49</td>\n",
       "      <td>Salaried</td>\n",
       "      <td>149181</td>\n",
       "      <td>2778</td>\n",
       "      <td>8939</td>\n",
       "    </tr>\n",
       "    <tr>\n",
       "      <th>2</th>\n",
       "      <td>41</td>\n",
       "      <td>Self-Employed</td>\n",
       "      <td>34471</td>\n",
       "      <td>6045</td>\n",
       "      <td>1445</td>\n",
       "    </tr>\n",
       "    <tr>\n",
       "      <th>3</th>\n",
       "      <td>31</td>\n",
       "      <td>Freelancer</td>\n",
       "      <td>37301</td>\n",
       "      <td>2352</td>\n",
       "      <td>6971</td>\n",
       "    </tr>\n",
       "    <tr>\n",
       "      <th>4</th>\n",
       "      <td>57</td>\n",
       "      <td>Salaried</td>\n",
       "      <td>98318</td>\n",
       "      <td>6705</td>\n",
       "      <td>8644</td>\n",
       "    </tr>\n",
       "  </tbody>\n",
       "</table>\n",
       "</div>"
      ],
      "text/plain": [
       "   Age Employment_Type  Income_Level  Avg_Monthly_Deposits  \\\n",
       "0   32      Freelancer        165216                  8396   \n",
       "1   49        Salaried        149181                  2778   \n",
       "2   41   Self-Employed         34471                  6045   \n",
       "3   31      Freelancer         37301                  2352   \n",
       "4   57        Salaried         98318                  6705   \n",
       "\n",
       "   Avg_Monthly_Withdrawals  \n",
       "0                     9844  \n",
       "1                     8939  \n",
       "2                     1445  \n",
       "3                     6971  \n",
       "4                     8644  "
      ]
     },
     "execution_count": 8,
     "metadata": {},
     "output_type": "execute_result"
    }
   ],
   "source": [
    "# data cleaning\n",
    "df.drop(columns=['Customer_ID'], inplace=True)\n",
    "df.iloc[:5, :5]"
   ]
  },
  {
   "cell_type": "code",
   "execution_count": null,
   "metadata": {},
   "outputs": [],
   "source": [
    "# features for training\n",
    "X = df.drop(columns=['Loan_Approval_Status'])\n",
    "y = df['Loan_Approval_Status']\n",
    "x_train, x_test, y_train, y_test = train_test_split(X, y, test_size=0.2)\n",
    "x_val, x_test, y_val, y_test = train_test_split(x_test, y_test, test_size=0.5)"
   ]
  }
 ],
 "metadata": {
  "kernelspec": {
   "display_name": "PYFI",
   "language": "python",
   "name": "python3"
  },
  "language_info": {
   "codemirror_mode": {
    "name": "ipython",
    "version": 3
   },
   "file_extension": ".py",
   "mimetype": "text/x-python",
   "name": "python",
   "nbconvert_exporter": "python",
   "pygments_lexer": "ipython3",
   "version": "3.13.2"
  }
 },
 "nbformat": 4,
 "nbformat_minor": 2
}
