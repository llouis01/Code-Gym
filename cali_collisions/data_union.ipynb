{
 "cells": [
  {
   "cell_type": "code",
   "execution_count": 3,
   "metadata": {},
   "outputs": [
    {
     "data": {
      "text/plain": [
       "'C:\\\\spark\\\\spark-3.2.4-bin-hadoop2.7'"
      ]
     },
     "execution_count": 3,
     "metadata": {},
     "output_type": "execute_result"
    }
   ],
   "source": [
    "import pyspark\n",
    "import findspark\n",
    "findspark.init()\n",
    "import os\n",
    "import pandas as pd\n",
    "from pyspark import SparkContext\n",
    "from pyspark.sql import SparkSession\n",
    "from pyspark.sql import functions as F, types as T\n",
    "from pyspark.sql import Row\n",
    "findspark.find()"
   ]
  },
  {
   "cell_type": "code",
   "execution_count": 8,
   "metadata": {},
   "outputs": [],
   "source": [
    "# spark session\n",
    "sc = SparkContext('local', 'calif-coll-data-union')\n",
    "spark = SparkSession(sc)\n",
    "#sc.close()"
   ]
  },
  {
   "cell_type": "code",
   "execution_count": 4,
   "metadata": {},
   "outputs": [],
   "source": [
    "path = 'C:\\\\Users\\\\RoiMinuit\\\\Desktop\\\\data\\\\switrs_raw_csvs'\n",
    "\n",
    "# find folders\n",
    "folders = []\n",
    "for folder in os.listdir(path):\n",
    "    folder = os.path.join(path, folder)\n",
    "    folders.append(folder)\n",
    "    \n",
    "# collect data from each folder\n",
    "all_data = []\n",
    "for folder in folders:\n",
    "    for f in os.listdir(folder):\n",
    "        if f.endswith('CollisionRecords.txt'):\n",
    "            all_data.append(os.path.join(folder, f))"
   ]
  },
  {
   "cell_type": "code",
   "execution_count": 11,
   "metadata": {},
   "outputs": [
    {
     "name": "stdout",
     "output_type": "stream",
     "text": [
      "29824591 76\n",
      "30311862 76\n",
      "33545050 76\n",
      "21766824 76\n",
      "20867885 76\n"
     ]
    }
   ],
   "source": [
    "for df in folders:\n",
    "    df = spark.read.csv(df, header=True)\n",
    "    print(df.count(), len(df.columns))"
   ]
  }
 ],
 "metadata": {
  "language_info": {
   "name": "python"
  }
 },
 "nbformat": 4,
 "nbformat_minor": 2
}
