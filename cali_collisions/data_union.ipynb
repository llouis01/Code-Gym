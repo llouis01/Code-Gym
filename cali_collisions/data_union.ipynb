{
 "cells": [
  {
   "cell_type": "code",
   "execution_count": 19,
   "metadata": {},
   "outputs": [
    {
     "data": {
      "text/plain": [
       "'C:\\\\spark\\\\spark-3.2.4-bin-hadoop2.7'"
      ]
     },
     "execution_count": 19,
     "metadata": {},
     "output_type": "execute_result"
    }
   ],
   "source": [
    "import pyspark\n",
    "import findspark\n",
    "findspark.init()\n",
    "import os\n",
    "import pandas as pd\n",
    "from pyspark import SparkContext\n",
    "from pyspark.sql import SparkSession\n",
    "findspark.find()"
   ]
  },
  {
   "cell_type": "code",
   "execution_count": 20,
   "metadata": {},
   "outputs": [],
   "source": [
    "# spark session\n",
    "sc = SparkContext('local', 'calif-coll-data-union')\n",
    "spark = SparkSession(sc)"
   ]
  },
  {
   "cell_type": "code",
   "execution_count": 21,
   "metadata": {},
   "outputs": [],
   "source": [
    "path = 'C:\\\\Users\\\\RoiMinuit\\\\Desktop\\\\data\\\\switrs_raw_csvs'\n",
    "\n",
    "# find folders\n",
    "folders = []\n",
    "for folder in os.listdir(path):\n",
    "    folder = os.path.join(path, folder)\n",
    "    folders.append(folder)\n",
    "    \n",
    "# collect data from each folder\n",
    "all_data = []\n",
    "for folder in folders:\n",
    "    for f in os.listdir(folder):\n",
    "        if f.endswith('CollisionRecords.txt'):\n",
    "            all_data.append(os.path.join(folder, f))"
   ]
  },
  {
   "cell_type": "code",
   "execution_count": 24,
   "metadata": {},
   "outputs": [
    {
     "name": "stdout",
     "output_type": "stream",
     "text": [
      "7314602 76\n",
      "7437041 76\n",
      "8293457 76\n",
      "5494226 76\n",
      "5293361 76\n"
     ]
    }
   ],
   "source": [
    "# check shape of each df to ensure compatibility\n",
    "for df in all_data:\n",
    "    df = spark.read.csv(df, header=True)\n",
    "    print(df.count(), len(df.columns))"
   ]
  },
  {
   "cell_type": "code",
   "execution_count": 23,
   "metadata": {},
   "outputs": [
    {
     "name": "stdout",
     "output_type": "stream",
     "text": [
      "C:\\Users\\RoiMinuit\\Desktop\\data\\switrs_raw_csvs\\20160924\n",
      "C:\\Users\\RoiMinuit\\Desktop\\data\\switrs_raw_csvs\\20170112\n",
      "C:\\Users\\RoiMinuit\\Desktop\\data\\switrs_raw_csvs\\20180925\n",
      "C:\\Users\\RoiMinuit\\Desktop\\data\\switrs_raw_csvs\\20201024\n",
      "C:\\Users\\RoiMinuit\\Desktop\\data\\switrs_raw_csvs\\20210604\n"
     ]
    }
   ],
   "source": [
    "# combine dfs\n"
   ]
  },
  {
   "cell_type": "code",
   "execution_count": null,
   "metadata": {},
   "outputs": [],
   "source": [
    "# close session when needed\n",
    "sc.stop()"
   ]
  }
 ],
 "metadata": {
  "language_info": {
   "name": "python"
  }
 },
 "nbformat": 4,
 "nbformat_minor": 2
}
