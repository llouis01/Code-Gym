{
 "cells": [
  {
   "cell_type": "code",
   "execution_count": 19,
   "metadata": {},
   "outputs": [
    {
     "data": {
      "text/plain": [
       "'C:\\\\spark\\\\spark-3.2.4-bin-hadoop2.7'"
      ]
     },
     "execution_count": 19,
     "metadata": {},
     "output_type": "execute_result"
    }
   ],
   "source": [
    "import pyspark\n",
    "import findspark\n",
    "findspark.init()\n",
    "import os\n",
    "import pandas as pd\n",
    "from pyspark import SparkContext\n",
    "from pyspark.sql import SparkSession\n",
    "findspark.find()"
   ]
  },
  {
   "cell_type": "code",
   "execution_count": 33,
   "metadata": {},
   "outputs": [],
   "source": [
    "# spark session\n",
    "sc = SparkContext('local', 'calif-coll-data-union')\n",
    "spark = SparkSession(sc)"
   ]
  },
  {
   "cell_type": "code",
   "execution_count": 34,
   "metadata": {},
   "outputs": [],
   "source": [
    "path = 'C:\\\\Users\\\\RoiMinuit\\\\Desktop\\\\data\\\\switrs_raw_csvs'\n",
    "\n",
    "# find folders\n",
    "folders = []\n",
    "for folder in os.listdir(path):\n",
    "    folder = os.path.join(path, folder)\n",
    "    folders.append(folder)\n",
    "    \n",
    "# collect file name from each folder\n",
    "f_names = []\n",
    "for folder in folders:\n",
    "    for f in os.listdir(folder):\n",
    "        if f.endswith('CollisionRecords.txt'):\n",
    "            f_names.append(os.path.join(folder, f))"
   ]
  },
  {
   "cell_type": "code",
   "execution_count": 35,
   "metadata": {},
   "outputs": [
    {
     "name": "stdout",
     "output_type": "stream",
     "text": [
      "7314602 76\n",
      "7437041 76\n",
      "8293457 76\n",
      "5494226 76\n",
      "5293361 76\n"
     ]
    }
   ],
   "source": [
    "# check shape of each df to ensure compatibility and store df\n",
    "all_data = []\n",
    "for df in f_names:\n",
    "    df = spark.read.csv(df, header=True, inferSchema=True)\n",
    "    print(df.count(), len(df.columns))\n",
    "    all_data.append(df)"
   ]
  },
  {
   "cell_type": "code",
   "execution_count": 36,
   "metadata": {},
   "outputs": [],
   "source": [
    "# combine dfs\n",
    "if all_data:\n",
    "    one_data = all_data[0]\n",
    "    for df in all_data[1:]:\n",
    "        one_data = one_data.union(df)\n",
    "\n",
    "# check shape\n",
    "print(one_data.count(), len(one_data.columns))"
   ]
  },
  {
   "cell_type": "code",
   "execution_count": null,
   "metadata": {},
   "outputs": [
    {
     "name": "stdout",
     "output_type": "stream",
     "text": [
      "33832687 76\n"
     ]
    }
   ],
   "source": [
    "output_path = \"all_collission_data.txt\"\n",
    "one_data.write.mode('overwrite').csv(output_path, header=True)"
   ]
  },
  {
   "cell_type": "code",
   "execution_count": 32,
   "metadata": {},
   "outputs": [],
   "source": [
    "# close session when needed\n",
    "sc.stop()"
   ]
  }
 ],
 "metadata": {
  "language_info": {
   "name": "python"
  }
 },
 "nbformat": 4,
 "nbformat_minor": 2
}
