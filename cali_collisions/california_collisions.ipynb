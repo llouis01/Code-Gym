{
 "cells": [
  {
   "cell_type": "code",
   "execution_count": 65,
   "id": "f6475741",
   "metadata": {},
   "outputs": [
    {
     "data": {
      "text/plain": [
       "'C:\\\\spark\\\\spark-3.2.4-bin-hadoop2.7'"
      ]
     },
     "execution_count": 65,
     "metadata": {},
     "output_type": "execute_result"
    }
   ],
   "source": [
    "import pyspark\n",
    "import findspark\n",
    "findspark.init()\n",
    "import pandas as pd\n",
    "from pyspark import SparkContext\n",
    "from pyspark.sql import SparkSession\n",
    "from pyspark.sql import functions as F, types as T\n",
    "from pyspark.sql import Row\n",
    "findspark.find()"
   ]
  },
  {
   "cell_type": "code",
   "execution_count": 2,
   "id": "86b46111",
   "metadata": {},
   "outputs": [],
   "source": [
    "# spark session\n",
    "sc = SparkContext('local', 'calif-coll')\n",
    "spark = SparkSession(sc)\n",
    "#sc.close()"
   ]
  },
  {
   "cell_type": "code",
   "execution_count": 6,
   "id": "c6bd56bb",
   "metadata": {},
   "outputs": [],
   "source": [
    "file = \"C:/Users/RoiMinuit/Desktop/data/switrs_raw_csvs/20210604/CollisionRecords.txt\""
   ]
  },
  {
   "cell_type": "code",
   "execution_count": 17,
   "id": "8723b7a2",
   "metadata": {},
   "outputs": [],
   "source": [
    "df = spark.read.csv(file, header=True)\n",
    "# 5M plus rows"
   ]
  },
  {
   "cell_type": "code",
   "execution_count": 34,
   "id": "30629dc4",
   "metadata": {},
   "outputs": [
    {
     "name": "stdout",
     "output_type": "stream",
     "text": [
      "+-------+-------------+---------+-----+--------------+--------------+----------+------------------+-----------+---------+----------+-------------+------------+---------+-------------+------------------+--------------+-----------+------------+-----------------+--------+---------+------------+---------+---------+-------------+---------------+-----------------+-----------+------------+---------------+--------+-------------+-----------------+-----------+--------+------------------+-------------+--------------+-----------+-------------------+----------------+-----------------+-------------+-------------------+-----------+-----------------+----+----------+------------+-----------+-----------+--------+--------------+-------------+-------------------+----------------+-------------------+--------------+--------------------+----------------+---------------------+--------------------+----------------+-----------------+--------------------+----------------+-----------------+----------------------+-----------------------+---------------+----------------+------------+--------------+--------+---------+\n",
      "|CASE_ID|ACCIDENT_YEAR|PROC_DATE|JURIS|COLLISION_DATE|COLLISION_TIME|OFFICER_ID|REPORTING_DISTRICT|DAY_OF_WEEK|CHP_SHIFT|POPULATION|CNTY_CITY_LOC|SPECIAL_COND|BEAT_TYPE|CHP_BEAT_TYPE|CITY_DIVISION_LAPD|CHP_BEAT_CLASS|BEAT_NUMBER|  PRIMARY_RD|     SECONDARY_RD|DISTANCE|DIRECTION|INTERSECTION|WEATHER_1|WEATHER_2|STATE_HWY_IND|CALTRANS_COUNTY|CALTRANS_DISTRICT|STATE_ROUTE|ROUTE_SUFFIX|POSTMILE_PREFIX|POSTMILE|LOCATION_TYPE|RAMP_INTERSECTION|SIDE_OF_HWY|TOW_AWAY|COLLISION_SEVERITY|NUMBER_KILLED|NUMBER_INJURED|PARTY_COUNT|PRIMARY_COLL_FACTOR|PCF_CODE_OF_VIOL|PCF_VIOL_CATEGORY|PCF_VIOLATION|PCF_VIOL_SUBSECTION|HIT_AND_RUN|TYPE_OF_COLLISION|MVIW|PED_ACTION|ROAD_SURFACE|ROAD_COND_1|ROAD_COND_2|LIGHTING|CONTROL_DEVICE|CHP_ROAD_TYPE|PEDESTRIAN_ACCIDENT|BICYCLE_ACCIDENT|MOTORCYCLE_ACCIDENT|TRUCK_ACCIDENT|NOT_PRIVATE_PROPERTY|ALCOHOL_INVOLVED|STWD_VEHTYPE_AT_FAULT|CHP_VEHTYPE_AT_FAULT|COUNT_SEVERE_INJ|COUNT_VISIBLE_INJ|COUNT_COMPLAINT_PAIN|COUNT_PED_KILLED|COUNT_PED_INJURED|COUNT_BICYCLIST_KILLED|COUNT_BICYCLIST_INJURED|COUNT_MC_KILLED|COUNT_MC_INJURED|PRIMARY_RAMP|SECONDARY_RAMP|LATITUDE|LONGITUDE|\n",
      "+-------+-------------+---------+-----+--------------+--------------+----------+------------------+-----------+---------+----------+-------------+------------+---------+-------------+------------------+--------------+-----------+------------+-----------------+--------+---------+------------+---------+---------+-------------+---------------+-----------------+-----------+------------+---------------+--------+-------------+-----------------+-----------+--------+------------------+-------------+--------------+-----------+-------------------+----------------+-----------------+-------------+-------------------+-----------+-----------------+----+----------+------------+-----------+-----------+--------+--------------+-------------+-------------------+----------------+-------------------+--------------+--------------------+----------------+---------------------+--------------------+----------------+-----------------+--------------------+----------------+-----------------+----------------------+-----------------------+---------------+----------------+------------+--------------+--------+---------+\n",
      "|0081715|         2020| 20200622| 1941|      20200314|          0745|     11342|               212|          6|        5|         7|         1941|           0|        0|            0|              null|             0|        003|PATTERSON ST|      ATLANTIC AV|    0.00|     null|           Y|        B|        -|            N|           null|             null|       null|        null|           null|    null|         null|             null|       null|       Y|                 0|            0|             0|          2|                  A|               -|               03|        22350|               null|          N|                C|   C|         A|           A|          H|          -|       A|             D|            0|               null|            null|               null|          null|                   Y|            null|                    -|                null|               0|                0|                   0|               0|                0|                     0|                      0|              0|               0|           -|             -|    null|     null|\n",
      "|0726202|         2020| 20200930| 3600|      20200726|          0250|      8945|               064|          7|        5|         5|         3612|           0|        0|            0|              null|             0|        005|    AMARGOSA|      MARICOPA RD|    0.00|     null|           -|        A|        -|            N|           null|             null|       null|        null|           null|    null|         null|             null|       null|       Y|                 0|            0|             0|          1|                  A|               -|               03|        22350|               null|          M|                E|   I|         A|           A|          H|          -|       C|             D|            0|               null|            null|               null|          null|                   Y|            null|                    A|                  01|               0|                0|                   0|               0|                0|                     0|                      0|              0|               0|           -|             -|    null|     null|\n",
      "|3858022|         2009| 20090427| 1005|      20090203|          1711|      P379|                2C|          2|        5|         7|         1005|           0|        0|            0|              null|             0|       2257|      1ST ST|     EAST CLINTON|    0.00|     null|           Y|        A|        -|            N|           null|             null|       null|        null|           null|    null|         null|             null|       null|    null|                 0|            0|             0|          2|                  B|               -|               22|         null|               null|          N|                C|   C|         A|           A|          H|          -|       A|             A|            0|               null|            null|               null|          null|                   Y|            null|                    J|                  48|               0|                0|                   0|               0|                0|                     0|                      0|              0|               0|           -|             -|    null|     null|\n",
      "|3899441|         2009| 20091102| 9120|      20090228|          0145|     17248|              null|          6|        3|         2|         0801|           0|        1|            2|              null|             2|        005|      RT 101|      RUDISILL RD| 8976.00|        N|           N|        A|        -|            Y|             DN|                1|        101|           -|              -|  15.470|            H|                -|          S|       Y|                 0|            0|             0|          1|                  A|               -|               08|        22107|               null|          N|                E|   I|         A|           A|          H|          -|       D|             D|            0|               null|            null|               null|          null|                   Y|            null|                    A|                  01|               0|                0|                   0|               0|                0|                     0|                      0|              0|               0|           -|             -|    null|     null|\n",
      "|3899442|         2009| 20100114| 9530|      20090209|          1020|     19005|              null|          1|        1|         7|         1942|           0|        1|            1|              null|             2|        110|      RT 110|            RT 91| 2111.00|        S|           N|        C|        -|            Y|             LA|                7|        110|           -|              -|   9.310|            H|                -|          S|       N|                 0|            0|             0|          2|                  A|               -|               03|        22350|               null|          N|                B|   C|         A|           B|          H|          -|       A|             D|            1|               null|            null|               null|          null|                   Y|            null|                    A|                  01|               0|                0|                   0|               0|                0|                     0|                      0|              0|               0|           -|             -|33.86465|118.28533|\n",
      "|3899445|         2009| 20100113| 9530|      20090218|          1550|     19284|              null|          3|        2|         7|         1942|           0|        1|            1|              null|             2|        120|      RT 110|PACIFIC COAST HWY|  250.00|        N|           N|        A|        -|            Y|             LA|                7|        110|           -|              -|   4.140|            H|                -|          N|       Y|                 0|            0|             0|          3|                  A|               -|               08|        22107|               null|          N|                B|   C|         A|           A|          H|          -|       A|             D|            1|               null|            null|               null|          null|                   Y|            null|                    A|                  01|               0|                0|                   0|               0|                0|                     0|                      0|              0|               0|           -|             -|33.79120|118.28230|\n",
      "|3899446|         2009| 20100111| 9530|      20090211|          1735|     19289|              null|          3|        2|         4|         1939|           0|        1|            1|              null|             2|        400|      RT 405|     HAWTHORNE BL|  100.00|        S|           N|        B|        -|            Y|             LA|                7|        405|           -|              -|  17.640|            H|                -|          S|       N|                 0|            0|             0|          3|                  A|               -|               03|        22350|               null|          N|                C|   C|         A|           A|          H|          -|       B|             D|            1|               null|            null|               null|          null|                   Y|            null|                    A|                  01|               0|                0|                   0|               0|                0|                     0|                      0|              0|               0|           -|             -|33.88450|118.35260|\n",
      "|3899449|         2009| 20091230| 9530|      20090213|          2120|     19374|              null|          5|        2|         7|         1941|           0|        1|            1|              null|             2|        072|      RT 710|        CARSON ST|  528.00|        N|           N|        A|        -|            Y|             LA|                7|        710|           -|              -|  10.050|            H|                -|          S|       Y|                 0|            0|             0|          2|                  A|               -|               03|        22350|               null|          N|                C|   C|         A|           A|          H|          -|       D|             D|            1|               null|            null|               null|          null|                   Y|            null|                    A|                  01|               0|                0|                   0|               0|                0|                     0|                      0|              0|               0|           -|             -|33.83197|118.20906|\n",
      "|3899450|         2009| 20091230| 9530|      20090213|          2040|     19374|              null|          5|        2|         7|         1941|           0|        1|            1|              null|             2|        071|      RT 710|        CARSON ST|  528.00|        N|           N|        A|        -|            Y|             LA|                7|        710|           -|              -|  10.050|            H|                -|          S|       Y|                 4|            0|             1|          2|                  A|               -|               03|        22350|               null|          N|                C|   C|         A|           A|          H|          -|       D|             D|            1|               null|            null|               null|          null|                   Y|            null|                    A|                  01|               0|                0|                   1|               0|                0|                     0|                      0|              0|               0|           -|             -|33.82693|118.20770|\n",
      "|3899453|         2009| 20100112| 9530|      20090213|          1820|     18723|              null|          5|        2|         9|         1900|           0|        1|            3|              null|             2|        310|       RT 91|        SUSANA RD|  320.00|        W|           N|        A|        -|            Y|             LA|                7|         91|           -|              R|  10.750|            H|                -|          E|       Y|                 4|            0|             1|          3|                  A|               -|               03|        22350|               null|          N|                C|   C|         A|           B|          H|          -|       D|             D|            1|               null|            null|               null|          null|                   Y|            null|                    A|                  01|               0|                0|                   1|               0|                0|                     0|                      0|              0|               0|           -|             -|33.87343|118.20861|\n",
      "|3899454|         2009| 20091001| 9530|      20090208|          1820|     19021|              null|          7|        2|         9|         1900|           0|        3|            5|              null|             2|        007|  BANDINI ST|           1ST ST|  139.00|        N|           N|        B|        -|            N|           null|             null|       null|        null|           null|    null|         null|             null|       null|       N|                 4|            0|             2|          3|                  A|               -|               11|        21954|                  A|          N|                G|   B|         D|           B|          H|          -|       C|             D|            0|                  Y|            null|               null|          null|                   Y|            null|                    N|                  60|               0|                0|                   2|               0|                2|                     0|                      0|              0|               0|           -|             -|33.74410|118.74410|\n",
      "|3899457|         2009| 20100111| 9530|      20090210|          1350|     14654|              null|          2|        1|         5|         1977|           0|        1|            1|              null|             2|        410|      RT 405|       ALAMEDA ST|   50.00|        N|           N|        A|        -|            Y|             LA|                7|        405|           -|              -|   8.750|            H|                -|          S|       N|                 0|            0|             0|          2|                  A|               -|               07|        21658|                  A|          N|                B|   C|         A|           A|          H|          -|       A|             D|            1|               null|            null|               null|          null|                   Y|            null|                    A|                  01|               0|                0|                   0|               0|                0|                     0|                      0|              0|               0|           -|             -|    null|     null|\n",
      "|3899458|         2009| 20100122| 9530|      20090217|          0230|     19241|              null|          2|        3|         7|         1941|           0|        1|            1|              null|             2|        420|      RT 405|       WARDLOW RD|   75.00|        S|           N|        B|        C|            Y|             LA|                7|        405|           -|              -|   6.490|            H|                -|          N|       Y|                 0|            0|             0|          1|                  A|               -|               03|        22350|               null|          N|                E|   I|         A|           B|          H|          -|       D|             D|            1|               null|            null|               null|          null|                   Y|            null|                    A|                  01|               0|                0|                   0|               0|                0|                     0|                      0|              0|               0|           -|             -|33.49703|118.11252|\n",
      "|3899462|         2009| 20091001| 9530|      20090218|          1025|     13604|              null|          3|        1|         9|         1900|           0|        3|            5|              null|             2|        001|FIRESTONE BL|          MAIE AV|   85.00|        W|           N|        A|        -|            N|           null|             null|       null|        null|           null|    null|         null|             null|       null|       Y|                 0|            0|             0|          2|                  A|               -|               03|        22350|               null|          N|                C|   C|         A|           A|          H|          -|       A|             D|            0|               null|            null|               null|          null|                   Y|            null|                    A|                  01|               0|                0|                   0|               0|                0|                     0|                      0|              0|               0|           -|             -|33.96019|118.24489|\n",
      "|3899465|         2009| 20091001| 9530|      20090214|          1520|     19018|              null|          6|        2|         9|         1900|           0|        3|            5|              null|             2|        002|MC KINLEY ST|    EL SEGUNDO BL|    5.00|        S|           N|        A|        -|            N|           null|             null|       null|        null|           null|    null|         null|             null|       null|       N|                 0|            0|             0|          2|                  A|               -|               10|        21950|                  A|          N|                D|   B|         B|           A|          H|          -|       A|             A|            0|                  Y|            null|               null|          null|                   Y|            null|                    A|                  01|               0|                0|                   0|               0|                0|                     0|                      0|              0|               0|           -|             -|33.91500|118.26100|\n",
      "|3899466|         2009| 20100210| 9530|      20090212|          0115|     19210|              null|          4|        3|         7|         1941|           0|        1|            3|              null|             1|        470|       RT 47|         OCEAN BL|   19.00|        N|           N|        A|        -|            Y|             LA|                7|         47|           -|              -|   3.510|            H|                -|          N|       Y|                 0|            0|             0|          1|                  A|               -|               03|        22350|               null|          N|                E|   I|         A|           A|          H|          -|       C|             D|            1|               null|            null|               null|          null|                   Y|            null|                    A|                  01|               0|                0|                   0|               0|                0|                     0|                      0|              0|               0|           -|             -|33.75866|118.23836|\n",
      "|3899469|         2009| 20091117| 9530|      20090213|          1635|     19374|              null|          5|        2|         7|         1941|           0|        1|            1|              null|             2|        072|      RT 710|LOS ANGELES RIVER|   40.00|        N|           N|        B|        -|            Y|             LA|                7|        710|           -|              -|   9.305|            R|                2|          N|       Y|                 0|            0|             0|          1|                  A|               -|               03|        22350|               null|          N|                B|   I|         A|           B|          H|          -|       A|             D|            1|               null|            null|               null|          null|                   Y|            null|                    A|                  01|               0|                0|                   0|               0|                0|                     0|                      0|              0|               0|          TO|             -|33.85890|118.20627|\n",
      "|3899470|         2009| 20100107| 9530|      20090215|          1700|     19018|              null|          7|        2|         5|         1943|           0|        1|            1|              null|             2|        210|      RT 105|    LONG BEACH BL|  105.00|        W|           N|        A|        -|            Y|             LA|                7|        105|           -|              R|  11.490|            H|                -|          E|       N|                 0|            0|             0|          1|                  A|               -|               08|        22107|               null|          N|                E|   I|         A|           A|          H|          -|       A|             D|            6|               null|            null|               null|          null|                   Y|            null|                    A|                  01|               0|                0|                   0|               0|                0|                     0|                      0|              0|               0|           -|             -|    null|     null|\n",
      "|3899473|         2009| 20091117| 9530|      20090214|          2225|     18751|              null|          6|        3|         5|         1943|           0|        1|            1|              null|             2|        210|      RT 105|    LONG BEACH BL| 2112.00|        W|           N|        A|        -|            Y|             LA|                7|        105|           -|              R|  11.110|            H|                -|          E|       N|                 0|            0|             0|          1|                  C|               -|               18|         null|               null|          N|                E|   J|         A|           A|          H|          -|       C|             D|            6|               null|            null|               null|          null|                   Y|            null|                    -|                  - |               0|                0|                   0|               0|                0|                     0|                      0|              0|               0|           -|             -|33.92746|118.21619|\n",
      "|3899474|         2009| 20100113| 9530|      20090216|          0725|     19005|              null|          1|        1|         9|         1900|           0|        1|            1|              null|             2|        120|      RT 110|     SEPULVEDA BL|  758.00|        N|           N|        C|        -|            Y|             LA|                7|        110|           -|              -|   5.610|            H|                -|          N|       Y|                 4|            0|             1|          2|                  A|               -|               03|        22350|               null|          N|                -|   C|         A|           B|          H|          -|       A|             D|            1|               null|            null|               null|          null|                   Y|            null|                    A|                  01|               0|                0|                   1|               0|                0|                     0|                      0|              0|               0|           -|             -|33.81376|118.28701|\n",
      "+-------+-------------+---------+-----+--------------+--------------+----------+------------------+-----------+---------+----------+-------------+------------+---------+-------------+------------------+--------------+-----------+------------+-----------------+--------+---------+------------+---------+---------+-------------+---------------+-----------------+-----------+------------+---------------+--------+-------------+-----------------+-----------+--------+------------------+-------------+--------------+-----------+-------------------+----------------+-----------------+-------------+-------------------+-----------+-----------------+----+----------+------------+-----------+-----------+--------+--------------+-------------+-------------------+----------------+-------------------+--------------+--------------------+----------------+---------------------+--------------------+----------------+-----------------+--------------------+----------------+-----------------+----------------------+-----------------------+---------------+----------------+------------+--------------+--------+---------+\n",
      "only showing top 20 rows\n",
      "\n",
      "DF contains 5293361 rows and 76 columns.\n"
     ]
    }
   ],
   "source": [
    "df.show()\n",
    "print(\"DF contains\", df.count(), \"rows and\", len(df.columns), \"columns.\")"
   ]
  },
  {
   "cell_type": "code",
   "execution_count": 60,
   "id": "1d7ad587",
   "metadata": {},
   "outputs": [
    {
     "name": "stdout",
     "output_type": "stream",
     "text": [
      "41.74 percent of the cases occured during the weekends.\n"
     ]
    }
   ],
   "source": [
    "# how many accidents took place during the weekend?\n",
    "weekend = [5, 6, 7]\n",
    "weekend_df = df.where(df.DAY_OF_WEEK.isin(weekend))\n",
    "print(round((weekend_df.count() / df.count()) * 100, 2), \"percent of the cases occured during the weekends.\")"
   ]
  },
  {
   "cell_type": "code",
   "execution_count": 71,
   "id": "71106e68",
   "metadata": {},
   "outputs": [
    {
     "ename": "AttributeError",
     "evalue": "module 'pyspark.sql.functions' has no attribute 'mode'",
     "output_type": "error",
     "traceback": [
      "\u001b[1;31m---------------------------------------------------------------------------\u001b[0m",
      "\u001b[1;31mAttributeError\u001b[0m                            Traceback (most recent call last)",
      "Cell \u001b[1;32mIn[71], line 4\u001b[0m\n\u001b[0;32m      2\u001b[0m df \u001b[38;5;241m=\u001b[39m df\u001b[38;5;241m.\u001b[39mwithColumn(\u001b[38;5;124m'\u001b[39m\u001b[38;5;124mLOCATION\u001b[39m\u001b[38;5;124m'\u001b[39m, F\u001b[38;5;241m.\u001b[39marray(\u001b[38;5;124m'\u001b[39m\u001b[38;5;124mLATITUDE\u001b[39m\u001b[38;5;124m'\u001b[39m, \u001b[38;5;124m'\u001b[39m\u001b[38;5;124mLONGITUDE\u001b[39m\u001b[38;5;124m'\u001b[39m))\n\u001b[0;32m      3\u001b[0m killed_df \u001b[38;5;241m=\u001b[39m df\u001b[38;5;241m.\u001b[39mwhere(df\u001b[38;5;241m.\u001b[39mNUMBER_KILLED \u001b[38;5;241m==\u001b[39m \u001b[38;5;241m1\u001b[39m)\n\u001b[1;32m----> 4\u001b[0m df\u001b[38;5;241m.\u001b[39mgroupBy(\u001b[38;5;124m'\u001b[39m\u001b[38;5;124mNUMBER_KILLED\u001b[39m\u001b[38;5;124m'\u001b[39m)\u001b[38;5;241m.\u001b[39magg(F\u001b[38;5;241m.\u001b[39mmode(\u001b[38;5;124m'\u001b[39m\u001b[38;5;124mLOCATION\u001b[39m\u001b[38;5;124m'\u001b[39m))\u001b[38;5;241m.\u001b[39mshow()\n",
      "\u001b[1;31mAttributeError\u001b[0m: module 'pyspark.sql.functions' has no attribute 'mode'"
     ]
    }
   ],
   "source": [
    "# what is the deadliest day in this dataset?\n",
    "df = df.withColumn('LOCATION', F.array('LATITUDE', 'LONGITUDE'))\n",
    "killed_df = df.where(df.NUMBER_KILLED == 1)\n",
    "df.groupBy('NUMBER_KILLED').agg(F.mode('LOCATION')).show()"
   ]
  }
 ],
 "metadata": {
  "kernelspec": {
   "display_name": "SparkEnv2",
   "language": "python",
   "name": "sparkenv2"
  },
  "language_info": {
   "codemirror_mode": {
    "name": "ipython",
    "version": 3
   },
   "file_extension": ".py",
   "mimetype": "text/x-python",
   "name": "python",
   "nbconvert_exporter": "python",
   "pygments_lexer": "ipython3",
   "version": "3.11.9"
  }
 },
 "nbformat": 4,
 "nbformat_minor": 5
}
