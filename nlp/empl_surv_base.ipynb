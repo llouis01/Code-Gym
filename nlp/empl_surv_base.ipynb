{
 "cells": [
  {
   "cell_type": "markdown",
   "metadata": {},
   "source": [
    "## Python NLP\n",
    "Conducting an employee survey sentiment analysis"
   ]
  },
  {
   "cell_type": "code",
   "execution_count": 36,
   "metadata": {},
   "outputs": [
    {
     "name": "stderr",
     "output_type": "stream",
     "text": [
      "[nltk_data] Downloading package punkt to\n",
      "[nltk_data]     C:\\Users\\RoiMinuit\\AppData\\Roaming\\nltk_data...\n",
      "[nltk_data]   Package punkt is already up-to-date!\n",
      "[nltk_data] Downloading package stopwords to\n",
      "[nltk_data]     C:\\Users\\RoiMinuit\\AppData\\Roaming\\nltk_data...\n",
      "[nltk_data]   Package stopwords is already up-to-date!\n"
     ]
    },
    {
     "data": {
      "text/plain": [
       "True"
      ]
     },
     "execution_count": 36,
     "metadata": {},
     "output_type": "execute_result"
    }
   ],
   "source": [
    "# lib imports\n",
    "import pandas as pd\n",
    "import nltk\n",
    "from nltk.corpus import stopwords\n",
    "nltk.download('punkt')\n",
    "nltk.download('stopwords')"
   ]
  },
  {
   "cell_type": "code",
   "execution_count": 2,
   "metadata": {},
   "outputs": [],
   "source": [
    "# data import\n",
    "df = pd.read_csv('survey.csv')"
   ]
  },
  {
   "cell_type": "code",
   "execution_count": 3,
   "metadata": {},
   "outputs": [],
   "source": [
    "# drop rows with null comments\n",
    "df = df.dropna(subset='comments')\n",
    "df.describe"
   ]
  },
  {
   "cell_type": "code",
   "execution_count": 14,
   "metadata": {},
   "outputs": [],
   "source": [
    "# assign user_id column\n",
    "df['user_id'] = range(0, len(df))\n",
    "df['user_id'] = df['user_id'] + 1"
   ]
  },
  {
   "cell_type": "markdown",
   "metadata": {},
   "source": [
    "### Treat text column for NLP ops"
   ]
  },
  {
   "cell_type": "code",
   "execution_count": 16,
   "metadata": {},
   "outputs": [],
   "source": [
    "df2 = df[['user_id', 'comments']]"
   ]
  },
  {
   "cell_type": "code",
   "execution_count": 29,
   "metadata": {},
   "outputs": [
    {
     "name": "stderr",
     "output_type": "stream",
     "text": [
      "C:\\Users\\RoiMinuit\\AppData\\Local\\Temp\\ipykernel_29012\\408216411.py:1: SettingWithCopyWarning: \n",
      "A value is trying to be set on a copy of a slice from a DataFrame.\n",
      "Try using .loc[row_indexer,col_indexer] = value instead\n",
      "\n",
      "See the caveats in the documentation: https://pandas.pydata.org/pandas-docs/stable/user_guide/indexing.html#returning-a-view-versus-a-copy\n",
      "  df2['tokens'] = df2['comments'].apply(nltk.word_tokenize)\n"
     ]
    }
   ],
   "source": [
    "df2['tokens'] = df2['comments'].apply(nltk.word_tokenize)\n",
    "df2"
   ]
  },
  {
   "cell_type": "code",
   "execution_count": 42,
   "metadata": {},
   "outputs": [],
   "source": [
    "# set stop_words\n",
    "stop_words = set(stopwords.words('english'))"
   ]
  },
  {
   "cell_type": "code",
   "execution_count": 45,
   "metadata": {},
   "outputs": [
    {
     "name": "stderr",
     "output_type": "stream",
     "text": [
      "C:\\Users\\RoiMinuit\\AppData\\Local\\Temp\\ipykernel_29012\\3912493750.py:1: SettingWithCopyWarning: \n",
      "A value is trying to be set on a copy of a slice from a DataFrame.\n",
      "Try using .loc[row_indexer,col_indexer] = value instead\n",
      "\n",
      "See the caveats in the documentation: https://pandas.pydata.org/pandas-docs/stable/user_guide/indexing.html#returning-a-view-versus-a-copy\n",
      "  df2['clean_tokens'] = df2['tokens'].apply(lambda words:\n"
     ]
    },
    {
     "data": {
      "text/html": [
       "<div>\n",
       "<style scoped>\n",
       "    .dataframe tbody tr th:only-of-type {\n",
       "        vertical-align: middle;\n",
       "    }\n",
       "\n",
       "    .dataframe tbody tr th {\n",
       "        vertical-align: top;\n",
       "    }\n",
       "\n",
       "    .dataframe thead th {\n",
       "        text-align: right;\n",
       "    }\n",
       "</style>\n",
       "<table border=\"1\" class=\"dataframe\">\n",
       "  <thead>\n",
       "    <tr style=\"text-align: right;\">\n",
       "      <th></th>\n",
       "      <th>user_id</th>\n",
       "      <th>comments</th>\n",
       "      <th>tokens</th>\n",
       "      <th>clean_tokens</th>\n",
       "    </tr>\n",
       "  </thead>\n",
       "  <tbody>\n",
       "    <tr>\n",
       "      <th>13</th>\n",
       "      <td>1</td>\n",
       "      <td>I'm not on my company's health insurance which...</td>\n",
       "      <td>[I, 'm, not, on, my, company, 's, health, insu...</td>\n",
       "      <td>[I, 'm, company, 's, health, insurance, could,...</td>\n",
       "    </tr>\n",
       "    <tr>\n",
       "      <th>15</th>\n",
       "      <td>2</td>\n",
       "      <td>I have chronic low-level neurological issues t...</td>\n",
       "      <td>[I, have, chronic, low-level, neurological, is...</td>\n",
       "      <td>[I, chronic, low-level, neurological, issues, ...</td>\n",
       "    </tr>\n",
       "    <tr>\n",
       "      <th>16</th>\n",
       "      <td>3</td>\n",
       "      <td>My company does provide healthcare but not to ...</td>\n",
       "      <td>[My, company, does, provide, healthcare, but, ...</td>\n",
       "      <td>[My, company, provide, healthcare, I, 'm, fixe...</td>\n",
       "    </tr>\n",
       "    <tr>\n",
       "      <th>24</th>\n",
       "      <td>4</td>\n",
       "      <td>Relatively new job. Ask again later</td>\n",
       "      <td>[Relatively, new, job, ., Ask, again, later]</td>\n",
       "      <td>[Relatively, new, job, ., Ask, later]</td>\n",
       "    </tr>\n",
       "    <tr>\n",
       "      <th>25</th>\n",
       "      <td>5</td>\n",
       "      <td>Sometimes I think  about using drugs for my me...</td>\n",
       "      <td>[Sometimes, I, think, about, using, drugs, for...</td>\n",
       "      <td>[Sometimes, I, think, using, drugs, mental, he...</td>\n",
       "    </tr>\n",
       "    <tr>\n",
       "      <th>...</th>\n",
       "      <td>...</td>\n",
       "      <td>...</td>\n",
       "      <td>...</td>\n",
       "      <td>...</td>\n",
       "    </tr>\n",
       "    <tr>\n",
       "      <th>1223</th>\n",
       "      <td>160</td>\n",
       "      <td>Although my employer does everything they can ...</td>\n",
       "      <td>[Although, my, employer, does, everything, the...</td>\n",
       "      <td>[Although, employer, everything, accommodate, ...</td>\n",
       "    </tr>\n",
       "    <tr>\n",
       "      <th>1232</th>\n",
       "      <td>161</td>\n",
       "      <td>I work at a large university with a track reco...</td>\n",
       "      <td>[I, work, at, a, large, university, with, a, t...</td>\n",
       "      <td>[I, work, large, university, track, record, he...</td>\n",
       "    </tr>\n",
       "    <tr>\n",
       "      <th>1234</th>\n",
       "      <td>162</td>\n",
       "      <td>i'm in a country with social health care so my...</td>\n",
       "      <td>[i, 'm, in, a, country, with, social, health, ...</td>\n",
       "      <td>['m, country, social, health, care, options, d...</td>\n",
       "    </tr>\n",
       "    <tr>\n",
       "      <th>1245</th>\n",
       "      <td>163</td>\n",
       "      <td>In australia all organisations of a certain si...</td>\n",
       "      <td>[In, australia, all, organisations, of, a, cer...</td>\n",
       "      <td>[In, australia, organisations, certain, size, ...</td>\n",
       "    </tr>\n",
       "    <tr>\n",
       "      <th>1249</th>\n",
       "      <td>164</td>\n",
       "      <td>Bipolar disorder</td>\n",
       "      <td>[Bipolar, disorder]</td>\n",
       "      <td>[Bipolar, disorder]</td>\n",
       "    </tr>\n",
       "  </tbody>\n",
       "</table>\n",
       "<p>164 rows × 4 columns</p>\n",
       "</div>"
      ],
      "text/plain": [
       "      user_id                                           comments  \\\n",
       "13          1  I'm not on my company's health insurance which...   \n",
       "15          2  I have chronic low-level neurological issues t...   \n",
       "16          3  My company does provide healthcare but not to ...   \n",
       "24          4                Relatively new job. Ask again later   \n",
       "25          5  Sometimes I think  about using drugs for my me...   \n",
       "...       ...                                                ...   \n",
       "1223      160  Although my employer does everything they can ...   \n",
       "1232      161  I work at a large university with a track reco...   \n",
       "1234      162  i'm in a country with social health care so my...   \n",
       "1245      163  In australia all organisations of a certain si...   \n",
       "1249      164                                  Bipolar disorder    \n",
       "\n",
       "                                                 tokens  \\\n",
       "13    [I, 'm, not, on, my, company, 's, health, insu...   \n",
       "15    [I, have, chronic, low-level, neurological, is...   \n",
       "16    [My, company, does, provide, healthcare, but, ...   \n",
       "24         [Relatively, new, job, ., Ask, again, later]   \n",
       "25    [Sometimes, I, think, about, using, drugs, for...   \n",
       "...                                                 ...   \n",
       "1223  [Although, my, employer, does, everything, the...   \n",
       "1232  [I, work, at, a, large, university, with, a, t...   \n",
       "1234  [i, 'm, in, a, country, with, social, health, ...   \n",
       "1245  [In, australia, all, organisations, of, a, cer...   \n",
       "1249                                [Bipolar, disorder]   \n",
       "\n",
       "                                           clean_tokens  \n",
       "13    [I, 'm, company, 's, health, insurance, could,...  \n",
       "15    [I, chronic, low-level, neurological, issues, ...  \n",
       "16    [My, company, provide, healthcare, I, 'm, fixe...  \n",
       "24                [Relatively, new, job, ., Ask, later]  \n",
       "25    [Sometimes, I, think, using, drugs, mental, he...  \n",
       "...                                                 ...  \n",
       "1223  [Although, employer, everything, accommodate, ...  \n",
       "1232  [I, work, large, university, track, record, he...  \n",
       "1234  ['m, country, social, health, care, options, d...  \n",
       "1245  [In, australia, organisations, certain, size, ...  \n",
       "1249                                [Bipolar, disorder]  \n",
       "\n",
       "[164 rows x 4 columns]"
      ]
     },
     "execution_count": 45,
     "metadata": {},
     "output_type": "execute_result"
    }
   ],
   "source": [
    "df2['clean_tokens'] = df2['tokens'].apply(lambda words:\n",
    "                                   [word for word in words if word not in stop_words])\n",
    "df2"
   ]
  }
 ],
 "metadata": {
  "kernelspec": {
   "display_name": "base",
   "language": "python",
   "name": "python3"
  },
  "language_info": {
   "codemirror_mode": {
    "name": "ipython",
    "version": 3
   },
   "file_extension": ".py",
   "mimetype": "text/x-python",
   "name": "python",
   "nbconvert_exporter": "python",
   "pygments_lexer": "ipython3",
   "version": "3.11.5"
  }
 },
 "nbformat": 4,
 "nbformat_minor": 2
}
