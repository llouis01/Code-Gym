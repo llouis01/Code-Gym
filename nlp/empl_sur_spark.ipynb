{
 "cells": [
  {
   "cell_type": "markdown",
   "metadata": {},
   "source": [
    "## Spark for NLP\n",
    "Putting this on Pause. Too many issues arising from using Spark."
   ]
  },
  {
   "cell_type": "code",
   "execution_count": 1,
   "metadata": {},
   "outputs": [],
   "source": [
    "# library imports\n",
    "import pandas as pd\n",
    "import pyspark\n",
    "import findspark\n",
    "findspark.init()\n",
    "from pyspark import SparkContext as sc\n",
    "from pyspark.sql import SparkSession\n",
    "from  pyspark.sql import functions as F"
   ]
  },
  {
   "cell_type": "code",
   "execution_count": 2,
   "metadata": {},
   "outputs": [],
   "source": [
    "sc = sc('local', 'employee-survey')\n",
    "spark = SparkSession(sc)"
   ]
  },
  {
   "cell_type": "code",
   "execution_count": 3,
   "metadata": {},
   "outputs": [],
   "source": [
    "# import data\n",
    "df = spark.read.csv('survey.csv', header=True)"
   ]
  },
  {
   "cell_type": "code",
   "execution_count": 4,
   "metadata": {},
   "outputs": [
    {
     "name": "stdout",
     "output_type": "stream",
     "text": [
      "+-------------------+---+------+--------------+-----+-------------+--------------+---------+--------------+--------------+-----------+------------+----------+------------+----------------+----------+----------+------------------+-------------------------+-----------------------+------------+------------+-----------------------+---------------------+------------------+---------------+--------------------+\n",
      "|          Timestamp|Age|Gender|       Country|state|self_employed|family_history|treatment|work_interfere|  no_employees|remote_work|tech_company|  benefits|care_options|wellness_program| seek_help| anonymity|             leave|mental_health_consequence|phys_health_consequence|   coworkers|  supervisor|mental_health_interview|phys_health_interview|mental_vs_physical|obs_consequence|            comments|\n",
      "+-------------------+---+------+--------------+-----+-------------+--------------+---------+--------------+--------------+-----------+------------+----------+------------+----------------+----------+----------+------------------+-------------------------+-----------------------+------------+------------+-----------------------+---------------------+------------------+---------------+--------------------+\n",
      "|2014-08-27 11:29:31| 37|Female| United States|   IL|           NA|            No|      Yes|         Often|          6-25|         No|         Yes|       Yes|    Not sure|              No|       Yes|       Yes|     Somewhat easy|                       No|                     No|Some of them|         Yes|                     No|                Maybe|               Yes|             No|                  NA|\n",
      "|2014-08-27 11:29:37| 44|     M| United States|   IN|           NA|            No|       No|        Rarely|More than 1000|         No|          No|Don't know|          No|      Don't know|Don't know|Don't know|        Don't know|                    Maybe|                     No|          No|          No|                     No|                   No|        Don't know|             No|                  NA|\n",
      "|2014-08-27 11:29:44| 32|  Male|        Canada|   NA|           NA|            No|       No|        Rarely|          6-25|         No|         Yes|        No|          No|              No|        No|Don't know|Somewhat difficult|                       No|                     No|         Yes|         Yes|                    Yes|                  Yes|                No|             No|                  NA|\n",
      "|2014-08-27 11:29:46| 31|  Male|United Kingdom|   NA|           NA|           Yes|      Yes|         Often|        26-100|         No|         Yes|        No|         Yes|              No|        No|        No|Somewhat difficult|                      Yes|                    Yes|Some of them|          No|                  Maybe|                Maybe|                No|            Yes|                  NA|\n",
      "|2014-08-27 11:30:22| 31|  Male| United States|   TX|           NA|            No|       No|         Never|       100-500|        Yes|         Yes|       Yes|          No|      Don't know|Don't know|Don't know|        Don't know|                       No|                     No|Some of them|         Yes|                    Yes|                  Yes|        Don't know|             No|                  NA|\n",
      "|2014-08-27 11:31:22| 33|  Male| United States|   TN|           NA|           Yes|       No|     Sometimes|          6-25|         No|         Yes|       Yes|    Not sure|              No|Don't know|Don't know|        Don't know|                       No|                     No|         Yes|         Yes|                     No|                Maybe|        Don't know|             No|                  NA|\n",
      "|2014-08-27 11:31:50| 35|Female| United States|   MI|           NA|           Yes|      Yes|     Sometimes|           1-5|        Yes|         Yes|        No|          No|              No|        No|        No|Somewhat difficult|                    Maybe|                  Maybe|Some of them|          No|                     No|                   No|        Don't know|             No|                  NA|\n",
      "|2014-08-27 11:32:05| 39|     M|        Canada|   NA|           NA|            No|       No|         Never|           1-5|        Yes|         Yes|        No|         Yes|              No|        No|       Yes|        Don't know|                       No|                     No|          No|          No|                     No|                   No|                No|             No|                  NA|\n",
      "|2014-08-27 11:32:39| 42|Female| United States|   IL|           NA|           Yes|      Yes|     Sometimes|       100-500|         No|         Yes|       Yes|         Yes|              No|        No|        No|    Very difficult|                    Maybe|                     No|         Yes|         Yes|                     No|                Maybe|                No|             No|                  NA|\n",
      "|2014-08-27 11:32:43| 23|  Male|        Canada|   NA|           NA|            No|       No|         Never|        26-100|         No|         Yes|Don't know|          No|      Don't know|Don't know|Don't know|        Don't know|                       No|                     No|         Yes|         Yes|                  Maybe|                Maybe|               Yes|             No|                  NA|\n",
      "|2014-08-27 11:32:44| 31|  Male| United States|   OH|           NA|            No|      Yes|     Sometimes|          6-25|        Yes|         Yes|Don't know|          No|              No|        No|Don't know|        Don't know|                       No|                     No|Some of them|         Yes|                     No|                   No|        Don't know|             No|                  NA|\n",
      "|2014-08-27 11:32:49| 29|  male|      Bulgaria|   NA|           NA|            No|       No|         Never|       100-500|        Yes|         Yes|Don't know|    Not sure|              No|        No|Don't know|        Don't know|                       No|                     No|         Yes|         Yes|                    Yes|                  Yes|        Don't know|             No|                  NA|\n",
      "|2014-08-27 11:33:23| 42|female| United States|   CA|           NA|           Yes|      Yes|     Sometimes|        26-100|         No|          No|       Yes|         Yes|              No|        No|Don't know|Somewhat difficult|                      Yes|                    Yes|         Yes|         Yes|                  Maybe|                Maybe|                No|            Yes|                  NA|\n",
      "|2014-08-27 11:33:26| 36|  Male| United States|   CT|           NA|           Yes|       No|         Never|      500-1000|         No|         Yes|Don't know|    Not sure|              No|Don't know|Don't know|        Don't know|                       No|                     No|         Yes|         Yes|                     No|                   No|        Don't know|             No|I'm not on my com...|\n",
      "|2014-08-27 11:33:57| 27|  Male|        Canada|   NA|           NA|            No|       No|         Never|          6-25|         No|         Yes|Don't know|    Not sure|      Don't know|Don't know|Don't know|     Somewhat easy|                       No|                     No|Some of them|Some of them|                  Maybe|                  Yes|               Yes|             No|                  NA|\n",
      "|2014-08-27 11:34:00| 29|female| United States|   IL|           NA|           Yes|      Yes|        Rarely|        26-100|         No|         Yes|       Yes|    Not sure|              No|        No|Don't know|     Somewhat easy|                       No|                     No|         Yes|Some of them|                  Maybe|                Maybe|        Don't know|             No|I have chronic lo...|\n",
      "|2014-08-27 11:34:20| 23|  Male|United Kingdom|   NA|           NA|            No|      Yes|     Sometimes|        26-100|        Yes|         Yes|Don't know|          No|      Don't know|Don't know|Don't know|         Very easy|                    Maybe|                     No|Some of them|          No|                  Maybe|                Maybe|                No|             No|My company does p...|\n",
      "|2014-08-27 11:34:37| 32|  Male| United States|   TN|           NA|            No|      Yes|     Sometimes|          6-25|         No|         Yes|       Yes|         Yes|              No|Don't know|Don't know|        Don't know|                    Maybe|                     No|Some of them|         Yes|                     No|                   No|                No|             No|                  NA|\n",
      "|2014-08-27 11:34:53| 46|  male| United States|   MD|          Yes|           Yes|       No|     Sometimes|           1-5|        Yes|         Yes|       Yes|    Not sure|             Yes|Don't know|       Yes|         Very easy|                       No|                     No|         Yes|         Yes|                     No|                  Yes|               Yes|            Yes|                  NA|\n",
      "|2014-08-27 11:35:08| 36|  Male|        France|   NA|          Yes|           Yes|       No|            NA|          6-25|        Yes|         Yes|        No|          No|             Yes|        No|       Yes|     Somewhat easy|                       No|                     No|Some of them|Some of them|                  Maybe|                Maybe|        Don't know|             No|                  NA|\n",
      "+-------------------+---+------+--------------+-----+-------------+--------------+---------+--------------+--------------+-----------+------------+----------+------------+----------------+----------+----------+------------------+-------------------------+-----------------------+------------+------------+-----------------------+---------------------+------------------+---------------+--------------------+\n",
      "only showing top 20 rows\n",
      "\n"
     ]
    }
   ],
   "source": [
    "# observe df\n",
    "df.show()"
   ]
  },
  {
   "cell_type": "code",
   "execution_count": 5,
   "metadata": {},
   "outputs": [],
   "source": [
    "# drop NaN comments\n",
    "df = df.filter(F.col('comments') != 'NA')"
   ]
  },
  {
   "cell_type": "code",
   "execution_count": 6,
   "metadata": {},
   "outputs": [
    {
     "name": "stdout",
     "output_type": "stream",
     "text": [
      "+-------------------+---+------+--------------+-----+-------------+--------------+---------+--------------+--------------+-----------+------------+----------+------------+----------------+----------+----------+------------------+-------------------------+-----------------------+------------+------------+-----------------------+---------------------+------------------+---------------+--------------------+\n",
      "|          Timestamp|Age|Gender|       Country|state|self_employed|family_history|treatment|work_interfere|  no_employees|remote_work|tech_company|  benefits|care_options|wellness_program| seek_help| anonymity|             leave|mental_health_consequence|phys_health_consequence|   coworkers|  supervisor|mental_health_interview|phys_health_interview|mental_vs_physical|obs_consequence|            comments|\n",
      "+-------------------+---+------+--------------+-----+-------------+--------------+---------+--------------+--------------+-----------+------------+----------+------------+----------------+----------+----------+------------------+-------------------------+-----------------------+------------+------------+-----------------------+---------------------+------------------+---------------+--------------------+\n",
      "|2014-08-27 11:33:26| 36|  null| United States|   CT|           NA|           Yes|       No|         Never|      500-1000|         No|         Yes|Don't know|    Not sure|              No|Don't know|Don't know|        Don't know|                       No|                     No|         Yes|         Yes|                     No|                   No|        Don't know|             No|I'm not on my com...|\n",
      "|2014-08-27 11:34:00| 29|  null| United States|   IL|           NA|           Yes|      Yes|        Rarely|        26-100|         No|         Yes|       Yes|    Not sure|              No|        No|Don't know|     Somewhat easy|                       No|                     No|         Yes|Some of them|                  Maybe|                Maybe|        Don't know|             No|I have chronic lo...|\n",
      "|2014-08-27 11:34:20| 23|  null|United Kingdom|   NA|           NA|            No|      Yes|     Sometimes|        26-100|        Yes|         Yes|Don't know|          No|      Don't know|Don't know|Don't know|         Very easy|                    Maybe|                     No|Some of them|          No|                  Maybe|                Maybe|                No|             No|My company does p...|\n",
      "|2014-08-27 11:36:48| 33|  null| United States|   CA|           No|           Yes|      Yes|        Rarely|        26-100|         No|         Yes|       Yes|    Not sure|      Don't know|       Yes|       Yes|        Don't know|                       No|                     No|         Yes|         Yes|                     No|                  Yes|        Don't know|             No|Relatively new jo...|\n",
      "|2014-08-27 11:37:08| 35|  null| United States|   TN|           No|           Yes|      Yes|     Sometimes|More than 1000|         No|          No|       Yes|         Yes|              No|Don't know|        No|         Very easy|                      Yes|                     No|Some of them|         Yes|                     No|                  Yes|                No|             No|Sometimes I think...|\n",
      "|2014-08-27 11:39:36| 42|  null| United States|   WA|           No|           Yes|      Yes|     Sometimes|        26-100|        Yes|         Yes|       Yes|         Yes|             Yes|       Yes|       Yes|         Very easy|                    Maybe|                     No|Some of them|Some of them|                  Maybe|                  Yes|        Don't know|             No|I selected my cur...|\n",
      "|2014-08-27 11:43:36| 38|  null| United States|   TX|           No|           Yes|      Yes|     Sometimes|        26-100|         No|         Yes|       Yes|         Yes|              No|       Yes|       Yes|     Somewhat easy|                       No|                     No|Some of them|         Yes|                     No|                   No|               Yes|             No|Our health plan h...|\n",
      "|2014-08-27 11:44:43| 30|  null| United States|   IL|           No|           Yes|      Yes|        Rarely|        26-100|         No|         Yes|       Yes|          No|              No|Don't know|Don't know|        Don't know|                    Maybe|                     No|Some of them|         Yes|                     No|                   No|        Don't know|             No|I just started a ...|\n",
      "|2014-08-27 11:47:56| 33|  null|        Canada|   NA|           No|           Yes|      Yes|         Often|          6-25|        Yes|         Yes|Don't know|          No|              No|        No|        No|Somewhat difficult|                      Yes|                     No|          No|          No|                     No|                Maybe|        Don't know|             No|In addition to my...|\n",
      "|2014-08-27 11:51:34| 23|  null|     Australia|   NA|           No|           Yes|      Yes|         Often|           1-5|        Yes|         Yes|        No|    Not sure|              No|        No|Don't know|         Very easy|                       No|                     No|Some of them|         Yes|                     No|                Maybe|               Yes|             No|Thanks for doing ...|\n",
      "|2014-08-27 12:15:11| 18|  null|        Russia|   NA|           No|            No|       No|            NA|        26-100|        Yes|         Yes|       Yes|         Yes|              No|        No|       Yes|     Somewhat easy|                       No|                     No|         Yes|         Yes|                    Yes|                  Yes|        Don't know|             No|In Russia we have...|\n",
      "|2014-08-27 12:18:14| 26|  null|        Canada|   NA|           No|           Yes|      Yes|     Sometimes|        26-100|         No|          No|        No|         Yes|              No|        No|        No|    Very difficult|                      Yes|                     No|          No|          No|                     No|                Maybe|                No|            Yes|In my previous wo...|\n",
      "|2014-08-27 12:23:59| 35|  male| United States|   OR|           No|           Yes|      Yes|     Sometimes|        26-100|        Yes|         Yes|Don't know|    Not sure|              No|        No|Don't know|     Somewhat easy|                       No|                     No|Some of them|         Yes|                     No|                Maybe|                No|             No|I've seen negativ...|\n",
      "|2014-08-27 12:38:18| 37|  null|United Kingdom|   NA|          Yes|            No|      Yes|     Sometimes|More than 1000|         No|          No|        No|         Yes|             Yes|       Yes|       Yes|    Very difficult|                      Yes|                    Yes|Some of them|          No|                     No|                Maybe|               Yes|             No|I'm not a permane...|\n",
      "|2014-08-27 12:39:18| 30|  null| United States|   PA|           No|           Yes|       No|            NA|More than 1000|        Yes|         Yes|Don't know|    Not sure|              No|Don't know|Don't know|        Don't know|                    Maybe|                  Maybe|Some of them|Some of them|                     No|                Maybe|        Don't know|             No|I'd be more worri...|\n",
      "|2014-08-27 12:43:28| 27|  null| United States|   UT|           No|            No|      Yes|        Rarely|        26-100|        Yes|         Yes|        No|         Yes|              No|        No|Don't know|Somewhat difficult|                    Maybe|                     No|Some of them|         Yes|                     No|                   No|        Don't know|            Yes|Had a co-worker d...|\n",
      "|2014-08-27 12:43:40| 25|  null| United States|   IL|           No|           Yes|      Yes|     Sometimes|        26-100|         No|         Yes|Don't know|    Not sure|              No|        No|Don't know|         Very easy|                    Maybe|                     No|Some of them|          No|                     No|                   No|        Don't know|            Yes|Family history of...|\n",
      "|2014-08-27 12:43:53| 36|  null|United Kingdom|   NA|           No|            No|      Yes|     Sometimes|More than 1000|         No|          No|       Yes|         Yes|             Yes|       Yes|       Yes|     Somewhat easy|                    Maybe|                  Maybe|Some of them|Some of them|                     No|                Maybe|        Don't know|            Yes|I feel that my em...|\n",
      "|2014-08-27 12:46:03| 33|female| United States|   WA|          Yes|           Yes|      Yes|     Sometimes|           1-5|         No|         Yes|        No|         Yes|             Yes|       Yes|       Yes|    Very difficult|                       No|                     No|Some of them|         Yes|                     No|                  Yes|               Yes|             No|Many of these que...|\n",
      "|2014-08-27 12:47:25| 27|female|United Kingdom|   NA|          Yes|           Yes|       No|            NA|           1-5|        Yes|         Yes|        No|         Yes|              No|        No|       Yes|     Somewhat easy|                       No|                     No|         Yes|         Yes|                     No|                Maybe|               Yes|             No|as a UK-based com...|\n",
      "+-------------------+---+------+--------------+-----+-------------+--------------+---------+--------------+--------------+-----------+------------+----------+------------+----------------+----------+----------+------------------+-------------------------+-----------------------+------------+------------+-----------------------+---------------------+------------------+---------------+--------------------+\n",
      "only showing top 20 rows\n",
      "\n"
     ]
    }
   ],
   "source": [
    "df = df.withColumn('Age', F.col('Age').cast('integer'))\\\n",
    "       .withColumn('Gender', F.lower(F.col('Gender')))\\\n",
    "\n",
    "df = df.withColumn('Gender', F.when(df.Gender == 'm', 'male')\n",
    "                              .when(df.Gender == 'f', 'female')\n",
    "                              .when(df.Gender == 'woman', 'female'))\n",
    "\n",
    "df.show()"
   ]
  },
  {
   "cell_type": "code",
   "execution_count": 12,
   "metadata": {},
   "outputs": [
    {
     "name": "stdout",
     "output_type": "stream",
     "text": [
      "+--------------------+\n",
      "|            comments|\n",
      "+--------------------+\n",
      "|Some of these sho...|\n",
      "|I'm diagnosed wit...|\n",
      "|We don't fucking ...|\n",
      "|Though it doesn't...|\n",
      "|My company does p...|\n",
      "|Many of these que...|\n",
      "|Too many people e...|\n",
      "|I burnt out this ...|\n",
      "|I mostly suffer f...|\n",
      "|When you are an i...|\n",
      "|suffer from CR-PT...|\n",
      "|Since being advis...|\n",
      "|Thank you for you...|\n",
      "|I have an excepti...|\n",
      "|as a UK-based com...|\n",
      "|My employer does ...|\n",
      "|While I have not ...|\n",
      "|Autism is a bitch...|\n",
      "|I went through a ...|\n",
      "|Hi Ed it's Paul D...|\n",
      "+--------------------+\n",
      "only showing top 20 rows\n",
      "\n"
     ]
    }
   ],
   "source": [
    "df.select('comments').distinct().show()"
   ]
  },
  {
   "cell_type": "code",
   "execution_count": 14,
   "metadata": {},
   "outputs": [],
   "source": [
    "df = df.withColumn('user_id', F.monotonically_increasing_id())\n",
    "\n",
    "df = df.select(*[\n",
    " 'user_id',\n",
    " 'Timestamp',\n",
    " 'Age',\n",
    " 'Gender',\n",
    " 'Country',\n",
    " 'state',\n",
    " 'self_employed',\n",
    " 'family_history',\n",
    " 'treatment',\n",
    " 'work_interfere',\n",
    " 'no_employees',\n",
    " 'remote_work',\n",
    " 'tech_company',\n",
    " 'benefits',\n",
    " 'care_options',\n",
    " 'wellness_program',\n",
    " 'seek_help',\n",
    " 'anonymity',\n",
    " 'leave',\n",
    " 'mental_health_consequence',\n",
    " 'phys_health_consequence',\n",
    " 'coworkers',\n",
    " 'supervisor',\n",
    " 'mental_health_interview',\n",
    " 'phys_health_interview',\n",
    " 'mental_vs_physical',\n",
    " 'obs_consequence',\n",
    " 'comments'\n",
    " ])\n",
    "\n",
    "df = df.withColumn('user_id', df.user_id + 1)"
   ]
  },
  {
   "cell_type": "code",
   "execution_count": 22,
   "metadata": {},
   "outputs": [
    {
     "name": "stdout",
     "output_type": "stream",
     "text": [
      "+-------+-------------------+---+------+--------------+-----+-------------+--------------+---------+--------------+--------------+-----------+------------+----------+------------+----------------+----------+----------+------------------+-------------------------+-----------------------+------------+------------+-----------------------+---------------------+------------------+---------------+--------------------+\n",
      "|user_id|          Timestamp|Age|Gender|       Country|state|self_employed|family_history|treatment|work_interfere|  no_employees|remote_work|tech_company|  benefits|care_options|wellness_program| seek_help| anonymity|             leave|mental_health_consequence|phys_health_consequence|   coworkers|  supervisor|mental_health_interview|phys_health_interview|mental_vs_physical|obs_consequence|            comments|\n",
      "+-------+-------------------+---+------+--------------+-----+-------------+--------------+---------+--------------+--------------+-----------+------------+----------+------------+----------------+----------+----------+------------------+-------------------------+-----------------------+------------+------------+-----------------------+---------------------+------------------+---------------+--------------------+\n",
      "|      1|2014-08-27 11:33:26| 36|  null| United States|   CT|           NA|           Yes|       No|         Never|      500-1000|         No|         Yes|Don't know|    Not sure|              No|Don't know|Don't know|        Don't know|                       No|                     No|         Yes|         Yes|                     No|                   No|        Don't know|             No|I'm not on my com...|\n",
      "|      2|2014-08-27 11:34:00| 29|  null| United States|   IL|           NA|           Yes|      Yes|        Rarely|        26-100|         No|         Yes|       Yes|    Not sure|              No|        No|Don't know|     Somewhat easy|                       No|                     No|         Yes|Some of them|                  Maybe|                Maybe|        Don't know|             No|I have chronic lo...|\n",
      "|      3|2014-08-27 11:34:20| 23|  null|United Kingdom|   NA|           NA|            No|      Yes|     Sometimes|        26-100|        Yes|         Yes|Don't know|          No|      Don't know|Don't know|Don't know|         Very easy|                    Maybe|                     No|Some of them|          No|                  Maybe|                Maybe|                No|             No|My company does p...|\n",
      "|      4|2014-08-27 11:36:48| 33|  null| United States|   CA|           No|           Yes|      Yes|        Rarely|        26-100|         No|         Yes|       Yes|    Not sure|      Don't know|       Yes|       Yes|        Don't know|                       No|                     No|         Yes|         Yes|                     No|                  Yes|        Don't know|             No|Relatively new jo...|\n",
      "|      5|2014-08-27 11:37:08| 35|  null| United States|   TN|           No|           Yes|      Yes|     Sometimes|More than 1000|         No|          No|       Yes|         Yes|              No|Don't know|        No|         Very easy|                      Yes|                     No|Some of them|         Yes|                     No|                  Yes|                No|             No|Sometimes I think...|\n",
      "|      6|2014-08-27 11:39:36| 42|  null| United States|   WA|           No|           Yes|      Yes|     Sometimes|        26-100|        Yes|         Yes|       Yes|         Yes|             Yes|       Yes|       Yes|         Very easy|                    Maybe|                     No|Some of them|Some of them|                  Maybe|                  Yes|        Don't know|             No|I selected my cur...|\n",
      "|      7|2014-08-27 11:43:36| 38|  null| United States|   TX|           No|           Yes|      Yes|     Sometimes|        26-100|         No|         Yes|       Yes|         Yes|              No|       Yes|       Yes|     Somewhat easy|                       No|                     No|Some of them|         Yes|                     No|                   No|               Yes|             No|Our health plan h...|\n",
      "|      8|2014-08-27 11:44:43| 30|  null| United States|   IL|           No|           Yes|      Yes|        Rarely|        26-100|         No|         Yes|       Yes|          No|              No|Don't know|Don't know|        Don't know|                    Maybe|                     No|Some of them|         Yes|                     No|                   No|        Don't know|             No|I just started a ...|\n",
      "|      9|2014-08-27 11:47:56| 33|  null|        Canada|   NA|           No|           Yes|      Yes|         Often|          6-25|        Yes|         Yes|Don't know|          No|              No|        No|        No|Somewhat difficult|                      Yes|                     No|          No|          No|                     No|                Maybe|        Don't know|             No|In addition to my...|\n",
      "|     10|2014-08-27 11:51:34| 23|  null|     Australia|   NA|           No|           Yes|      Yes|         Often|           1-5|        Yes|         Yes|        No|    Not sure|              No|        No|Don't know|         Very easy|                       No|                     No|Some of them|         Yes|                     No|                Maybe|               Yes|             No|Thanks for doing ...|\n",
      "|     11|2014-08-27 12:15:11| 18|  null|        Russia|   NA|           No|            No|       No|            NA|        26-100|        Yes|         Yes|       Yes|         Yes|              No|        No|       Yes|     Somewhat easy|                       No|                     No|         Yes|         Yes|                    Yes|                  Yes|        Don't know|             No|In Russia we have...|\n",
      "|     12|2014-08-27 12:18:14| 26|  null|        Canada|   NA|           No|           Yes|      Yes|     Sometimes|        26-100|         No|          No|        No|         Yes|              No|        No|        No|    Very difficult|                      Yes|                     No|          No|          No|                     No|                Maybe|                No|            Yes|In my previous wo...|\n",
      "|     13|2014-08-27 12:23:59| 35|  male| United States|   OR|           No|           Yes|      Yes|     Sometimes|        26-100|        Yes|         Yes|Don't know|    Not sure|              No|        No|Don't know|     Somewhat easy|                       No|                     No|Some of them|         Yes|                     No|                Maybe|                No|             No|I've seen negativ...|\n",
      "|     14|2014-08-27 12:38:18| 37|  null|United Kingdom|   NA|          Yes|            No|      Yes|     Sometimes|More than 1000|         No|          No|        No|         Yes|             Yes|       Yes|       Yes|    Very difficult|                      Yes|                    Yes|Some of them|          No|                     No|                Maybe|               Yes|             No|I'm not a permane...|\n",
      "|     15|2014-08-27 12:39:18| 30|  null| United States|   PA|           No|           Yes|       No|            NA|More than 1000|        Yes|         Yes|Don't know|    Not sure|              No|Don't know|Don't know|        Don't know|                    Maybe|                  Maybe|Some of them|Some of them|                     No|                Maybe|        Don't know|             No|I'd be more worri...|\n",
      "|     16|2014-08-27 12:43:28| 27|  null| United States|   UT|           No|            No|      Yes|        Rarely|        26-100|        Yes|         Yes|        No|         Yes|              No|        No|Don't know|Somewhat difficult|                    Maybe|                     No|Some of them|         Yes|                     No|                   No|        Don't know|            Yes|Had a co-worker d...|\n",
      "|     17|2014-08-27 12:43:40| 25|  null| United States|   IL|           No|           Yes|      Yes|     Sometimes|        26-100|         No|         Yes|Don't know|    Not sure|              No|        No|Don't know|         Very easy|                    Maybe|                     No|Some of them|          No|                     No|                   No|        Don't know|            Yes|Family history of...|\n",
      "|     18|2014-08-27 12:43:53| 36|  null|United Kingdom|   NA|           No|            No|      Yes|     Sometimes|More than 1000|         No|          No|       Yes|         Yes|             Yes|       Yes|       Yes|     Somewhat easy|                    Maybe|                  Maybe|Some of them|Some of them|                     No|                Maybe|        Don't know|            Yes|I feel that my em...|\n",
      "|     19|2014-08-27 12:46:03| 33|female| United States|   WA|          Yes|           Yes|      Yes|     Sometimes|           1-5|         No|         Yes|        No|         Yes|             Yes|       Yes|       Yes|    Very difficult|                       No|                     No|Some of them|         Yes|                     No|                  Yes|               Yes|             No|Many of these que...|\n",
      "|     20|2014-08-27 12:47:25| 27|female|United Kingdom|   NA|          Yes|           Yes|       No|            NA|           1-5|        Yes|         Yes|        No|         Yes|              No|        No|       Yes|     Somewhat easy|                       No|                     No|         Yes|         Yes|                     No|                Maybe|               Yes|             No|as a UK-based com...|\n",
      "+-------+-------------------+---+------+--------------+-----+-------------+--------------+---------+--------------+--------------+-----------+------------+----------+------------+----------------+----------+----------+------------------+-------------------------+-----------------------+------------+------------+-----------------------+---------------------+------------------+---------------+--------------------+\n",
      "only showing top 20 rows\n",
      "\n"
     ]
    }
   ],
   "source": [
    "df.filter(~F.isnull('comments')).show()"
   ]
  },
  {
   "cell_type": "markdown",
   "metadata": {},
   "source": [
    "### Conduct String Cleaning"
   ]
  },
  {
   "cell_type": "code",
   "execution_count": 24,
   "metadata": {},
   "outputs": [
    {
     "name": "stdout",
     "output_type": "stream",
     "text": [
      "+-------+--------------------+\n",
      "|user_id|            comments|\n",
      "+-------+--------------------+\n",
      "|      1|I'm not on my com...|\n",
      "|      2|I have chronic lo...|\n",
      "|      3|My company does p...|\n",
      "|      4|Relatively new jo...|\n",
      "|      5|Sometimes I think...|\n",
      "|      6|I selected my cur...|\n",
      "|      7|Our health plan h...|\n",
      "|      8|I just started a ...|\n",
      "|      9|In addition to my...|\n",
      "|     10|Thanks for doing ...|\n",
      "|     11|In Russia we have...|\n",
      "|     12|In my previous wo...|\n",
      "|     13|I've seen negativ...|\n",
      "|     14|I'm not a permane...|\n",
      "|     15|I'd be more worri...|\n",
      "|     16|Had a co-worker d...|\n",
      "|     17|Family history of...|\n",
      "|     18|I feel that my em...|\n",
      "|     19|Many of these que...|\n",
      "|     20|as a UK-based com...|\n",
      "+-------+--------------------+\n",
      "only showing top 20 rows\n",
      "\n"
     ]
    }
   ],
   "source": [
    "df2 = df.select(*['user_id', 'comments'])\n",
    "df2.show()"
   ]
  },
  {
   "cell_type": "code",
   "execution_count": 1,
   "metadata": {},
   "outputs": [],
   "source": [
    "from sparknlp.base import DocumentAssembler, Pipeline\n",
    "from sparknlp.annotator import SentenceDetector, Tokenizer, StopWordsCleaner\n",
    "from johnsnowlabs import nlp"
   ]
  },
  {
   "cell_type": "code",
   "execution_count": 30,
   "metadata": {},
   "outputs": [],
   "source": [
    "from py4j.java_gateway import java_import\n",
    "java_import(spark._sc._jvm, \"org.apache.spark.sql.api.python.*\")"
   ]
  },
  {
   "cell_type": "code",
   "execution_count": 32,
   "metadata": {},
   "outputs": [],
   "source": [
    "# # raw text to document annotation\n",
    "# doc_assembler = (DocumentAssembler()\n",
    "#                  .setInputCol(\"comments\")\n",
    "#                  .setOutputCol(\"doc\"))"
   ]
  },
  {
   "cell_type": "code",
   "execution_count": 2,
   "metadata": {},
   "outputs": [
    {
     "ename": "Exception",
     "evalue": "Java gateway process exited before sending its port number",
     "output_type": "error",
     "traceback": [
      "\u001b[1;31m---------------------------------------------------------------------------\u001b[0m",
      "\u001b[1;31mException\u001b[0m                                 Traceback (most recent call last)",
      "Cell \u001b[1;32mIn[2], line 1\u001b[0m\n\u001b[1;32m----> 1\u001b[0m nlp\u001b[38;5;241m.\u001b[39mload(\u001b[38;5;124m\"\u001b[39m\u001b[38;5;124men.stopwords\u001b[39m\u001b[38;5;124m\"\u001b[39m)\u001b[38;5;241m.\u001b[39mpredict(\u001b[38;5;124m\"\u001b[39m\u001b[38;5;124mI\u001b[39m\u001b[38;5;124m'\u001b[39m\u001b[38;5;124mm so fed up with this shit. Give me my VA money already!\u001b[39m\u001b[38;5;124m\"\u001b[39m, output_level\u001b[38;5;241m=\u001b[39m\u001b[38;5;124m'\u001b[39m\u001b[38;5;124msentence\u001b[39m\u001b[38;5;124m'\u001b[39m)\n",
      "File \u001b[1;32mc:\\Users\\RoiMinuit\\anaconda3\\Lib\\site-packages\\nlu\\__init__.py:200\u001b[0m, in \u001b[0;36mload\u001b[1;34m(request, path, verbose, gpu, streamlit_caching, m1_chip)\u001b[0m\n\u001b[0;32m    198\u001b[0m \u001b[38;5;66;03m# check if secrets are in default loc, if yes load them and create licensed context automatically\u001b[39;00m\n\u001b[0;32m    199\u001b[0m auth(gpu\u001b[38;5;241m=\u001b[39mgpu)\n\u001b[1;32m--> 200\u001b[0m spark \u001b[38;5;241m=\u001b[39m get_open_source_spark_context(gpu, m1_chip)\n\u001b[0;32m    201\u001b[0m \u001b[38;5;66;03m# spark.catalog.clearCache()\u001b[39;00m\n\u001b[0;32m    203\u001b[0m \u001b[38;5;28;01mif\u001b[39;00m verbose:\n",
      "File \u001b[1;32mc:\\Users\\RoiMinuit\\anaconda3\\Lib\\site-packages\\nlu\\__init__.py:370\u001b[0m, in \u001b[0;36mget_open_source_spark_context\u001b[1;34m(gpu, m1_chip)\u001b[0m\n\u001b[0;32m    368\u001b[0m         \u001b[38;5;28;01mreturn\u001b[39;00m sparknlp\u001b[38;5;241m.\u001b[39mstart(gpu\u001b[38;5;241m=\u001b[39mgpu, m1\u001b[38;5;241m=\u001b[39m\u001b[38;5;28;01mTrue\u001b[39;00m)\n\u001b[0;32m    369\u001b[0m     \u001b[38;5;28;01melse\u001b[39;00m:\n\u001b[1;32m--> 370\u001b[0m         \u001b[38;5;28;01mreturn\u001b[39;00m sparknlp\u001b[38;5;241m.\u001b[39mstart(gpu\u001b[38;5;241m=\u001b[39mgpu)\n\u001b[0;32m    371\u001b[0m \u001b[38;5;28;01mraise\u001b[39;00m \u001b[38;5;167;01mValueError\u001b[39;00m(\u001b[38;5;124mf\u001b[39m\u001b[38;5;124m\"\u001b[39m\u001b[38;5;124mFailure starting Spark Context! Current Spark version \u001b[39m\u001b[38;5;132;01m{\u001b[39;00mget_pyspark_version()\u001b[38;5;132;01m}\u001b[39;00m\u001b[38;5;124m not supported! \u001b[39m\u001b[38;5;124m\"\u001b[39m\n\u001b[0;32m    372\u001b[0m                  \u001b[38;5;124mf\u001b[39m\u001b[38;5;124m\"\u001b[39m\u001b[38;5;124mPlease install any of Pyspark 3.X versions.\u001b[39m\u001b[38;5;124m\"\u001b[39m)\n",
      "File \u001b[1;32mc:\\Users\\RoiMinuit\\anaconda3\\Lib\\site-packages\\sparknlp\\__init__.py:300\u001b[0m, in \u001b[0;36mstart\u001b[1;34m(gpu, apple_silicon, aarch64, memory, cache_folder, log_folder, cluster_tmp_dir, params, real_time_output, output_level)\u001b[0m\n\u001b[0;32m    298\u001b[0m     \u001b[38;5;28;01mreturn\u001b[39;00m SparkRealTimeOutput()\u001b[38;5;241m.\u001b[39mspark_session\n\u001b[0;32m    299\u001b[0m \u001b[38;5;28;01melse\u001b[39;00m:\n\u001b[1;32m--> 300\u001b[0m     spark_session \u001b[38;5;241m=\u001b[39m start_without_realtime_output()\n\u001b[0;32m    301\u001b[0m     \u001b[38;5;28;01mreturn\u001b[39;00m spark_session\n",
      "File \u001b[1;32mc:\\Users\\RoiMinuit\\anaconda3\\Lib\\site-packages\\sparknlp\\__init__.py:198\u001b[0m, in \u001b[0;36mstart.<locals>.start_without_realtime_output\u001b[1;34m()\u001b[0m\n\u001b[0;32m    195\u001b[0m     \u001b[38;5;28;01melse\u001b[39;00m:\n\u001b[0;32m    196\u001b[0m         builder\u001b[38;5;241m.\u001b[39mconfig(key, value)\n\u001b[1;32m--> 198\u001b[0m \u001b[38;5;28;01mreturn\u001b[39;00m builder\u001b[38;5;241m.\u001b[39mgetOrCreate()\n",
      "File \u001b[1;32mc:\\Users\\RoiMinuit\\anaconda3\\Lib\\site-packages\\pyspark\\sql\\session.py:228\u001b[0m, in \u001b[0;36mSparkSession.Builder.getOrCreate\u001b[1;34m(self)\u001b[0m\n\u001b[0;32m    226\u001b[0m         sparkConf\u001b[38;5;241m.\u001b[39mset(key, value)\n\u001b[0;32m    227\u001b[0m     \u001b[38;5;66;03m# This SparkContext may be an existing one.\u001b[39;00m\n\u001b[1;32m--> 228\u001b[0m     sc \u001b[38;5;241m=\u001b[39m SparkContext\u001b[38;5;241m.\u001b[39mgetOrCreate(sparkConf)\n\u001b[0;32m    229\u001b[0m \u001b[38;5;66;03m# Do not update `SparkConf` for existing `SparkContext`, as it's shared\u001b[39;00m\n\u001b[0;32m    230\u001b[0m \u001b[38;5;66;03m# by all sessions.\u001b[39;00m\n\u001b[0;32m    231\u001b[0m session \u001b[38;5;241m=\u001b[39m SparkSession(sc)\n",
      "File \u001b[1;32mc:\\Users\\RoiMinuit\\anaconda3\\Lib\\site-packages\\pyspark\\context.py:384\u001b[0m, in \u001b[0;36mSparkContext.getOrCreate\u001b[1;34m(cls, conf)\u001b[0m\n\u001b[0;32m    382\u001b[0m \u001b[38;5;28;01mwith\u001b[39;00m SparkContext\u001b[38;5;241m.\u001b[39m_lock:\n\u001b[0;32m    383\u001b[0m     \u001b[38;5;28;01mif\u001b[39;00m SparkContext\u001b[38;5;241m.\u001b[39m_active_spark_context \u001b[38;5;129;01mis\u001b[39;00m \u001b[38;5;28;01mNone\u001b[39;00m:\n\u001b[1;32m--> 384\u001b[0m         SparkContext(conf\u001b[38;5;241m=\u001b[39mconf \u001b[38;5;129;01mor\u001b[39;00m SparkConf())\n\u001b[0;32m    385\u001b[0m     \u001b[38;5;28;01mreturn\u001b[39;00m SparkContext\u001b[38;5;241m.\u001b[39m_active_spark_context\n",
      "File \u001b[1;32mc:\\Users\\RoiMinuit\\anaconda3\\Lib\\site-packages\\pyspark\\context.py:144\u001b[0m, in \u001b[0;36mSparkContext.__init__\u001b[1;34m(self, master, appName, sparkHome, pyFiles, environment, batchSize, serializer, conf, gateway, jsc, profiler_cls)\u001b[0m\n\u001b[0;32m    139\u001b[0m \u001b[38;5;28;01mif\u001b[39;00m gateway \u001b[38;5;129;01mis\u001b[39;00m \u001b[38;5;129;01mnot\u001b[39;00m \u001b[38;5;28;01mNone\u001b[39;00m \u001b[38;5;129;01mand\u001b[39;00m gateway\u001b[38;5;241m.\u001b[39mgateway_parameters\u001b[38;5;241m.\u001b[39mauth_token \u001b[38;5;129;01mis\u001b[39;00m \u001b[38;5;28;01mNone\u001b[39;00m:\n\u001b[0;32m    140\u001b[0m     \u001b[38;5;28;01mraise\u001b[39;00m \u001b[38;5;167;01mValueError\u001b[39;00m(\n\u001b[0;32m    141\u001b[0m         \u001b[38;5;124m\"\u001b[39m\u001b[38;5;124mYou are trying to pass an insecure Py4j gateway to Spark. This\u001b[39m\u001b[38;5;124m\"\u001b[39m\n\u001b[0;32m    142\u001b[0m         \u001b[38;5;124m\"\u001b[39m\u001b[38;5;124m is not allowed as it is a security risk.\u001b[39m\u001b[38;5;124m\"\u001b[39m)\n\u001b[1;32m--> 144\u001b[0m SparkContext\u001b[38;5;241m.\u001b[39m_ensure_initialized(\u001b[38;5;28mself\u001b[39m, gateway\u001b[38;5;241m=\u001b[39mgateway, conf\u001b[38;5;241m=\u001b[39mconf)\n\u001b[0;32m    145\u001b[0m \u001b[38;5;28;01mtry\u001b[39;00m:\n\u001b[0;32m    146\u001b[0m     \u001b[38;5;28mself\u001b[39m\u001b[38;5;241m.\u001b[39m_do_init(master, appName, sparkHome, pyFiles, environment, batchSize, serializer,\n\u001b[0;32m    147\u001b[0m                   conf, jsc, profiler_cls)\n",
      "File \u001b[1;32mc:\\Users\\RoiMinuit\\anaconda3\\Lib\\site-packages\\pyspark\\context.py:331\u001b[0m, in \u001b[0;36mSparkContext._ensure_initialized\u001b[1;34m(cls, instance, gateway, conf)\u001b[0m\n\u001b[0;32m    329\u001b[0m \u001b[38;5;28;01mwith\u001b[39;00m SparkContext\u001b[38;5;241m.\u001b[39m_lock:\n\u001b[0;32m    330\u001b[0m     \u001b[38;5;28;01mif\u001b[39;00m \u001b[38;5;129;01mnot\u001b[39;00m SparkContext\u001b[38;5;241m.\u001b[39m_gateway:\n\u001b[1;32m--> 331\u001b[0m         SparkContext\u001b[38;5;241m.\u001b[39m_gateway \u001b[38;5;241m=\u001b[39m gateway \u001b[38;5;129;01mor\u001b[39;00m launch_gateway(conf)\n\u001b[0;32m    332\u001b[0m         SparkContext\u001b[38;5;241m.\u001b[39m_jvm \u001b[38;5;241m=\u001b[39m SparkContext\u001b[38;5;241m.\u001b[39m_gateway\u001b[38;5;241m.\u001b[39mjvm\n\u001b[0;32m    334\u001b[0m     \u001b[38;5;28;01mif\u001b[39;00m instance:\n",
      "File \u001b[1;32mc:\\Users\\RoiMinuit\\anaconda3\\Lib\\site-packages\\pyspark\\java_gateway.py:108\u001b[0m, in \u001b[0;36mlaunch_gateway\u001b[1;34m(conf, popen_kwargs)\u001b[0m\n\u001b[0;32m    105\u001b[0m     time\u001b[38;5;241m.\u001b[39msleep(\u001b[38;5;241m0.1\u001b[39m)\n\u001b[0;32m    107\u001b[0m \u001b[38;5;28;01mif\u001b[39;00m \u001b[38;5;129;01mnot\u001b[39;00m os\u001b[38;5;241m.\u001b[39mpath\u001b[38;5;241m.\u001b[39misfile(conn_info_file):\n\u001b[1;32m--> 108\u001b[0m     \u001b[38;5;28;01mraise\u001b[39;00m \u001b[38;5;167;01mException\u001b[39;00m(\u001b[38;5;124m\"\u001b[39m\u001b[38;5;124mJava gateway process exited before sending its port number\u001b[39m\u001b[38;5;124m\"\u001b[39m)\n\u001b[0;32m    110\u001b[0m \u001b[38;5;28;01mwith\u001b[39;00m \u001b[38;5;28mopen\u001b[39m(conn_info_file, \u001b[38;5;124m\"\u001b[39m\u001b[38;5;124mrb\u001b[39m\u001b[38;5;124m\"\u001b[39m) \u001b[38;5;28;01mas\u001b[39;00m info:\n\u001b[0;32m    111\u001b[0m     gateway_port \u001b[38;5;241m=\u001b[39m read_int(info)\n",
      "\u001b[1;31mException\u001b[0m: Java gateway process exited before sending its port number"
     ]
    }
   ],
   "source": [
    "nlp.load(\"en.stopwords\").predict(\"I'm so fed up with this shit. Give me my VA money already!\", output_level='sentence')"
   ]
  },
  {
   "cell_type": "code",
   "execution_count": 3,
   "metadata": {},
   "outputs": [
    {
     "ename": "Exception",
     "evalue": "Java gateway process exited before sending its port number",
     "output_type": "error",
     "traceback": [
      "\u001b[1;31m---------------------------------------------------------------------------\u001b[0m",
      "\u001b[1;31mException\u001b[0m                                 Traceback (most recent call last)",
      "Cell \u001b[1;32mIn[3], line 1\u001b[0m\n\u001b[1;32m----> 1\u001b[0m nlp\u001b[38;5;241m.\u001b[39mload(\u001b[38;5;124m'\u001b[39m\u001b[38;5;124memotion\u001b[39m\u001b[38;5;124m'\u001b[39m)\u001b[38;5;241m.\u001b[39mpredict(\u001b[38;5;124m'\u001b[39m\u001b[38;5;124mWow that easy!\u001b[39m\u001b[38;5;124m'\u001b[39m)\n",
      "File \u001b[1;32mc:\\Users\\RoiMinuit\\anaconda3\\Lib\\site-packages\\nlu\\__init__.py:200\u001b[0m, in \u001b[0;36mload\u001b[1;34m(request, path, verbose, gpu, streamlit_caching, m1_chip)\u001b[0m\n\u001b[0;32m    198\u001b[0m \u001b[38;5;66;03m# check if secrets are in default loc, if yes load them and create licensed context automatically\u001b[39;00m\n\u001b[0;32m    199\u001b[0m auth(gpu\u001b[38;5;241m=\u001b[39mgpu)\n\u001b[1;32m--> 200\u001b[0m spark \u001b[38;5;241m=\u001b[39m get_open_source_spark_context(gpu, m1_chip)\n\u001b[0;32m    201\u001b[0m \u001b[38;5;66;03m# spark.catalog.clearCache()\u001b[39;00m\n\u001b[0;32m    203\u001b[0m \u001b[38;5;28;01mif\u001b[39;00m verbose:\n",
      "File \u001b[1;32mc:\\Users\\RoiMinuit\\anaconda3\\Lib\\site-packages\\nlu\\__init__.py:370\u001b[0m, in \u001b[0;36mget_open_source_spark_context\u001b[1;34m(gpu, m1_chip)\u001b[0m\n\u001b[0;32m    368\u001b[0m         \u001b[38;5;28;01mreturn\u001b[39;00m sparknlp\u001b[38;5;241m.\u001b[39mstart(gpu\u001b[38;5;241m=\u001b[39mgpu, m1\u001b[38;5;241m=\u001b[39m\u001b[38;5;28;01mTrue\u001b[39;00m)\n\u001b[0;32m    369\u001b[0m     \u001b[38;5;28;01melse\u001b[39;00m:\n\u001b[1;32m--> 370\u001b[0m         \u001b[38;5;28;01mreturn\u001b[39;00m sparknlp\u001b[38;5;241m.\u001b[39mstart(gpu\u001b[38;5;241m=\u001b[39mgpu)\n\u001b[0;32m    371\u001b[0m \u001b[38;5;28;01mraise\u001b[39;00m \u001b[38;5;167;01mValueError\u001b[39;00m(\u001b[38;5;124mf\u001b[39m\u001b[38;5;124m\"\u001b[39m\u001b[38;5;124mFailure starting Spark Context! Current Spark version \u001b[39m\u001b[38;5;132;01m{\u001b[39;00mget_pyspark_version()\u001b[38;5;132;01m}\u001b[39;00m\u001b[38;5;124m not supported! \u001b[39m\u001b[38;5;124m\"\u001b[39m\n\u001b[0;32m    372\u001b[0m                  \u001b[38;5;124mf\u001b[39m\u001b[38;5;124m\"\u001b[39m\u001b[38;5;124mPlease install any of Pyspark 3.X versions.\u001b[39m\u001b[38;5;124m\"\u001b[39m)\n",
      "File \u001b[1;32mc:\\Users\\RoiMinuit\\anaconda3\\Lib\\site-packages\\sparknlp\\__init__.py:300\u001b[0m, in \u001b[0;36mstart\u001b[1;34m(gpu, apple_silicon, aarch64, memory, cache_folder, log_folder, cluster_tmp_dir, params, real_time_output, output_level)\u001b[0m\n\u001b[0;32m    298\u001b[0m     \u001b[38;5;28;01mreturn\u001b[39;00m SparkRealTimeOutput()\u001b[38;5;241m.\u001b[39mspark_session\n\u001b[0;32m    299\u001b[0m \u001b[38;5;28;01melse\u001b[39;00m:\n\u001b[1;32m--> 300\u001b[0m     spark_session \u001b[38;5;241m=\u001b[39m start_without_realtime_output()\n\u001b[0;32m    301\u001b[0m     \u001b[38;5;28;01mreturn\u001b[39;00m spark_session\n",
      "File \u001b[1;32mc:\\Users\\RoiMinuit\\anaconda3\\Lib\\site-packages\\sparknlp\\__init__.py:198\u001b[0m, in \u001b[0;36mstart.<locals>.start_without_realtime_output\u001b[1;34m()\u001b[0m\n\u001b[0;32m    195\u001b[0m     \u001b[38;5;28;01melse\u001b[39;00m:\n\u001b[0;32m    196\u001b[0m         builder\u001b[38;5;241m.\u001b[39mconfig(key, value)\n\u001b[1;32m--> 198\u001b[0m \u001b[38;5;28;01mreturn\u001b[39;00m builder\u001b[38;5;241m.\u001b[39mgetOrCreate()\n",
      "File \u001b[1;32mc:\\Users\\RoiMinuit\\anaconda3\\Lib\\site-packages\\pyspark\\sql\\session.py:228\u001b[0m, in \u001b[0;36mSparkSession.Builder.getOrCreate\u001b[1;34m(self)\u001b[0m\n\u001b[0;32m    226\u001b[0m         sparkConf\u001b[38;5;241m.\u001b[39mset(key, value)\n\u001b[0;32m    227\u001b[0m     \u001b[38;5;66;03m# This SparkContext may be an existing one.\u001b[39;00m\n\u001b[1;32m--> 228\u001b[0m     sc \u001b[38;5;241m=\u001b[39m SparkContext\u001b[38;5;241m.\u001b[39mgetOrCreate(sparkConf)\n\u001b[0;32m    229\u001b[0m \u001b[38;5;66;03m# Do not update `SparkConf` for existing `SparkContext`, as it's shared\u001b[39;00m\n\u001b[0;32m    230\u001b[0m \u001b[38;5;66;03m# by all sessions.\u001b[39;00m\n\u001b[0;32m    231\u001b[0m session \u001b[38;5;241m=\u001b[39m SparkSession(sc)\n",
      "File \u001b[1;32mc:\\Users\\RoiMinuit\\anaconda3\\Lib\\site-packages\\pyspark\\context.py:384\u001b[0m, in \u001b[0;36mSparkContext.getOrCreate\u001b[1;34m(cls, conf)\u001b[0m\n\u001b[0;32m    382\u001b[0m \u001b[38;5;28;01mwith\u001b[39;00m SparkContext\u001b[38;5;241m.\u001b[39m_lock:\n\u001b[0;32m    383\u001b[0m     \u001b[38;5;28;01mif\u001b[39;00m SparkContext\u001b[38;5;241m.\u001b[39m_active_spark_context \u001b[38;5;129;01mis\u001b[39;00m \u001b[38;5;28;01mNone\u001b[39;00m:\n\u001b[1;32m--> 384\u001b[0m         SparkContext(conf\u001b[38;5;241m=\u001b[39mconf \u001b[38;5;129;01mor\u001b[39;00m SparkConf())\n\u001b[0;32m    385\u001b[0m     \u001b[38;5;28;01mreturn\u001b[39;00m SparkContext\u001b[38;5;241m.\u001b[39m_active_spark_context\n",
      "File \u001b[1;32mc:\\Users\\RoiMinuit\\anaconda3\\Lib\\site-packages\\pyspark\\context.py:144\u001b[0m, in \u001b[0;36mSparkContext.__init__\u001b[1;34m(self, master, appName, sparkHome, pyFiles, environment, batchSize, serializer, conf, gateway, jsc, profiler_cls)\u001b[0m\n\u001b[0;32m    139\u001b[0m \u001b[38;5;28;01mif\u001b[39;00m gateway \u001b[38;5;129;01mis\u001b[39;00m \u001b[38;5;129;01mnot\u001b[39;00m \u001b[38;5;28;01mNone\u001b[39;00m \u001b[38;5;129;01mand\u001b[39;00m gateway\u001b[38;5;241m.\u001b[39mgateway_parameters\u001b[38;5;241m.\u001b[39mauth_token \u001b[38;5;129;01mis\u001b[39;00m \u001b[38;5;28;01mNone\u001b[39;00m:\n\u001b[0;32m    140\u001b[0m     \u001b[38;5;28;01mraise\u001b[39;00m \u001b[38;5;167;01mValueError\u001b[39;00m(\n\u001b[0;32m    141\u001b[0m         \u001b[38;5;124m\"\u001b[39m\u001b[38;5;124mYou are trying to pass an insecure Py4j gateway to Spark. This\u001b[39m\u001b[38;5;124m\"\u001b[39m\n\u001b[0;32m    142\u001b[0m         \u001b[38;5;124m\"\u001b[39m\u001b[38;5;124m is not allowed as it is a security risk.\u001b[39m\u001b[38;5;124m\"\u001b[39m)\n\u001b[1;32m--> 144\u001b[0m SparkContext\u001b[38;5;241m.\u001b[39m_ensure_initialized(\u001b[38;5;28mself\u001b[39m, gateway\u001b[38;5;241m=\u001b[39mgateway, conf\u001b[38;5;241m=\u001b[39mconf)\n\u001b[0;32m    145\u001b[0m \u001b[38;5;28;01mtry\u001b[39;00m:\n\u001b[0;32m    146\u001b[0m     \u001b[38;5;28mself\u001b[39m\u001b[38;5;241m.\u001b[39m_do_init(master, appName, sparkHome, pyFiles, environment, batchSize, serializer,\n\u001b[0;32m    147\u001b[0m                   conf, jsc, profiler_cls)\n",
      "File \u001b[1;32mc:\\Users\\RoiMinuit\\anaconda3\\Lib\\site-packages\\pyspark\\context.py:331\u001b[0m, in \u001b[0;36mSparkContext._ensure_initialized\u001b[1;34m(cls, instance, gateway, conf)\u001b[0m\n\u001b[0;32m    329\u001b[0m \u001b[38;5;28;01mwith\u001b[39;00m SparkContext\u001b[38;5;241m.\u001b[39m_lock:\n\u001b[0;32m    330\u001b[0m     \u001b[38;5;28;01mif\u001b[39;00m \u001b[38;5;129;01mnot\u001b[39;00m SparkContext\u001b[38;5;241m.\u001b[39m_gateway:\n\u001b[1;32m--> 331\u001b[0m         SparkContext\u001b[38;5;241m.\u001b[39m_gateway \u001b[38;5;241m=\u001b[39m gateway \u001b[38;5;129;01mor\u001b[39;00m launch_gateway(conf)\n\u001b[0;32m    332\u001b[0m         SparkContext\u001b[38;5;241m.\u001b[39m_jvm \u001b[38;5;241m=\u001b[39m SparkContext\u001b[38;5;241m.\u001b[39m_gateway\u001b[38;5;241m.\u001b[39mjvm\n\u001b[0;32m    334\u001b[0m     \u001b[38;5;28;01mif\u001b[39;00m instance:\n",
      "File \u001b[1;32mc:\\Users\\RoiMinuit\\anaconda3\\Lib\\site-packages\\pyspark\\java_gateway.py:108\u001b[0m, in \u001b[0;36mlaunch_gateway\u001b[1;34m(conf, popen_kwargs)\u001b[0m\n\u001b[0;32m    105\u001b[0m     time\u001b[38;5;241m.\u001b[39msleep(\u001b[38;5;241m0.1\u001b[39m)\n\u001b[0;32m    107\u001b[0m \u001b[38;5;28;01mif\u001b[39;00m \u001b[38;5;129;01mnot\u001b[39;00m os\u001b[38;5;241m.\u001b[39mpath\u001b[38;5;241m.\u001b[39misfile(conn_info_file):\n\u001b[1;32m--> 108\u001b[0m     \u001b[38;5;28;01mraise\u001b[39;00m \u001b[38;5;167;01mException\u001b[39;00m(\u001b[38;5;124m\"\u001b[39m\u001b[38;5;124mJava gateway process exited before sending its port number\u001b[39m\u001b[38;5;124m\"\u001b[39m)\n\u001b[0;32m    110\u001b[0m \u001b[38;5;28;01mwith\u001b[39;00m \u001b[38;5;28mopen\u001b[39m(conn_info_file, \u001b[38;5;124m\"\u001b[39m\u001b[38;5;124mrb\u001b[39m\u001b[38;5;124m\"\u001b[39m) \u001b[38;5;28;01mas\u001b[39;00m info:\n\u001b[0;32m    111\u001b[0m     gateway_port \u001b[38;5;241m=\u001b[39m read_int(info)\n",
      "\u001b[1;31mException\u001b[0m: Java gateway process exited before sending its port number"
     ]
    }
   ],
   "source": [
    "nlp.load('emotion').predict('Wow that easy!')"
   ]
  }
 ],
 "metadata": {
  "kernelspec": {
   "display_name": "sparkenv2",
   "language": "python",
   "name": "python3"
  },
  "language_info": {
   "codemirror_mode": {
    "name": "ipython",
    "version": 3
   },
   "file_extension": ".py",
   "mimetype": "text/x-python",
   "name": "python",
   "nbconvert_exporter": "python",
   "pygments_lexer": "ipython3",
   "version": "3.11.5"
  }
 },
 "nbformat": 4,
 "nbformat_minor": 2
}
