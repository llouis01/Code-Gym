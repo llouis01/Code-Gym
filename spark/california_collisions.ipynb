{
 "cells": [
  {
   "cell_type": "code",
   "execution_count": 1,
   "id": "f6475741",
   "metadata": {},
   "outputs": [
    {
     "data": {
      "text/plain": [
       "'C:\\\\Spark\\\\spark-3.5.5-bin-hadoop3'"
      ]
     },
     "execution_count": 1,
     "metadata": {},
     "output_type": "execute_result"
    }
   ],
   "source": [
    "import pyspark\n",
    "import findspark\n",
    "findspark.init()\n",
    "import pandas as pd\n",
    "from pyspark import SparkContext\n",
    "from pyspark.sql import SparkSession\n",
    "from pyspark.sql import functions as F, types as T\n",
    "from pyspark.sql import Row\n",
    "findspark.find()"
   ]
  },
  {
   "cell_type": "code",
   "execution_count": 2,
   "id": "86b46111",
   "metadata": {},
   "outputs": [
    {
     "ename": "KeyboardInterrupt",
     "evalue": "",
     "output_type": "error",
     "traceback": [
      "\u001b[31m---------------------------------------------------------------------------\u001b[39m",
      "\u001b[31mKeyboardInterrupt\u001b[39m                         Traceback (most recent call last)",
      "\u001b[36mCell\u001b[39m\u001b[36m \u001b[39m\u001b[32mIn[2]\u001b[39m\u001b[32m, line 2\u001b[39m\n\u001b[32m      1\u001b[39m \u001b[38;5;66;03m# spark session\u001b[39;00m\n\u001b[32m----> \u001b[39m\u001b[32m2\u001b[39m sc = \u001b[43mSparkContext\u001b[49m\u001b[43m(\u001b[49m\u001b[33;43m'\u001b[39;49m\u001b[33;43mlocal\u001b[39;49m\u001b[33;43m'\u001b[39;49m\u001b[43m,\u001b[49m\u001b[43m \u001b[49m\u001b[33;43m'\u001b[39;49m\u001b[33;43mcalif-coll\u001b[39;49m\u001b[33;43m'\u001b[39;49m\u001b[43m)\u001b[49m\n\u001b[32m      3\u001b[39m spark = SparkSession(sc)\n",
      "\u001b[36mFile \u001b[39m\u001b[32mc:\\Users\\RoiMinuit\\miniconda3\\envs\\spark\\Lib\\site-packages\\pyspark\\context.py:201\u001b[39m, in \u001b[36mSparkContext.__init__\u001b[39m\u001b[34m(self, master, appName, sparkHome, pyFiles, environment, batchSize, serializer, conf, gateway, jsc, profiler_cls, udf_profiler_cls, memory_profiler_cls)\u001b[39m\n\u001b[32m    195\u001b[39m \u001b[38;5;28;01mif\u001b[39;00m gateway \u001b[38;5;129;01mis\u001b[39;00m \u001b[38;5;129;01mnot\u001b[39;00m \u001b[38;5;28;01mNone\u001b[39;00m \u001b[38;5;129;01mand\u001b[39;00m gateway.gateway_parameters.auth_token \u001b[38;5;129;01mis\u001b[39;00m \u001b[38;5;28;01mNone\u001b[39;00m:\n\u001b[32m    196\u001b[39m     \u001b[38;5;28;01mraise\u001b[39;00m \u001b[38;5;167;01mValueError\u001b[39;00m(\n\u001b[32m    197\u001b[39m         \u001b[33m\"\u001b[39m\u001b[33mYou are trying to pass an insecure Py4j gateway to Spark. This\u001b[39m\u001b[33m\"\u001b[39m\n\u001b[32m    198\u001b[39m         \u001b[33m\"\u001b[39m\u001b[33m is not allowed as it is a security risk.\u001b[39m\u001b[33m\"\u001b[39m\n\u001b[32m    199\u001b[39m     )\n\u001b[32m--> \u001b[39m\u001b[32m201\u001b[39m \u001b[43mSparkContext\u001b[49m\u001b[43m.\u001b[49m\u001b[43m_ensure_initialized\u001b[49m\u001b[43m(\u001b[49m\u001b[38;5;28;43mself\u001b[39;49m\u001b[43m,\u001b[49m\u001b[43m \u001b[49m\u001b[43mgateway\u001b[49m\u001b[43m=\u001b[49m\u001b[43mgateway\u001b[49m\u001b[43m,\u001b[49m\u001b[43m \u001b[49m\u001b[43mconf\u001b[49m\u001b[43m=\u001b[49m\u001b[43mconf\u001b[49m\u001b[43m)\u001b[49m\n\u001b[32m    202\u001b[39m \u001b[38;5;28;01mtry\u001b[39;00m:\n\u001b[32m    203\u001b[39m     \u001b[38;5;28mself\u001b[39m._do_init(\n\u001b[32m    204\u001b[39m         master,\n\u001b[32m    205\u001b[39m         appName,\n\u001b[32m   (...)\u001b[39m\u001b[32m    215\u001b[39m         memory_profiler_cls,\n\u001b[32m    216\u001b[39m     )\n",
      "\u001b[36mFile \u001b[39m\u001b[32mc:\\Users\\RoiMinuit\\miniconda3\\envs\\spark\\Lib\\site-packages\\pyspark\\context.py:436\u001b[39m, in \u001b[36mSparkContext._ensure_initialized\u001b[39m\u001b[34m(cls, instance, gateway, conf)\u001b[39m\n\u001b[32m    434\u001b[39m \u001b[38;5;28;01mwith\u001b[39;00m SparkContext._lock:\n\u001b[32m    435\u001b[39m     \u001b[38;5;28;01mif\u001b[39;00m \u001b[38;5;129;01mnot\u001b[39;00m SparkContext._gateway:\n\u001b[32m--> \u001b[39m\u001b[32m436\u001b[39m         SparkContext._gateway = gateway \u001b[38;5;129;01mor\u001b[39;00m \u001b[43mlaunch_gateway\u001b[49m\u001b[43m(\u001b[49m\u001b[43mconf\u001b[49m\u001b[43m)\u001b[49m\n\u001b[32m    437\u001b[39m         SparkContext._jvm = SparkContext._gateway.jvm\n\u001b[32m    439\u001b[39m     \u001b[38;5;28;01mif\u001b[39;00m instance:\n",
      "\u001b[36mFile \u001b[39m\u001b[32mc:\\Users\\RoiMinuit\\miniconda3\\envs\\spark\\Lib\\site-packages\\pyspark\\java_gateway.py:104\u001b[39m, in \u001b[36mlaunch_gateway\u001b[39m\u001b[34m(conf, popen_kwargs)\u001b[39m\n\u001b[32m    102\u001b[39m \u001b[38;5;66;03m# Wait for the file to appear, or for the process to exit, whichever happens first.\u001b[39;00m\n\u001b[32m    103\u001b[39m \u001b[38;5;28;01mwhile\u001b[39;00m \u001b[38;5;129;01mnot\u001b[39;00m proc.poll() \u001b[38;5;129;01mand\u001b[39;00m \u001b[38;5;129;01mnot\u001b[39;00m os.path.isfile(conn_info_file):\n\u001b[32m--> \u001b[39m\u001b[32m104\u001b[39m     \u001b[43mtime\u001b[49m\u001b[43m.\u001b[49m\u001b[43msleep\u001b[49m\u001b[43m(\u001b[49m\u001b[32;43m0.1\u001b[39;49m\u001b[43m)\u001b[49m\n\u001b[32m    106\u001b[39m \u001b[38;5;28;01mif\u001b[39;00m \u001b[38;5;129;01mnot\u001b[39;00m os.path.isfile(conn_info_file):\n\u001b[32m    107\u001b[39m     \u001b[38;5;28;01mraise\u001b[39;00m PySparkRuntimeError(\n\u001b[32m    108\u001b[39m         error_class=\u001b[33m\"\u001b[39m\u001b[33mJAVA_GATEWAY_EXITED\u001b[39m\u001b[33m\"\u001b[39m,\n\u001b[32m    109\u001b[39m         message_parameters={},\n\u001b[32m    110\u001b[39m     )\n",
      "\u001b[31mKeyboardInterrupt\u001b[39m: "
     ]
    }
   ],
   "source": [
    "# spark session\n",
    "sc = SparkContext('local', 'calif-coll')\n",
    "spark = SparkSession(sc)"
   ]
  },
  {
   "cell_type": "code",
   "execution_count": 3,
   "id": "c6bd56bb",
   "metadata": {},
   "outputs": [],
   "source": [
    "file = \"C:/Users/RoiMinuit/Desktop/data/switrs_raw_csvs/all_collision_data/all_collision_data.csv\""
   ]
  },
  {
   "cell_type": "code",
   "execution_count": 5,
   "id": "8723b7a2",
   "metadata": {},
   "outputs": [],
   "source": [
    "df = spark.read.csv(file, header=True)\n",
    "# 5M plus rows"
   ]
  },
  {
   "cell_type": "code",
   "execution_count": 6,
   "id": "30629dc4",
   "metadata": {},
   "outputs": [
    {
     "name": "stdout",
     "output_type": "stream",
     "text": [
      "+--------------------+-------------+---------+-----+--------------+--------------+----------+------------------+-----------+---------+----------+-------------+------------+---------+-------------+------------------+--------------+-----------+---------------+---------------+--------+---------+------------+---------+---------+-------------+---------------+-----------------+-----------+------------+---------------+--------+-------------+-----------------+-----------+--------+------------------+-------------+--------------+-----------+-------------------+----------------+-----------------+-------------+-------------------+-----------+-----------------+----+----------+------------+-----------+-----------+--------+--------------+-------------+-------------------+----------------+-------------------+--------------+--------------------+----------------+---------------------+--------------------+----------------+-----------------+--------------------+----------------+-----------------+----------------------+-----------------------+---------------+----------------+------------+--------------+--------+---------+\n",
      "|             CASE_ID|ACCIDENT_YEAR|PROC_DATE|JURIS|COLLISION_DATE|COLLISION_TIME|OFFICER_ID|REPORTING_DISTRICT|DAY_OF_WEEK|CHP_SHIFT|POPULATION|CNTY_CITY_LOC|SPECIAL_COND|BEAT_TYPE|CHP_BEAT_TYPE|CITY_DIVISION_LAPD|CHP_BEAT_CLASS|BEAT_NUMBER|     PRIMARY_RD|   SECONDARY_RD|DISTANCE|DIRECTION|INTERSECTION|WEATHER_1|WEATHER_2|STATE_HWY_IND|CALTRANS_COUNTY|CALTRANS_DISTRICT|STATE_ROUTE|ROUTE_SUFFIX|POSTMILE_PREFIX|POSTMILE|LOCATION_TYPE|RAMP_INTERSECTION|SIDE_OF_HWY|TOW_AWAY|COLLISION_SEVERITY|NUMBER_KILLED|NUMBER_INJURED|PARTY_COUNT|PRIMARY_COLL_FACTOR|PCF_CODE_OF_VIOL|PCF_VIOL_CATEGORY|PCF_VIOLATION|PCF_VIOL_SUBSECTION|HIT_AND_RUN|TYPE_OF_COLLISION|MVIW|PED_ACTION|ROAD_SURFACE|ROAD_COND_1|ROAD_COND_2|LIGHTING|CONTROL_DEVICE|CHP_ROAD_TYPE|PEDESTRIAN_ACCIDENT|BICYCLE_ACCIDENT|MOTORCYCLE_ACCIDENT|TRUCK_ACCIDENT|NOT_PRIVATE_PROPERTY|ALCOHOL_INVOLVED|STWD_VEHTYPE_AT_FAULT|CHP_VEHTYPE_AT_FAULT|COUNT_SEVERE_INJ|COUNT_VISIBLE_INJ|COUNT_COMPLAINT_PAIN|COUNT_PED_KILLED|COUNT_PED_INJURED|COUNT_BICYCLIST_KILLED|COUNT_BICYCLIST_INJURED|COUNT_MC_KILLED|COUNT_MC_INJURED|PRIMARY_RAMP|SECONDARY_RAMP|LATITUDE|LONGITUDE|\n",
      "+--------------------+-------------+---------+-----+--------------+--------------+----------+------------------+-----------+---------+----------+-------------+------------+---------+-------------+------------------+--------------+-----------+---------------+---------------+--------+---------+------------+---------+---------+-------------+---------------+-----------------+-----------+------------+---------------+--------+-------------+-----------------+-----------+--------+------------------+-------------+--------------+-----------+-------------------+----------------+-----------------+-------------+-------------------+-----------+-----------------+----+----------+------------+-----------+-----------+--------+--------------+-------------+-------------------+----------------+-------------------+--------------+--------------------+----------------+---------------------+--------------------+----------------+-----------------+--------------------+----------------+-----------------+----------------------+-----------------------+---------------+----------------+------------+--------------+--------+---------+\n",
      "|1.000101010114011...|         2001| 20010416| 0100|      20010101|           114|      1155|                 0|          1|        5|         4|          198|           -|        0|            0|              null|             0|        073|      DUBLIN BL|    SCARLETT CT|     267|        W|           N|        A|        -|            N|           null|                0|          0|        null|           null|       0|         null|                8|       null|       Y|                 0|            0|             0|          1|                  A|               C|               01|        23152|                  A|          N|                E|   I|         A|           A|          H|          -|       C|             D|            0|               null|            null|               null|          null|                   Y|               Y|                    A|                  00|               0|                0|                   0|               0|                0|                     0|                      0|              0|               0|        null|          null|    null|     null|\n",
      "|1.000101031745031...|         2001| 20010416| 0100|      20010103|          1745|      3131|                10|          3|        5|         4|          198|           -|        0|            0|              null|             0|        073|   DOUGHERTY RD|  AMADOR VLY BL|      80|        N|           N|        A|        -|            N|           null|                0|          0|        null|           null|       0|         null|                8|       null|       Y|                 4|            0|             1|          2|                  A|               C|               04|        21703|               null|          N|                C|   C|         A|           A|          H|          -|       C|             A|            0|               null|            null|               null|          null|                   Y|            null|                    A|                  00|               0|                0|                   1|               0|                0|                     0|                      0|              0|               0|        null|          null|    null|     null|\n",
      "|1.000101041340024...|         2001| 20010608| 0100|      20010104|          1340|      2415|                 0|          4|        5|         4|          198|           -|        0|            0|              null|             0|        073|   DOUGHERTY RD| RT 580 WBOFF/R|       0|        -|           Y|        A|        -|            Y|            ALA|                4|        580|           B|              B|  19.621|            R|                4|          W|       Y|                 0|            0|             0|          2|                  A|               C|               12|        21453|                  A|          N|                D|   C|         A|           A|          H|          -|       A|             A|            0|               null|            null|               null|          null|                   Y|            null|                    A|                  00|               0|                0|                   0|               0|                0|                     0|                      0|              0|               0|        null|          null|    null|     null|\n",
      "|1.000101041705009...|         2001| 20010416| 0100|      20010104|          1705|       911|                 0|          4|        5|         4|          198|           -|        0|            0|              null|             0|        076|   SAN RAMON RD|      DUBLIN BL|      20|        S|           N|        A|        -|            N|           null|                0|          0|        null|           null|       0|         null|                8|       null|       N|                 0|            0|             0|          2|                  A|               C|               17|        21451|                  B|          N|                C|   C|         A|           A|          H|          -|       C|             A|            0|               null|            null|               null|          null|                   Y|            null|                    A|                  00|               0|                0|                   0|               0|                0|                     0|                      0|              0|               0|        null|          null|    null|     null|\n",
      "|1.000101041844009...|         2001| 20010416| 0100|      20010104|          1844|       911|                 0|          4|        5|         4|          198|           -|        0|            0|              null|             0|        076|FREDERICKSON LN|FREDERICKSON CT|       0|        -|           Y|        A|        -|            N|           null|                0|          0|        null|           null|       0|         null|                8|       null|       N|                 0|            0|             0|          2|                  C|               -|               18|            0|               null|          N|                B|   E|         A|           A|          H|          -|       C|             D|            0|               null|            null|               null|          null|                   Y|            null|                 null|                null|               0|                0|                   0|               0|                0|                     0|                      0|              0|               0|        null|          null|    null|     null|\n",
      "|1.000101110915003...|         2001| 20010416| 0100|      20010111|           915|       326|                 0|          4|        5|         4|          198|           -|        0|            0|              null|             0|        074|       CEDAR LN|      SPRUCE LN|     122|        W|           N|        B|        -|            N|           null|                0|          0|        null|           null|       0|         null|                8|       null|       Y|                 3|            0|             1|          2|                  A|               C|               03|        22350|               null|          N|                A|   E|         A|           B|          H|          -|       A|             D|            0|               null|            null|               null|          null|                   Y|            null|                    D|                  00|               0|                1|                   0|               0|                0|                     0|                      0|              0|               0|        null|          null|    null|     null|\n",
      "|1.000101121310024...|         2001| 20010416| 0100|      20010112|          1310|      2415|                 0|          5|        5|         4|          198|           -|        0|            0|              null|             0|        073|      DUBLIN BL|      DUBLIN CT|       0|        W|           N|        A|        -|            N|           null|                0|          0|        null|           null|       0|         null|                8|       null|       N|                 0|            0|             0|          2|                  A|               C|               03|        22350|               null|          N|                C|   C|         A|           A|          H|          -|       A|             D|            0|               null|            null|               null|          null|                   Y|            null|                    A|                  00|               0|                0|                   0|               0|                0|                     0|                      0|              0|               0|        null|          null|    null|     null|\n",
      "|1.000101121743009...|         2001| 20010713| 0100|      20010112|          1743|       911|                 0|          5|        5|         4|          198|           -|        0|            0|              null|             0|        076|    HACIENDA DR| RT 580 WBOFF/R|      92|        S|           N|        A|        -|            Y|            ALA|                4|        580|           B|              B|  18.601|            R|                4|          W|       Y|                 0|            0|             0|          2|                  A|               C|               03|        22350|               null|          N|                C|   C|         A|           A|          H|          -|       C|             A|            0|               null|            null|               null|          null|                   Y|            null|                    A|                  00|               0|                0|                   0|               0|                0|                     0|                      0|              0|               0|        null|          null|    null|     null|\n",
      "|1.000101141700009...|         2001| 20010412| 0100|      20010114|          1700|       911|                 0|          7|        5|         4|          198|           -|        0|            0|              null|             0|        076|   SAN RAMON RD|     ALCOSTA BL|      20|        S|           N|        A|        -|            N|           null|                0|          0|        null|           null|       0|         null|                8|       null|       N|                 0|            0|             0|          2|                  A|               C|               01|        23152|                  B|          M|                C|   C|         A|           A|          H|          -|       B|             A|            0|               null|            null|               null|          null|                   Y|               Y|                    D|                  00|               0|                0|                   0|               0|                0|                     0|                      0|              0|               0|        null|          null|    null|     null|\n",
      "|1.000101171525024...|         2001| 20010423| 0100|      20010117|          1525|      2415|                 0|          3|        5|         4|          198|           -|        0|            0|              null|             0|        072|   VILLAGE PKWY|  AMADOR VLY BL|       0|        -|           Y|        A|        -|            N|           null|                0|          0|        null|           null|       0|         null|                8|       null|       N|                 0|            0|             0|          2|                  A|               C|               03|        22350|               null|          N|                C|   D|         A|           A|          H|          -|       A|             A|            0|               null|            null|               null|          null|                   Y|            null|                    A|                  00|               0|                0|                   0|               0|                0|                     0|                      0|              0|               0|        null|          null|    null|     null|\n",
      "|1.000101171530011...|         2001| 20010423| 0100|      20010117|          1530|      1155|                 0|          3|        5|         4|          198|           -|        0|            0|              null|             0|        072|      DUBLIN BL|      SIERRA CT|     545|        W|           N|        A|        -|            N|           null|                0|          0|        null|           null|       0|         null|                8|       null|       Y|                 0|            0|             0|          3|                  A|               C|               04|        21703|               null|          N|                C|   C|         A|           A|          H|          -|       A|             A|            0|               null|            null|               null|          null|                   Y|            null|                    D|                  00|               0|                0|                   0|               0|                0|                     0|                      0|              0|               0|        null|          null|    null|     null|\n",
      "|1.000101171717011...|         2001| 20010423| 0100|      20010117|          1717|      1108|                 0|          3|        5|         4|          198|           -|        0|            0|              null|             0|       null|    SCARLETT CT|    SCARLETT DR|       0|        E|           N|        A|        -|            N|           null|                0|          0|        null|           null|       0|         null|                8|       null|       Y|                 0|            0|             0|          2|                  A|               C|               01|        23152|                  A|          N|                D|   C|         A|           A|          H|          -|       A|             D|            0|               null|            null|               null|          null|                   Y|               Y|                    D|                  00|               0|                0|                   0|               0|                0|                     0|                      0|              0|               0|        null|          null|    null|     null|\n",
      "|1.000101171905024...|         2001| 20010511| 0100|      20010117|          1905|      2415|                 0|          3|        5|         4|          198|           -|        0|            0|              null|             0|        071|  AMADOR VLY BL|AMADOR PLAZA RD|       0|        -|           Y|        A|        -|            N|           null|                0|          0|        null|           null|       0|         null|                8|       null|       Y|                 4|            0|             1|          2|                  A|               C|               04|        21703|               null|          N|                C|   C|         A|           A|          H|          -|       C|             A|            0|               null|            null|               null|          null|                   Y|            null|                    A|                  00|               0|                0|                   1|               0|                0|                     0|                      0|              0|               0|        null|          null|    null|     null|\n",
      "|1.000101231530024...|         2001| 20010423| 0100|      20010123|          1530|      2415|                 0|          2|        5|         4|          198|           -|        0|            0|              null|             0|        071|      JUAREZ LN|  PEPPERTREE LN|     101|        W|           N|        C|        -|            N|           null|                0|          0|        null|           null|       0|         null|                8|       null|       N|                 0|            0|             0|          2|                  A|               C|               08|        22107|               null|          N|                B|   E|         A|           B|          H|          -|       A|             D|            0|               null|            null|               null|          null|                   Y|            null|                    M|                  00|               0|                0|                   0|               0|                0|                     0|                      0|              0|               0|        null|          null|    null|     null|\n",
      "|1.000101241643035...|         2001| 20010423| 0100|      20010124|          1643|      3513|                 0|          3|        5|         4|          198|           -|        0|            0|              null|             0|        072|  AMADOR VLY BL|   VILLAGE PKWY|      25|        W|           N|        A|        -|            N|           null|                0|          0|        null|           null|       0|         null|                8|       null|       Y|                 2|            0|             1|          2|                  A|               C|               11|        21954|                  A|          N|                G|   B|         D|           A|          H|          -|       A|             A|            0|                  Y|            null|               null|          null|                   Y|            null|                    N|                  00|               1|                0|                   0|               0|                1|                     0|                      0|              0|               0|        null|          null|    null|     null|\n",
      "|1.000101251913009...|         2001| 20010423| 0100|      20010125|          1913|       911|                 0|          4|        5|         4|          198|           -|        0|            0|              null|             0|       null|    HACIENDA CS|    HACIENDA DR|     239|        E|           N|        A|        -|            N|           null|                0|          0|        null|           null|       0|         null|                8|       null|       Y|                 4|            0|             1|          2|                  A|               C|               17|        21461|                  A|          N|                B|   C|         A|           A|          H|          -|       C|             A|            0|               null|            null|               null|          null|                   Y|               Y|                    A|                  00|               0|                0|                   1|               0|                0|                     0|                      0|              0|               0|        null|          null|    null|     null|\n",
      "|1.000101261559009...|         2001| 20010423| 0100|      20010126|          1559|       911|                 0|          5|        5|         4|          198|           -|        0|            0|              null|             0|       null|      DUBLIN BL|    SCARLETT DR|    1320|        E|           N|        C|        -|            N|           null|                0|          0|        null|           null|       0|         null|                8|       null|       Y|                 0|            0|             0|          2|                  A|               C|               03|        22350|               null|          N|                C|   C|         A|           B|          H|          -|       A|             A|            0|               null|            null|               null|          null|                   Y|            null|                    D|                  00|               0|                0|                   0|               0|                0|                     0|                      0|              0|               0|        null|          null|    null|     null|\n",
      "|1.000101311645024...|         2001| 20010423| 0100|      20010131|          1645|      2415|                 0|          3|        5|         4|          198|           -|        0|            0|              null|             0|        073|   TASSAJARA RD|      DUBLIN BL|     528|        N|           N|        A|        -|            N|           null|                0|          0|        null|           null|       0|         null|                8|       null|       Y|                 0|            0|             0|          2|                  A|               C|               03|        22350|               null|          N|                C|   C|         A|           A|          H|          -|       A|             D|            0|               null|            null|               null|          null|                   Y|            null|                    A|                  00|               0|                0|                   0|               0|                0|                     0|                      0|              0|               0|        null|          null|    null|     null|\n",
      "|1.000102010820003...|         2001| 20010423| 0100|      20010201|           820|       326|                 0|          4|        5|         4|          198|           -|        0|            0|              null|             0|        074|   DOUGHERTY RD|      DUBLIN BL|      60|        S|           N|        A|        -|            N|           null|                0|          0|        null|           null|       0|         null|                8|       null|       N|                 0|            0|             0|          2|                  A|               C|               21|        22106|               null|          N|                C|   C|         A|           A|          H|          -|       A|             A|            0|               null|            null|               null|          null|                   Y|            null|                    A|                  00|               0|                0|                   0|               0|                0|                     0|                      0|              0|               0|        null|          null|    null|     null|\n",
      "|1.000102011010003...|         2001| 20010423| 0100|      20010201|          1010|       326|                 0|          4|        5|         4|          198|           -|        0|            0|              null|             0|        074|   TASSAJARA RD|S DUBLIN RCH DR|      18|        S|           N|        A|        -|            N|           null|                0|          0|        null|           null|       0|         null|                8|       null|       Y|                 4|            0|             1|          2|                  A|               C|               06|        21755|               null|          N|                B|   C|         A|           A|          D|          -|       A|             A|            0|               null|            null|               null|             Y|                   Y|            null|                    A|                  00|               0|                0|                   1|               0|                0|                     0|                      0|              0|               0|        null|          null|    null|     null|\n",
      "+--------------------+-------------+---------+-----+--------------+--------------+----------+------------------+-----------+---------+----------+-------------+------------+---------+-------------+------------------+--------------+-----------+---------------+---------------+--------+---------+------------+---------+---------+-------------+---------------+-----------------+-----------+------------+---------------+--------+-------------+-----------------+-----------+--------+------------------+-------------+--------------+-----------+-------------------+----------------+-----------------+-------------+-------------------+-----------+-----------------+----+----------+------------+-----------+-----------+--------+--------------+-------------+-------------------+----------------+-------------------+--------------+--------------------+----------------+---------------------+--------------------+----------------+-----------------+--------------------+----------------+-----------------+----------------------+-----------------------+---------------+----------------+------------+--------------+--------+---------+\n",
      "only showing top 20 rows\n",
      "\n",
      "DF contains 33832687 rows and 76 columns.\n"
     ]
    }
   ],
   "source": [
    "df.show()\n",
    "print(\"DF contains\", df.count(), \"rows and\", len(df.columns), \"columns.\")"
   ]
  },
  {
   "cell_type": "code",
   "execution_count": 7,
   "id": "1d7ad587",
   "metadata": {},
   "outputs": [
    {
     "name": "stdout",
     "output_type": "stream",
     "text": [
      "41.88 percent of the cases occured during the weekends.\n"
     ]
    }
   ],
   "source": [
    "# how many accidents took place during the weekend?\n",
    "weekend = [5, 6, 7]\n",
    "weekend_df = df.where(df.DAY_OF_WEEK.isin(weekend))\n",
    "print(f\"{round((weekend_df.count() / df.count()) * 100, 2)} percent of the cases occured during the weekends.\")"
   ]
  },
  {
   "cell_type": "code",
   "execution_count": 9,
   "id": "71106e68",
   "metadata": {},
   "outputs": [
    {
     "name": "stdout",
     "output_type": "stream",
     "text": [
      "216226\n"
     ]
    }
   ],
   "source": [
    "# what is the deadliest day in this dataset?\n",
    "df = df.withColumn('LOCATION', F.array('LATITUDE', 'LONGITUDE'))\n",
    "killed_df = df.where(df.NUMBER_KILLED == 1)\n",
    "# print(killed_df.count()) # only 0.6% of the victims died; not enough for further analysis"
   ]
  },
  {
   "cell_type": "code",
   "execution_count": 8,
   "id": "8038d418",
   "metadata": {},
   "outputs": [],
   "source": [
    "# end session\n",
    "sc.stop()"
   ]
  }
 ],
 "metadata": {
  "kernelspec": {
   "display_name": "spark",
   "language": "python",
   "name": "python3"
  },
  "language_info": {
   "codemirror_mode": {
    "name": "ipython",
    "version": 3
   },
   "file_extension": ".py",
   "mimetype": "text/x-python",
   "name": "python",
   "nbconvert_exporter": "python",
   "pygments_lexer": "ipython3",
   "version": "3.12.9"
  }
 },
 "nbformat": 4,
 "nbformat_minor": 5
}
