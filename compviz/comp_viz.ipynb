{
 "cells": [
  {
   "cell_type": "code",
   "execution_count": 2,
   "id": "e9fde4a8",
   "metadata": {},
   "outputs": [
    {
     "name": "stdout",
     "output_type": "stream",
     "text": [
      "<module 'cv2.version' from 'c:\\\\Users\\\\RoiMinuit\\\\anaconda3\\\\envs\\\\cv\\\\lib\\\\site-packages\\\\cv2\\\\version.py'>\n"
     ]
    }
   ],
   "source": [
    "# library Imports\n",
    "import cv2 as cv\n",
    "print(cv.version)"
   ]
  }
 ],
 "metadata": {
  "kernelspec": {
   "display_name": "cv",
   "language": "python",
   "name": "python3"
  },
  "language_info": {
   "codemirror_mode": {
    "name": "ipython",
    "version": 3
   },
   "file_extension": ".py",
   "mimetype": "text/x-python",
   "name": "python",
   "nbconvert_exporter": "python",
   "pygments_lexer": "ipython3",
   "version": "3.7.16"
  }
 },
 "nbformat": 4,
 "nbformat_minor": 5
}
