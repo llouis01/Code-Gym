{
 "cells": [
  {
   "cell_type": "markdown",
   "metadata": {
    "vscode": {
     "languageId": "plaintext"
    }
   },
   "source": [
    "# Env Set Up #"
   ]
  },
  {
   "cell_type": "code",
   "execution_count": 2,
   "metadata": {},
   "outputs": [],
   "source": [
    "# Import libraries\n",
    "import os\n",
    "import cv2\n",
    "import time\n",
    "import random\n",
    "import gc as G\n",
    "import numpy as np\n",
    "import pandas as pd\n",
    "import tensorflow as tf\n",
    "from pathlib import Path\n",
    "from tensorflow.keras import layers\n",
    "from tensorflow import keras\n",
    "from tensorflow.keras import backend as K, mixed_precision\n",
    "import matplotlib.pyplot as plt\n",
    "from tensorflow.keras.utils import to_categorical\n",
    "import keras_tuner as kt\n",
    "from keras.models import Sequential\n",
    "from tensorflow.keras.optimizers import Adam, SGD\n",
    "from tensorflow.keras.callbacks import EarlyStopping, ReduceLROnPlateau as RLOP, ModelCheckpoint\n",
    "from sklearn.preprocessing import LabelEncoder\n",
    "from tensorflow.keras.wrappers.scikit_learn import KerasClassifier as KC\n",
    "from sklearn.model_selection import RandomizedSearchCV as RSCV\n",
    "from utils import import_train, import_others, view_train_images, plot_training_results\n",
    "from tensorflow.keras.layers import Conv2D, MaxPooling2D, Flatten, Dense, Dropout, GlobalAveragePooling2D, BatchNormalization\n",
    "\n"
   ]
  },
  {
   "cell_type": "code",
   "execution_count": 3,
   "metadata": {},
   "outputs": [],
   "source": [
    "# Set GPU memory limit (3GB out of 4GB)\n",
    "gpus = tf.config.experimental.list_physical_devices('GPU')\n",
    "if gpus:\n",
    "    try:\n",
    "        tf.config.experimental.set_virtual_device_configuration(\n",
    "            gpus[0],\n",
    "            [tf.config.experimental.VirtualDeviceConfiguration(memory_limit=3072)]  # 3GB = 3072MB\n",
    "        )\n",
    "    except RuntimeError as e:\n",
    "        print(e)"
   ]
  },
  {
   "cell_type": "markdown",
   "metadata": {},
   "source": [
    "# 1) Data Import #"
   ]
  },
  {
   "cell_type": "code",
   "execution_count": 4,
   "metadata": {},
   "outputs": [],
   "source": [
    "# paths for data\n",
    "train_dir = \"C:/Users/RoiMinuit/Desktop/data/ILSVRC/Data/CLS-LOC/train\"\n",
    "val_dir = \"C:/Users/RoiMinuit/Desktop/data/ILSVRC/Data/CLS-LOC/val\"\n",
    "test_dir = \"C:/Users/RoiMinuit/Desktop/data/ILSVRC/Data/CLS-LOC/test\"\n",
    "\n",
    "# path to save tuner results\n",
    "kt_path = \"C:/Users/RoiMinuit/Desktop/data/ILSVRC/tuning_res/kt\"\n"
   ]
  },
  {
   "cell_type": "code",
   "execution_count": null,
   "metadata": {},
   "outputs": [
    {
     "name": "stdout",
     "output_type": "stream",
     "text": [
      "Images processed: 22500 (25%)\n"
     ]
    }
   ],
   "source": [
    "# data import\n",
    "train_images, train_labels = import_train(train_dir, 90000)\n",
    "test_images, test_labels = import_train(val_dir, 18000)"
   ]
  },
  {
   "cell_type": "code",
   "execution_count": 20,
   "metadata": {},
   "outputs": [],
   "source": [
    "# prepare training data\n",
    "X_train = np.array(train_images)\n",
    "X_train = np.repeat(X_train, 3, -1)\n",
    "\n",
    "Y_train = [str(s) for s in train_labels]\n",
    "label_encoder = LabelEncoder()\n",
    "Y_train = label_encoder.fit_transform(Y_train)\n",
    "Y_hot = to_categorical(Y_train, num_classes=1000)\n"
   ]
  },
  {
   "cell_type": "code",
   "execution_count": 21,
   "metadata": {},
   "outputs": [],
   "source": [
    "# prepare testing data\n",
    "X_test = np.array(test_images)\n",
    "X_test = np.repeat(X_test, 3, -1)\n",
    "\n",
    "Y_test = [str(s) for s in test_labels]\n",
    "label_encoder = LabelEncoder()\n",
    "Y_test = label_encoder.fit_transform(Y_test)\n",
    "Y_test_hot = to_categorical(Y_test, num_classes=1000)\n"
   ]
  },
  {
   "cell_type": "code",
   "execution_count": 22,
   "metadata": {},
   "outputs": [
    {
     "name": "stdout",
     "output_type": "stream",
     "text": [
      "(60000,)\n",
      "(12000,)\n",
      "1000\n",
      "1\n"
     ]
    }
   ],
   "source": [
    "# check data shape\n",
    "print(Y_train.shape)\n",
    "print(Y_test.shape)\n",
    "\n",
    "print(len(np.unique(Y_train)))\n",
    "print(len(np.unique(Y_test)))"
   ]
  },
  {
   "cell_type": "markdown",
   "metadata": {},
   "source": [
    "# 2) Model Optimization #"
   ]
  },
  {
   "cell_type": "markdown",
   "metadata": {},
   "source": [
    "## a) Keras Classifier ##"
   ]
  },
  {
   "cell_type": "code",
   "execution_count": 70,
   "metadata": {},
   "outputs": [],
   "source": [
    "# parameters for tuning\n",
    "epx = 50\n",
    "batch_size = 8\n",
    "RSCV_opts = ['adam', 'rmsprop']\n",
    "krnl = (3, 3)\n",
    "in_shape = (64, 64, 3)\n",
    "RSCV_activation = ['relu', 'tanh', 'sigmoid']\n",
    "RSCV_node1 = [2, 4, 8, 16, 32]\n",
    "RSCV_node2 = [2, 4, 8, 16, 32]\n",
    "RSCV_drop = [0.1, 0.2, 0.3, 0.4, 0.5, 0.6]\n",
    "RSCV_bacth = [2, 4, 6, 8, 16, 32, 64, 128]\n",
    "\n",
    "params_grid = dict(node1 = RSCV_node1,\n",
    "               node2 = RSCV_node2,\n",
    "               activations = RSCV_activation,\n",
    "               optimizers = RSCV_opts,\n",
    "               batch_size = RSCV_bacth,\n",
    "               drops = RSCV_drop)"
   ]
  },
  {
   "cell_type": "code",
   "execution_count": 90,
   "metadata": {},
   "outputs": [],
   "source": [
    "# Keras Classifier needs a model builder function to instantiate a new model for each new grid point\n",
    "def build_CNN(optimizers, node1, activations, node2, drops):\n",
    "    CNN = Sequential([\n",
    "        # first layer\n",
    "        Conv2D(node1, kernel_size=krnl, activation=activations, input_shape=in_shape),\n",
    "        BatchNormalization(),\n",
    "        MaxPooling2D(2, 2),\n",
    "        # 2nd layer\n",
    "        Conv2D(node2, kernel_size=krnl, activation=activations),\n",
    "        BatchNormalization(),\n",
    "        MaxPooling2D(2, 2),\n",
    "        # output layer\n",
    "        GlobalAveragePooling2D(),\n",
    "        Dense(drops),\n",
    "        Dense(1000, 'softmax')\n",
    "    ])\n",
    "    CNN.compile(optimizers,\n",
    "                loss='categorical_crossentropy',\n",
    "                metrics=['accuracy'])\n",
    "    \n",
    "    # return built model\n",
    "    return CNN"
   ]
  },
  {
   "cell_type": "code",
   "execution_count": 91,
   "metadata": {},
   "outputs": [
    {
     "name": "stderr",
     "output_type": "stream",
     "text": [
      "C:\\Users\\RoiMinuit\\AppData\\Local\\Temp\\ipykernel_41516\\1010408690.py:2: DeprecationWarning: KerasClassifier is deprecated, use Sci-Keras (https://github.com/adriangb/scikeras) instead. See https://www.adriangb.com/scikeras/stable/migration.html for help migrating.\n",
      "  RS_cnn = KC(build_fn=build_CNN,\n"
     ]
    }
   ],
   "source": [
    "# build Keras Classifier\n",
    "RS_cnn = KC(build_fn=build_CNN,\n",
    "            verbose=1,\n",
    "            epochs=5,\n",
    "            batch_size=batch_size)"
   ]
  },
  {
   "cell_type": "code",
   "execution_count": null,
   "metadata": {},
   "outputs": [],
   "source": [
    "# establish search space and search\n",
    "grid_search = RSCV(RS_cnn,\n",
    "                   param_distributions=params_grid,\n",
    "                   cv=5,\n",
    "                   scoring='accuracy',\n",
    "                   verbose=1)\n",
    "\n",
    "# execute search with categorical Y, not one-hotted\n",
    "grid_search.fit(X_train, Y_train)"
   ]
  },
  {
   "cell_type": "markdown",
   "metadata": {},
   "source": [
    "## b) Keras Tuner ##"
   ]
  },
  {
   "cell_type": "code",
   "execution_count": 23,
   "metadata": {},
   "outputs": [],
   "source": [
    "# variables for tuning\n",
    "units = [2, 4, 6, 8, 10, 12, 14, 16, 32, 64, 128]\n",
    "activations = ['relu', 'linear', 'sigmoid', 'selu', 'elu']\n",
    "early_stop = EarlyStopping(monitor='val_loss', patience=3, restore_best_weights=True)\n",
    "checkpoint = ModelCheckpoint('ImgNet_Model.h5', monitor='val_loss', save_best_only=True, save_freq='epoch')"
   ]
  },
  {
   "cell_type": "code",
   "execution_count": 24,
   "metadata": {},
   "outputs": [
    {
     "data": {
      "text/plain": [
       "<keras.engine.sequential.Sequential at 0x1e6fd3394f0>"
      ]
     },
     "execution_count": 24,
     "metadata": {},
     "output_type": "execute_result"
    }
   ],
   "source": [
    "# base model for kt\n",
    "def build_KT_CNN(hp):\n",
    "    with tf.device('/GPU:0'):\n",
    "        layers = [\n",
    "            # input layer\n",
    "            Conv2D(hp.Int('filters', min_value=2, max_value=128),\n",
    "                input_shape=(64, 64, 3),\n",
    "                kernel_size=(3, 3),\n",
    "                activation=hp.Choice('activation', activations)),\n",
    "            BatchNormalization(),\n",
    "            MaxPooling2D(2, 2),\n",
    "            Dropout(hp.Float('drop_rate', 1e-4, 1e-1))\n",
    "        ]\n",
    "        \n",
    "        # hidden layer(s)\n",
    "        for l in range(hp.Int('num_layers', 1, 5)):\n",
    "            layers.append(Conv2D(hp.Int('filters', min_value=2, max_value=128),\n",
    "                                kernel_size=(3, 3),\n",
    "                                activation=hp.Choice('activation', activations)))\n",
    "            layers.append(BatchNormalization())\n",
    "            layers.append(MaxPooling2D(2, 2))\n",
    "            layers.append(Dropout(hp.Float('drop_rate', 1e-4, 1e-1)))\n",
    "        \n",
    "        # output layer\n",
    "        layers.append(GlobalAveragePooling2D())\n",
    "        layers.append(Dropout(hp.Float('drop_rate', 1e-4, 1e-1)))\n",
    "        layers.append(Dense(1000, activation=hp.Choice('activation', activations)))\n",
    "        \n",
    "        CNN = Sequential(layers)\n",
    "        lr = hp.Float('learning_rate', min_value=1e-5, max_value=1e-1, sampling='LOG', default=1e-3)\n",
    "        CNN.compile(optimizer=Adam(learning_rate=lr),\n",
    "                    loss='sparse_categorical_crossentropy',\n",
    "                    metrics=['accuracy'])\n",
    "    # return built model\n",
    "    return CNN\n",
    "\n",
    "build_KT_CNN(kt.HyperParameters())\n"
   ]
  },
  {
   "cell_type": "code",
   "execution_count": 25,
   "metadata": {},
   "outputs": [
    {
     "name": "stdout",
     "output_type": "stream",
     "text": [
      "Trial 2 Complete [00h 00m 42s]\n",
      "\n",
      "Best val_accuracy So Far: None\n",
      "Total elapsed time: 00h 00m 57s\n"
     ]
    }
   ],
   "source": [
    "# eastablish search space and search\n",
    "tuner = kt.RandomSearch(\n",
    "    hypermodel=build_KT_CNN,\n",
    "    objective='val_accuracy',\n",
    "    max_trials=2,\n",
    "    executions_per_trial=2,\n",
    "    overwrite=True,\n",
    "    directory=kt_path,\n",
    "    project_name='ImgNetOptimization'\n",
    ")\n",
    "\n",
    "# search\n",
    "tuner.search(X_train, Y_train, epochs=2, validation_data=(X_test, Y_test), callbacks=[early_stop, checkpoint])"
   ]
  },
  {
   "cell_type": "code",
   "execution_count": 17,
   "metadata": {},
   "outputs": [
    {
     "name": "stdout",
     "output_type": "stream",
     "text": [
      "Model: \"sequential\"\n",
      "_________________________________________________________________\n",
      " Layer (type)                Output Shape              Param #   \n",
      "=================================================================\n",
      " conv2d (Conv2D)             (None, 62, 62, 26)        728       \n",
      "                                                                 \n",
      " batch_normalization (BatchN  (None, 62, 62, 26)       104       \n",
      " ormalization)                                                   \n",
      "                                                                 \n",
      " max_pooling2d (MaxPooling2D  (None, 31, 31, 26)       0         \n",
      " )                                                               \n",
      "                                                                 \n",
      " dropout (Dropout)           (None, 31, 31, 26)        0         \n",
      "                                                                 \n",
      " conv2d_1 (Conv2D)           (None, 29, 29, 26)        6110      \n",
      "                                                                 \n",
      " batch_normalization_1 (Batc  (None, 29, 29, 26)       104       \n",
      " hNormalization)                                                 \n",
      "                                                                 \n",
      " max_pooling2d_1 (MaxPooling  (None, 14, 14, 26)       0         \n",
      " 2D)                                                             \n",
      "                                                                 \n",
      " dropout_1 (Dropout)         (None, 14, 14, 26)        0         \n",
      "                                                                 \n",
      " conv2d_2 (Conv2D)           (None, 12, 12, 26)        6110      \n",
      "                                                                 \n",
      " batch_normalization_2 (Batc  (None, 12, 12, 26)       104       \n",
      " hNormalization)                                                 \n",
      "                                                                 \n",
      " max_pooling2d_2 (MaxPooling  (None, 6, 6, 26)         0         \n",
      " 2D)                                                             \n",
      "                                                                 \n",
      " dropout_2 (Dropout)         (None, 6, 6, 26)          0         \n",
      "                                                                 \n",
      " global_average_pooling2d (G  (None, 26)               0         \n",
      " lobalAveragePooling2D)                                          \n",
      "                                                                 \n",
      " dropout_3 (Dropout)         (None, 26)                0         \n",
      "                                                                 \n",
      " dense (Dense)               (None, 1000)              27000     \n",
      "                                                                 \n",
      "=================================================================\n",
      "Total params: 40,260\n",
      "Trainable params: 40,104\n",
      "Non-trainable params: 156\n",
      "_________________________________________________________________\n"
     ]
    }
   ],
   "source": [
    "# view optimized model\n",
    "model = tuner.get_best_models()[0]\n",
    "model.summary()"
   ]
  },
  {
   "cell_type": "code",
   "execution_count": 18,
   "metadata": {},
   "outputs": [
    {
     "name": "stdout",
     "output_type": "stream",
     "text": [
      "Results summary\n",
      "Results in C:/Users/RoiMinuit/Desktop/data/ILSVRC/tuning_res/kt\\ImgNetOptimization\n",
      "Showing 10 best trials\n",
      "Objective(name=\"val_accuracy\", direction=\"max\")\n",
      "\n",
      "Trial 0 summary\n",
      "Hyperparameters:\n",
      "filters: 26\n",
      "activation: linear\n",
      "drop_rate: 0.02564157347582032\n",
      "num_layers: 2\n",
      "learning_rate: 0.000431016246398187\n",
      "Score: 0.0\n",
      "\n",
      "Trial 1 summary\n",
      "Hyperparameters:\n",
      "filters: 52\n",
      "activation: linear\n",
      "drop_rate: 0.08159908015346169\n",
      "num_layers: 1\n",
      "learning_rate: 0.014202286288245908\n",
      "Score: 0.0\n"
     ]
    }
   ],
   "source": [
    "tuner.results_summary()"
   ]
  }
 ],
 "metadata": {
  "kernelspec": {
   "display_name": "tf",
   "language": "python",
   "name": "python3"
  },
  "language_info": {
   "codemirror_mode": {
    "name": "ipython",
    "version": 3
   },
   "file_extension": ".py",
   "mimetype": "text/x-python",
   "name": "python",
   "nbconvert_exporter": "python",
   "pygments_lexer": "ipython3",
   "version": "3.9.21"
  }
 },
 "nbformat": 4,
 "nbformat_minor": 2
}
