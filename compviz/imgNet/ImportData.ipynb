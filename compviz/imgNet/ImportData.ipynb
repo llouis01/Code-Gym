{
 "cells": [
  {
   "cell_type": "markdown",
   "metadata": {},
   "source": [
    "## Import Data Into Project ##"
   ]
  },
  {
   "cell_type": "code",
   "execution_count": 1,
   "metadata": {},
   "outputs": [
    {
     "name": "stdout",
     "output_type": "stream",
     "text": [
      "Requirement already satisfied: opencv-python in c:\\users\\roiminuit\\anaconda3\\envs\\cv\\lib\\site-packages (4.9.0.80)\n",
      "Requirement already satisfied: numpy>=1.17.0 in c:\\users\\roiminuit\\anaconda3\\envs\\cv\\lib\\site-packages (from opencv-python) (1.21.6)\n",
      "Note: you may need to restart the kernel to use updated packages.\n"
     ]
    }
   ],
   "source": [
    "# Import libraries\n",
    "import os\n",
    "import random\n",
    "from PIL import Image\n",
    "from pathlib import Path\n",
    "import cv2\n",
    "import numpy as np\n",
    "import time\n",
    "\n",
    "# Install opencv-python package\n",
    "%pip install opencv-python"
   ]
  },
  {
   "cell_type": "code",
   "execution_count": 5,
   "metadata": {},
   "outputs": [],
   "source": [
    "# paths for data\n",
    "\n",
    "train_dir = \"C:/Users/RoiMinuit/Desktop/data/ILSVRC/Data/CLS-LOC/train\"\n",
    "test_dir = \"C:/Users/RoiMinuit/Desktop/data/ILSVRC/Data/CLS-LOC/val\"\n",
    "val_dir = \"C:/Users/RoiMinuit/Desktop/data/ILSVRC/Data/CLS-LOC/test\"\n",
    "\n"
   ]
  },
  {
   "cell_type": "code",
   "execution_count": 12,
   "metadata": {},
   "outputs": [],
   "source": [
    "# funcs to import images\n",
    "\n",
    "def process_image_batches(img_paths, processed_images):\n",
    "    \"\"\" Import images from the specified directory \"\"\"\n",
    "    \n",
    "    for img_path in img_paths:\n",
    "        img = cv2.imread(img_path)\n",
    "        img = cv2.resize(img, (224, 224))\n",
    "        img = cv2.cvtColor(img, cv2.COLOR_BGR2GRAY)\n",
    "        img = np.expand_dims(img, axis=2)\n",
    "        img = img / 255.0\n",
    "        processed_images.append(img)\n",
    "\n",
    "def import_and_process_images(img_dir, batch_size = int):\n",
    "    \"\"\" Import images from the specified directory \"\"\"\n",
    "    start = time.time()\n",
    "    processed_images = []\n",
    "    img_paths = []\n",
    "\n",
    "    for root, dirs, files in os.walk(img_dir):\n",
    "            for file in files:\n",
    "                if file.endswith(\".JPEG\"):\n",
    "                     img_paths.append(os.path.join(root, file))\n",
    "\n",
    "                     if len(img_paths) == batch_size:\n",
    "                          random.shuffle(img_paths)\n",
    "                          process_image_batches(img_paths, processed_images)\n",
    "                          break\n",
    "                          \n",
    "    end = time.time()\n",
    "    print(f\"The function took {round(end - start)} seconds to run.\")\n",
    "    return processed_images\n"
   ]
  },
  {
   "cell_type": "code",
   "execution_count": null,
   "metadata": {},
   "outputs": [],
   "source": [
    "# import images\n",
    "\n",
    "train_images = import_and_process_images(train_dir, batch_size = 20000)\n",
    "test_images = import_and_process_images(test_dir, batch_size = 5000)\n",
    "val_images = import_and_process_images(val_dir, batch_size = 5000)\n"
   ]
  }
 ],
 "metadata": {
  "kernelspec": {
   "display_name": "cv",
   "language": "python",
   "name": "python3"
  },
  "language_info": {
   "codemirror_mode": {
    "name": "ipython",
    "version": 3
   },
   "file_extension": ".py",
   "mimetype": "text/x-python",
   "name": "python",
   "nbconvert_exporter": "python",
   "pygments_lexer": "ipython3",
   "version": "3.7.1"
  }
 },
 "nbformat": 4,
 "nbformat_minor": 2
}
