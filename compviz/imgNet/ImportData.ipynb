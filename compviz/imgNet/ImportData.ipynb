{
 "cells": [
  {
   "cell_type": "markdown",
   "metadata": {},
   "source": [
    "## Import Data Into Project ##"
   ]
  },
  {
   "cell_type": "code",
   "execution_count": 10,
   "metadata": {},
   "outputs": [],
   "source": [
    "# Import libraries\n",
    "import os\n",
    "import random\n",
    "from PIL import Image\n",
    "from pathlib import Path\n",
    "import matplotlib.pyplot as plt"
   ]
  },
  {
   "cell_type": "code",
   "execution_count": null,
   "metadata": {},
   "outputs": [],
   "source": [
    "# paths for data and processed images\n",
    "\n",
    "train_dir = \"C:/Users/RoiMinuit/Desktop/data/ILSVRC/Data/CLS-LOC/train\"\n",
    "test_dir = \"C:/Users/RoiMinuit/Desktop/data/ILSVRC/Data/CLS-LOC/val\"\n",
    "val_dir = \"C:/Users/RoiMinuit/Desktop/data/ILSVRC/Data/CLS-LOC/test\"\n",
    "\n",
    "train_images, test_images, val_images = [], [], []\n"
   ]
  },
  {
   "cell_type": "code",
   "execution_count": 16,
   "metadata": {},
   "outputs": [],
   "source": [
    "# funcs to import images\n",
    "\n",
    "def process_image_batches(img_paths, processed_images):\n",
    "    \"\"\" Import images from the specified directory \"\"\"\n",
    "    \n",
    "    for img_path in img_paths:\n",
    "        with Image.open(img_path) as img:\n",
    "            processed_images.append(img.copy())\n",
    "\n",
    "def import_and_process_images(img_dir, batch_size = 1000):\n",
    "    \"\"\" Import images from the specified directory \"\"\"\n",
    "    processed_images = []\n",
    "    img_paths = []\n",
    "\n",
    "    for root, dirs, files in os.walk(img_dir):\n",
    "            for file in files:\n",
    "                if file.endswith(\".JPEG\"):\n",
    "                     img_paths.append(os.path.join(root, file))\n",
    "\n",
    "                     if len(img_paths) == batch_size:\n",
    "                          process_image_batches(img_paths, processed_images)\n",
    "                          img_paths = []\n",
    "\n",
    "    if img_paths:\n",
    "        process_image_batches(img_paths, processed_images)\n",
    "\n",
    "    return processed_images\n"
   ]
  },
  {
   "cell_type": "code",
   "execution_count": null,
   "metadata": {},
   "outputs": [],
   "source": [
    "train_images = import_and_process_images(train_dir, batch_size = 1000)"
   ]
  }
 ],
 "metadata": {
  "kernelspec": {
   "display_name": "cv",
   "language": "python",
   "name": "python3"
  },
  "language_info": {
   "codemirror_mode": {
    "name": "ipython",
    "version": 3
   },
   "file_extension": ".py",
   "mimetype": "text/x-python",
   "name": "python",
   "nbconvert_exporter": "python",
   "pygments_lexer": "ipython3",
   "version": "3.7.1"
  }
 },
 "nbformat": 4,
 "nbformat_minor": 2
}
