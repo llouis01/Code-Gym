{
 "cells": [
  {
   "cell_type": "code",
   "execution_count": 3,
   "id": "f6475741",
   "metadata": {},
   "outputs": [
    {
     "data": {
      "text/plain": [
       "'C:\\\\spark\\\\spark-3.2.4-bin-hadoop2.7'"
      ]
     },
     "execution_count": 3,
     "metadata": {},
     "output_type": "execute_result"
    }
   ],
   "source": [
    "import pyspark\n",
    "import findspark\n",
    "findspark.init()\n",
    "import pandas as pd\n",
    "from pyspark import SparkContext\n",
    "from pyspark.sql import SparkSession\n",
    "from pyspark.sql import functions as F, types as T\n",
    "from pyspark.sql import Row\n",
    "findspark.find()"
   ]
  },
  {
   "cell_type": "code",
   "execution_count": 4,
   "id": "86b46111",
   "metadata": {},
   "outputs": [],
   "source": [
    "# spark session\n",
    "sc = SparkContext('local', 'calif-coll')\n",
    "spark = SparkSession(sc)\n",
    "#sc.close()"
   ]
  },
  {
   "cell_type": "code",
   "execution_count": 5,
   "id": "c6bd56bb",
   "metadata": {},
   "outputs": [],
   "source": [
    "file = \"C:/Users/RoiMinuit/Desktop/huge_data/switrs_raw_csvs/20210604/CollisionRecords.txt\""
   ]
  },
  {
   "cell_type": "code",
   "execution_count": 8,
   "id": "8723b7a2",
   "metadata": {},
   "outputs": [],
   "source": [
    "df = spark.read.csv(path, header=True)"
   ]
  },
  {
   "cell_type": "code",
   "execution_count": 9,
   "id": "30629dc4",
   "metadata": {},
   "outputs": [
    {
     "name": "stdout",
     "output_type": "stream",
     "text": [
      "+-------+-------------+---------+-----+--------------+--------------+----------+------------------+-----------+---------+----------+-------------+------------+---------+-------------+------------------+--------------+-----------+------------+------------+--------+---------+------------+---------+---------+-------------+---------------+-----------------+-----------+------------+---------------+--------+-------------+-----------------+-----------+--------+------------------+-------------+--------------+-----------+-------------------+----------------+-----------------+-------------+-------------------+-----------+-----------------+----+----------+------------+-----------+-----------+--------+--------------+-------------+-------------------+----------------+-------------------+--------------+--------------------+----------------+---------------------+--------------------+----------------+-----------------+--------------------+----------------+-----------------+----------------------+-----------------------+---------------+----------------+------------+--------------+--------+---------+\n",
      "|CASE_ID|ACCIDENT_YEAR|PROC_DATE|JURIS|COLLISION_DATE|COLLISION_TIME|OFFICER_ID|REPORTING_DISTRICT|DAY_OF_WEEK|CHP_SHIFT|POPULATION|CNTY_CITY_LOC|SPECIAL_COND|BEAT_TYPE|CHP_BEAT_TYPE|CITY_DIVISION_LAPD|CHP_BEAT_CLASS|BEAT_NUMBER|  PRIMARY_RD|SECONDARY_RD|DISTANCE|DIRECTION|INTERSECTION|WEATHER_1|WEATHER_2|STATE_HWY_IND|CALTRANS_COUNTY|CALTRANS_DISTRICT|STATE_ROUTE|ROUTE_SUFFIX|POSTMILE_PREFIX|POSTMILE|LOCATION_TYPE|RAMP_INTERSECTION|SIDE_OF_HWY|TOW_AWAY|COLLISION_SEVERITY|NUMBER_KILLED|NUMBER_INJURED|PARTY_COUNT|PRIMARY_COLL_FACTOR|PCF_CODE_OF_VIOL|PCF_VIOL_CATEGORY|PCF_VIOLATION|PCF_VIOL_SUBSECTION|HIT_AND_RUN|TYPE_OF_COLLISION|MVIW|PED_ACTION|ROAD_SURFACE|ROAD_COND_1|ROAD_COND_2|LIGHTING|CONTROL_DEVICE|CHP_ROAD_TYPE|PEDESTRIAN_ACCIDENT|BICYCLE_ACCIDENT|MOTORCYCLE_ACCIDENT|TRUCK_ACCIDENT|NOT_PRIVATE_PROPERTY|ALCOHOL_INVOLVED|STWD_VEHTYPE_AT_FAULT|CHP_VEHTYPE_AT_FAULT|COUNT_SEVERE_INJ|COUNT_VISIBLE_INJ|COUNT_COMPLAINT_PAIN|COUNT_PED_KILLED|COUNT_PED_INJURED|COUNT_BICYCLIST_KILLED|COUNT_BICYCLIST_INJURED|COUNT_MC_KILLED|COUNT_MC_INJURED|PRIMARY_RAMP|SECONDARY_RAMP|LATITUDE|LONGITUDE|\n",
      "+-------+-------------+---------+-----+--------------+--------------+----------+------------------+-----------+---------+----------+-------------+------------+---------+-------------+------------------+--------------+-----------+------------+------------+--------+---------+------------+---------+---------+-------------+---------------+-----------------+-----------+------------+---------------+--------+-------------+-----------------+-----------+--------+------------------+-------------+--------------+-----------+-------------------+----------------+-----------------+-------------+-------------------+-----------+-----------------+----+----------+------------+-----------+-----------+--------+--------------+-------------+-------------------+----------------+-------------------+--------------+--------------------+----------------+---------------------+--------------------+----------------+-----------------+--------------------+----------------+-----------------+----------------------+-----------------------+---------------+----------------+------------+--------------+--------+---------+\n",
      "|0081715|         2020| 20200622| 1941|      20200314|          0745|     11342|               212|          6|        5|         7|         1941|           0|        0|            0|              null|             0|        003|PATTERSON ST| ATLANTIC AV|    0.00|     null|           Y|        B|        -|            N|           null|             null|       null|        null|           null|    null|         null|             null|       null|       Y|                 0|            0|             0|          2|                  A|               -|               03|        22350|               null|          N|                C|   C|         A|           A|          H|          -|       A|             D|            0|               null|            null|               null|          null|                   Y|            null|                    -|                null|               0|                0|                   0|               0|                0|                     0|                      0|              0|               0|           -|             -|    null|     null|\n",
      "|0726202|         2020| 20200930| 3600|      20200726|          0250|      8945|               064|          7|        5|         5|         3612|           0|        0|            0|              null|             0|        005|    AMARGOSA| MARICOPA RD|    0.00|     null|           -|        A|        -|            N|           null|             null|       null|        null|           null|    null|         null|             null|       null|       Y|                 0|            0|             0|          1|                  A|               -|               03|        22350|               null|          M|                E|   I|         A|           A|          H|          -|       C|             D|            0|               null|            null|               null|          null|                   Y|            null|                    A|                  01|               0|                0|                   0|               0|                0|                     0|                      0|              0|               0|           -|             -|    null|     null|\n",
      "|3858022|         2009| 20090427| 1005|      20090203|          1711|      P379|                2C|          2|        5|         7|         1005|           0|        0|            0|              null|             0|       2257|      1ST ST|EAST CLINTON|    0.00|     null|           Y|        A|        -|            N|           null|             null|       null|        null|           null|    null|         null|             null|       null|    null|                 0|            0|             0|          2|                  B|               -|               22|         null|               null|          N|                C|   C|         A|           A|          H|          -|       A|             A|            0|               null|            null|               null|          null|                   Y|            null|                    J|                  48|               0|                0|                   0|               0|                0|                     0|                      0|              0|               0|           -|             -|    null|     null|\n",
      "|3899441|         2009| 20091102| 9120|      20090228|          0145|     17248|              null|          6|        3|         2|         0801|           0|        1|            2|              null|             2|        005|      RT 101| RUDISILL RD| 8976.00|        N|           N|        A|        -|            Y|             DN|                1|        101|           -|              -|  15.470|            H|                -|          S|       Y|                 0|            0|             0|          1|                  A|               -|               08|        22107|               null|          N|                E|   I|         A|           A|          H|          -|       D|             D|            0|               null|            null|               null|          null|                   Y|            null|                    A|                  01|               0|                0|                   0|               0|                0|                     0|                      0|              0|               0|           -|             -|    null|     null|\n",
      "|3899442|         2009| 20100114| 9530|      20090209|          1020|     19005|              null|          1|        1|         7|         1942|           0|        1|            1|              null|             2|        110|      RT 110|       RT 91| 2111.00|        S|           N|        C|        -|            Y|             LA|                7|        110|           -|              -|   9.310|            H|                -|          S|       N|                 0|            0|             0|          2|                  A|               -|               03|        22350|               null|          N|                B|   C|         A|           B|          H|          -|       A|             D|            1|               null|            null|               null|          null|                   Y|            null|                    A|                  01|               0|                0|                   0|               0|                0|                     0|                      0|              0|               0|           -|             -|33.86465|118.28533|\n",
      "+-------+-------------+---------+-----+--------------+--------------+----------+------------------+-----------+---------+----------+-------------+------------+---------+-------------+------------------+--------------+-----------+------------+------------+--------+---------+------------+---------+---------+-------------+---------------+-----------------+-----------+------------+---------------+--------+-------------+-----------------+-----------+--------+------------------+-------------+--------------+-----------+-------------------+----------------+-----------------+-------------+-------------------+-----------+-----------------+----+----------+------------+-----------+-----------+--------+--------------+-------------+-------------------+----------------+-------------------+--------------+--------------------+----------------+---------------------+--------------------+----------------+-----------------+--------------------+----------------+-----------------+----------------------+-----------------------+---------------+----------------+------------+--------------+--------+---------+\n",
      "only showing top 5 rows\n",
      "\n"
     ]
    }
   ],
   "source": [
    "df.show(5)"
   ]
  }
 ],
 "metadata": {
  "kernelspec": {
   "display_name": "SparkEnv2",
   "language": "python",
   "name": "sparkenv2"
  },
  "language_info": {
   "codemirror_mode": {
    "name": "ipython",
    "version": 3
   },
   "file_extension": ".py",
   "mimetype": "text/x-python",
   "name": "python",
   "nbconvert_exporter": "python",
   "pygments_lexer": "ipython3",
   "version": "3.11.5"
  }
 },
 "nbformat": 4,
 "nbformat_minor": 5
}
